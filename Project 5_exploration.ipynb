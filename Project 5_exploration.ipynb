{
 "cells": [
  {
   "cell_type": "markdown",
   "id": "8495e17e",
   "metadata": {},
   "source": [
    "# Customer segmentation of the Olist E-Commerce site"
   ]
  },
  {
   "cell_type": "markdown",
   "id": "59869025",
   "metadata": {},
   "source": [
    "## Context\n",
    " - Olist is the largest e-commerce platform in Brazilian online marketplaces which connects and offers a solution for buying and selling on online. \n",
    " - Olist wants to obtain a segmentation of its customers that their marketing team can use in their daily communication campaigns. \n",
    " - The dataset provided by Olist has information of ~100k customers and sellers from 2016 to 2018 made at multiple marketplaces. "
   ]
  },
  {
   "cell_type": "markdown",
   "id": "a12e49a0",
   "metadata": {},
   "source": [
    "## Goal:\n",
    " - To understand the different types of users through their behavior and anonymized personal data."
   ]
  },
  {
   "cell_type": "markdown",
   "id": "5e574a2c",
   "metadata": {},
   "source": [
    "## Objectives:\n",
    " My mission is to to help Olist teams understand the different types of users. Thus, I will use unsupervised methods to:\n",
    " - provide an actionable description of segmentation and its underlying logic for optimal use. \n",
    " - provide an analysis of the stability of the segments over time in order to establish a maintenance contract.\n",
    " - group together customers with similar profiles that can be used by the marketing team for better communication."
   ]
  },
  {
   "cell_type": "markdown",
   "id": "ecf0f9bc",
   "metadata": {},
   "source": [
    "### Part 1\n",
    " - **Data preparation and cleaning, exploratory analyses, and feature engineering**"
   ]
  },
  {
   "cell_type": "markdown",
   "id": "f3b55187",
   "metadata": {},
   "source": [
    "## 1.0 Import Libraries"
   ]
  },
  {
   "cell_type": "code",
   "execution_count": 1,
   "id": "f1b8c1f2",
   "metadata": {},
   "outputs": [],
   "source": [
    "# import libraries for data manipulation and visualization\n",
    "\n",
    "import pandas as pd # for data loading, manipulation, and exploration\n",
    "import numpy as np # for linear algebra/vector arithmetic\n",
    "from datetime import datetime as dt # Handling dates and timestamps\n",
    "\n",
    "# statistical data visualization\n",
    "import matplotlib.pyplot as plt \n",
    "import seaborn as sns \n",
    "\n",
    "import scipy.stats as st \n",
    "from math import radians, cos, sin, asin, sqrt\n",
    "\n",
    "from sklearn.metrics.pairwise import haversine_distances\n",
    "\n",
    "# allow plot to appear within the notebook\n",
    "%matplotlib inline \n",
    "\n",
    "import warnings\n",
    "warnings.filterwarnings('ignore')"
   ]
  },
  {
   "cell_type": "markdown",
   "id": "bb593e5b",
   "metadata": {},
   "source": [
    "## 2.0 Load and read datasets"
   ]
  },
  {
   "cell_type": "markdown",
   "id": "f46020c3",
   "metadata": {},
   "source": [
    "#### 2.1 Loading of the datasets"
   ]
  },
  {
   "cell_type": "code",
   "execution_count": 2,
   "id": "e9a6efbf",
   "metadata": {},
   "outputs": [],
   "source": [
    "# Read datasets into dataframes\n",
    "Customers = pd.read_csv('olist_customers_dataset.csv')\n",
    "Geolocation = pd.read_csv('olist_geolocation_dataset.csv')\n",
    "Items = pd.read_csv('olist_order_items_dataset.csv')\n",
    "Payments = pd.read_csv('olist_order_payments_dataset.csv')\n",
    "Reviews = pd.read_csv('olist_order_reviews_dataset.csv')\n",
    "Products = pd.read_csv('olist_products_dataset.csv', engine='python')\n",
    "Sellers = pd.read_csv('olist_sellers_dataset.csv')\n",
    "Product_category = pd.read_csv('product_category_name_translation.csv')\n",
    "Orders = pd.read_csv('olist_orders_dataset.csv')"
   ]
  },
  {
   "cell_type": "markdown",
   "id": "1ae52529",
   "metadata": {},
   "source": [
    "#### 2.2 Display the top five rows of each dataset and check qualities of the datasets"
   ]
  },
  {
   "cell_type": "markdown",
   "id": "aa8ad357",
   "metadata": {},
   "source": [
    "#### 2.2.1 Customers"
   ]
  },
  {
   "cell_type": "code",
   "execution_count": 3,
   "id": "a7e0db39",
   "metadata": {},
   "outputs": [
    {
     "data": {
      "text/html": [
       "<div>\n",
       "<style scoped>\n",
       "    .dataframe tbody tr th:only-of-type {\n",
       "        vertical-align: middle;\n",
       "    }\n",
       "\n",
       "    .dataframe tbody tr th {\n",
       "        vertical-align: top;\n",
       "    }\n",
       "\n",
       "    .dataframe thead th {\n",
       "        text-align: right;\n",
       "    }\n",
       "</style>\n",
       "<table border=\"1\" class=\"dataframe\">\n",
       "  <thead>\n",
       "    <tr style=\"text-align: right;\">\n",
       "      <th></th>\n",
       "      <th>customer_id</th>\n",
       "      <th>customer_unique_id</th>\n",
       "      <th>customer_zip_code_prefix</th>\n",
       "      <th>customer_city</th>\n",
       "      <th>customer_state</th>\n",
       "    </tr>\n",
       "  </thead>\n",
       "  <tbody>\n",
       "    <tr>\n",
       "      <th>0</th>\n",
       "      <td>06b8999e2fba1a1fbc88172c00ba8bc7</td>\n",
       "      <td>861eff4711a542e4b93843c6dd7febb0</td>\n",
       "      <td>14409</td>\n",
       "      <td>franca</td>\n",
       "      <td>SP</td>\n",
       "    </tr>\n",
       "    <tr>\n",
       "      <th>1</th>\n",
       "      <td>18955e83d337fd6b2def6b18a428ac77</td>\n",
       "      <td>290c77bc529b7ac935b93aa66c333dc3</td>\n",
       "      <td>9790</td>\n",
       "      <td>sao bernardo do campo</td>\n",
       "      <td>SP</td>\n",
       "    </tr>\n",
       "    <tr>\n",
       "      <th>2</th>\n",
       "      <td>4e7b3e00288586ebd08712fdd0374a03</td>\n",
       "      <td>060e732b5b29e8181a18229c7b0b2b5e</td>\n",
       "      <td>1151</td>\n",
       "      <td>sao paulo</td>\n",
       "      <td>SP</td>\n",
       "    </tr>\n",
       "    <tr>\n",
       "      <th>3</th>\n",
       "      <td>b2b6027bc5c5109e529d4dc6358b12c3</td>\n",
       "      <td>259dac757896d24d7702b9acbbff3f3c</td>\n",
       "      <td>8775</td>\n",
       "      <td>mogi das cruzes</td>\n",
       "      <td>SP</td>\n",
       "    </tr>\n",
       "    <tr>\n",
       "      <th>4</th>\n",
       "      <td>4f2d8ab171c80ec8364f7c12e35b23ad</td>\n",
       "      <td>345ecd01c38d18a9036ed96c73b8d066</td>\n",
       "      <td>13056</td>\n",
       "      <td>campinas</td>\n",
       "      <td>SP</td>\n",
       "    </tr>\n",
       "  </tbody>\n",
       "</table>\n",
       "</div>"
      ],
      "text/plain": [
       "                        customer_id                customer_unique_id  \\\n",
       "0  06b8999e2fba1a1fbc88172c00ba8bc7  861eff4711a542e4b93843c6dd7febb0   \n",
       "1  18955e83d337fd6b2def6b18a428ac77  290c77bc529b7ac935b93aa66c333dc3   \n",
       "2  4e7b3e00288586ebd08712fdd0374a03  060e732b5b29e8181a18229c7b0b2b5e   \n",
       "3  b2b6027bc5c5109e529d4dc6358b12c3  259dac757896d24d7702b9acbbff3f3c   \n",
       "4  4f2d8ab171c80ec8364f7c12e35b23ad  345ecd01c38d18a9036ed96c73b8d066   \n",
       "\n",
       "   customer_zip_code_prefix          customer_city customer_state  \n",
       "0                     14409                 franca             SP  \n",
       "1                      9790  sao bernardo do campo             SP  \n",
       "2                      1151              sao paulo             SP  \n",
       "3                      8775        mogi das cruzes             SP  \n",
       "4                     13056               campinas             SP  "
      ]
     },
     "execution_count": 3,
     "metadata": {},
     "output_type": "execute_result"
    }
   ],
   "source": [
    "# view the first 5 rows of the dataset\n",
    "Customers.head()"
   ]
  },
  {
   "cell_type": "code",
   "execution_count": 4,
   "id": "6ca87744",
   "metadata": {},
   "outputs": [
    {
     "name": "stdout",
     "output_type": "stream",
     "text": [
      "<class 'pandas.core.frame.DataFrame'>\n",
      "RangeIndex: 99441 entries, 0 to 99440\n",
      "Data columns (total 5 columns):\n",
      " #   Column                    Non-Null Count  Dtype \n",
      "---  ------                    --------------  ----- \n",
      " 0   customer_id               99441 non-null  object\n",
      " 1   customer_unique_id        99441 non-null  object\n",
      " 2   customer_zip_code_prefix  99441 non-null  int64 \n",
      " 3   customer_city             99441 non-null  object\n",
      " 4   customer_state            99441 non-null  object\n",
      "dtypes: int64(1), object(4)\n",
      "memory usage: 3.8+ MB\n"
     ]
    }
   ],
   "source": [
    "# General overview of the dataset\n",
    "Customers.info()"
   ]
  },
  {
   "cell_type": "markdown",
   "id": "d4bf570d",
   "metadata": {},
   "source": [
    "The customers dataset:\n",
    "  - contains 99441 rows and 5 columns\n",
    "  - does not contain any missing value"
   ]
  },
  {
   "cell_type": "code",
   "execution_count": 5,
   "id": "efb0ef75",
   "metadata": {},
   "outputs": [
    {
     "name": "stdout",
     "output_type": "stream",
     "text": [
      "Number of duplicated rows:0\n"
     ]
    }
   ],
   "source": [
    "# check for duplicated rows\n",
    "print(f\"Number of duplicated rows:{Customers.duplicated().sum()}\")"
   ]
  },
  {
   "cell_type": "code",
   "execution_count": 6,
   "id": "2684cf7a",
   "metadata": {},
   "outputs": [
    {
     "name": "stdout",
     "output_type": "stream",
     "text": [
      "Number of unique values in each variable: \n",
      "customer_id                 99441\n",
      "customer_unique_id          96096\n",
      "customer_zip_code_prefix    14994\n",
      "customer_city                4119\n",
      "customer_state                 27\n",
      "dtype: int64\n"
     ]
    }
   ],
   "source": [
    "# Check for unique values\n",
    "print(f\"Number of unique values in each variable: \\n{Customers.nunique()}\")"
   ]
  },
  {
   "cell_type": "markdown",
   "id": "d206baef",
   "metadata": {},
   "source": [
    " - The customers dataset contains 96096 unique customers with 99441 transactions from 27 states and 4119 cities"
   ]
  },
  {
   "cell_type": "markdown",
   "id": "4643c3a4",
   "metadata": {},
   "source": [
    "#### 2.2.2 Geolocation"
   ]
  },
  {
   "cell_type": "code",
   "execution_count": 7,
   "id": "1454705b",
   "metadata": {},
   "outputs": [
    {
     "data": {
      "text/html": [
       "<div>\n",
       "<style scoped>\n",
       "    .dataframe tbody tr th:only-of-type {\n",
       "        vertical-align: middle;\n",
       "    }\n",
       "\n",
       "    .dataframe tbody tr th {\n",
       "        vertical-align: top;\n",
       "    }\n",
       "\n",
       "    .dataframe thead th {\n",
       "        text-align: right;\n",
       "    }\n",
       "</style>\n",
       "<table border=\"1\" class=\"dataframe\">\n",
       "  <thead>\n",
       "    <tr style=\"text-align: right;\">\n",
       "      <th></th>\n",
       "      <th>geolocation_zip_code_prefix</th>\n",
       "      <th>geolocation_lat</th>\n",
       "      <th>geolocation_lng</th>\n",
       "      <th>geolocation_city</th>\n",
       "      <th>geolocation_state</th>\n",
       "    </tr>\n",
       "  </thead>\n",
       "  <tbody>\n",
       "    <tr>\n",
       "      <th>0</th>\n",
       "      <td>1037</td>\n",
       "      <td>-23.545621</td>\n",
       "      <td>-46.639292</td>\n",
       "      <td>sao paulo</td>\n",
       "      <td>SP</td>\n",
       "    </tr>\n",
       "    <tr>\n",
       "      <th>1</th>\n",
       "      <td>1046</td>\n",
       "      <td>-23.546081</td>\n",
       "      <td>-46.644820</td>\n",
       "      <td>sao paulo</td>\n",
       "      <td>SP</td>\n",
       "    </tr>\n",
       "    <tr>\n",
       "      <th>2</th>\n",
       "      <td>1046</td>\n",
       "      <td>-23.546129</td>\n",
       "      <td>-46.642951</td>\n",
       "      <td>sao paulo</td>\n",
       "      <td>SP</td>\n",
       "    </tr>\n",
       "    <tr>\n",
       "      <th>3</th>\n",
       "      <td>1041</td>\n",
       "      <td>-23.544392</td>\n",
       "      <td>-46.639499</td>\n",
       "      <td>sao paulo</td>\n",
       "      <td>SP</td>\n",
       "    </tr>\n",
       "    <tr>\n",
       "      <th>4</th>\n",
       "      <td>1035</td>\n",
       "      <td>-23.541578</td>\n",
       "      <td>-46.641607</td>\n",
       "      <td>sao paulo</td>\n",
       "      <td>SP</td>\n",
       "    </tr>\n",
       "  </tbody>\n",
       "</table>\n",
       "</div>"
      ],
      "text/plain": [
       "   geolocation_zip_code_prefix  geolocation_lat  geolocation_lng  \\\n",
       "0                         1037       -23.545621       -46.639292   \n",
       "1                         1046       -23.546081       -46.644820   \n",
       "2                         1046       -23.546129       -46.642951   \n",
       "3                         1041       -23.544392       -46.639499   \n",
       "4                         1035       -23.541578       -46.641607   \n",
       "\n",
       "  geolocation_city geolocation_state  \n",
       "0        sao paulo                SP  \n",
       "1        sao paulo                SP  \n",
       "2        sao paulo                SP  \n",
       "3        sao paulo                SP  \n",
       "4        sao paulo                SP  "
      ]
     },
     "execution_count": 7,
     "metadata": {},
     "output_type": "execute_result"
    }
   ],
   "source": [
    "Geolocation.head()"
   ]
  },
  {
   "cell_type": "code",
   "execution_count": 8,
   "id": "bc2a4351",
   "metadata": {
    "scrolled": false
   },
   "outputs": [
    {
     "name": "stdout",
     "output_type": "stream",
     "text": [
      "<class 'pandas.core.frame.DataFrame'>\n",
      "RangeIndex: 1000163 entries, 0 to 1000162\n",
      "Data columns (total 5 columns):\n",
      " #   Column                       Non-Null Count    Dtype  \n",
      "---  ------                       --------------    -----  \n",
      " 0   geolocation_zip_code_prefix  1000163 non-null  int64  \n",
      " 1   geolocation_lat              1000163 non-null  float64\n",
      " 2   geolocation_lng              1000163 non-null  float64\n",
      " 3   geolocation_city             1000163 non-null  object \n",
      " 4   geolocation_state            1000163 non-null  object \n",
      "dtypes: float64(2), int64(1), object(2)\n",
      "memory usage: 38.2+ MB\n"
     ]
    }
   ],
   "source": [
    "Geolocation.info()"
   ]
  },
  {
   "cell_type": "markdown",
   "id": "6cdbe7ed",
   "metadata": {},
   "source": [
    "The geolocation dataset:\n",
    " - contains 1000163 rows and 5 columns\n",
    " - does not contain any missing value"
   ]
  },
  {
   "cell_type": "code",
   "execution_count": 9,
   "id": "c01de927",
   "metadata": {},
   "outputs": [
    {
     "data": {
      "text/plain": [
       "geolocation_zip_code_prefix     19015\n",
       "geolocation_lat                717360\n",
       "geolocation_lng                717613\n",
       "geolocation_city                 8011\n",
       "geolocation_state                  27\n",
       "dtype: int64"
      ]
     },
     "execution_count": 9,
     "metadata": {},
     "output_type": "execute_result"
    }
   ],
   "source": [
    "Geolocation.nunique()"
   ]
  },
  {
   "cell_type": "code",
   "execution_count": 10,
   "id": "9792781f",
   "metadata": {},
   "outputs": [
    {
     "data": {
      "text/plain": [
       "261831"
      ]
     },
     "execution_count": 10,
     "metadata": {},
     "output_type": "execute_result"
    }
   ],
   "source": [
    "Geolocation.duplicated().sum()"
   ]
  },
  {
   "cell_type": "markdown",
   "id": "0ba6057c",
   "metadata": {},
   "source": [
    "#### 2.2.3 Items"
   ]
  },
  {
   "cell_type": "code",
   "execution_count": 11,
   "id": "00dae780",
   "metadata": {},
   "outputs": [
    {
     "data": {
      "text/html": [
       "<div>\n",
       "<style scoped>\n",
       "    .dataframe tbody tr th:only-of-type {\n",
       "        vertical-align: middle;\n",
       "    }\n",
       "\n",
       "    .dataframe tbody tr th {\n",
       "        vertical-align: top;\n",
       "    }\n",
       "\n",
       "    .dataframe thead th {\n",
       "        text-align: right;\n",
       "    }\n",
       "</style>\n",
       "<table border=\"1\" class=\"dataframe\">\n",
       "  <thead>\n",
       "    <tr style=\"text-align: right;\">\n",
       "      <th></th>\n",
       "      <th>order_id</th>\n",
       "      <th>order_item_id</th>\n",
       "      <th>product_id</th>\n",
       "      <th>seller_id</th>\n",
       "      <th>shipping_limit_date</th>\n",
       "      <th>price</th>\n",
       "      <th>freight_value</th>\n",
       "    </tr>\n",
       "  </thead>\n",
       "  <tbody>\n",
       "    <tr>\n",
       "      <th>0</th>\n",
       "      <td>00010242fe8c5a6d1ba2dd792cb16214</td>\n",
       "      <td>1</td>\n",
       "      <td>4244733e06e7ecb4970a6e2683c13e61</td>\n",
       "      <td>48436dade18ac8b2bce089ec2a041202</td>\n",
       "      <td>2017-09-19 09:45:35</td>\n",
       "      <td>58.90</td>\n",
       "      <td>13.29</td>\n",
       "    </tr>\n",
       "    <tr>\n",
       "      <th>1</th>\n",
       "      <td>00018f77f2f0320c557190d7a144bdd3</td>\n",
       "      <td>1</td>\n",
       "      <td>e5f2d52b802189ee658865ca93d83a8f</td>\n",
       "      <td>dd7ddc04e1b6c2c614352b383efe2d36</td>\n",
       "      <td>2017-05-03 11:05:13</td>\n",
       "      <td>239.90</td>\n",
       "      <td>19.93</td>\n",
       "    </tr>\n",
       "    <tr>\n",
       "      <th>2</th>\n",
       "      <td>000229ec398224ef6ca0657da4fc703e</td>\n",
       "      <td>1</td>\n",
       "      <td>c777355d18b72b67abbeef9df44fd0fd</td>\n",
       "      <td>5b51032eddd242adc84c38acab88f23d</td>\n",
       "      <td>2018-01-18 14:48:30</td>\n",
       "      <td>199.00</td>\n",
       "      <td>17.87</td>\n",
       "    </tr>\n",
       "    <tr>\n",
       "      <th>3</th>\n",
       "      <td>00024acbcdf0a6daa1e931b038114c75</td>\n",
       "      <td>1</td>\n",
       "      <td>7634da152a4610f1595efa32f14722fc</td>\n",
       "      <td>9d7a1d34a5052409006425275ba1c2b4</td>\n",
       "      <td>2018-08-15 10:10:18</td>\n",
       "      <td>12.99</td>\n",
       "      <td>12.79</td>\n",
       "    </tr>\n",
       "    <tr>\n",
       "      <th>4</th>\n",
       "      <td>00042b26cf59d7ce69dfabb4e55b4fd9</td>\n",
       "      <td>1</td>\n",
       "      <td>ac6c3623068f30de03045865e4e10089</td>\n",
       "      <td>df560393f3a51e74553ab94004ba5c87</td>\n",
       "      <td>2017-02-13 13:57:51</td>\n",
       "      <td>199.90</td>\n",
       "      <td>18.14</td>\n",
       "    </tr>\n",
       "  </tbody>\n",
       "</table>\n",
       "</div>"
      ],
      "text/plain": [
       "                           order_id  order_item_id  \\\n",
       "0  00010242fe8c5a6d1ba2dd792cb16214              1   \n",
       "1  00018f77f2f0320c557190d7a144bdd3              1   \n",
       "2  000229ec398224ef6ca0657da4fc703e              1   \n",
       "3  00024acbcdf0a6daa1e931b038114c75              1   \n",
       "4  00042b26cf59d7ce69dfabb4e55b4fd9              1   \n",
       "\n",
       "                         product_id                         seller_id  \\\n",
       "0  4244733e06e7ecb4970a6e2683c13e61  48436dade18ac8b2bce089ec2a041202   \n",
       "1  e5f2d52b802189ee658865ca93d83a8f  dd7ddc04e1b6c2c614352b383efe2d36   \n",
       "2  c777355d18b72b67abbeef9df44fd0fd  5b51032eddd242adc84c38acab88f23d   \n",
       "3  7634da152a4610f1595efa32f14722fc  9d7a1d34a5052409006425275ba1c2b4   \n",
       "4  ac6c3623068f30de03045865e4e10089  df560393f3a51e74553ab94004ba5c87   \n",
       "\n",
       "   shipping_limit_date   price  freight_value  \n",
       "0  2017-09-19 09:45:35   58.90          13.29  \n",
       "1  2017-05-03 11:05:13  239.90          19.93  \n",
       "2  2018-01-18 14:48:30  199.00          17.87  \n",
       "3  2018-08-15 10:10:18   12.99          12.79  \n",
       "4  2017-02-13 13:57:51  199.90          18.14  "
      ]
     },
     "execution_count": 11,
     "metadata": {},
     "output_type": "execute_result"
    }
   ],
   "source": [
    "Items.head()"
   ]
  },
  {
   "cell_type": "code",
   "execution_count": 12,
   "id": "bbd717a7",
   "metadata": {},
   "outputs": [
    {
     "name": "stdout",
     "output_type": "stream",
     "text": [
      "<class 'pandas.core.frame.DataFrame'>\n",
      "RangeIndex: 112650 entries, 0 to 112649\n",
      "Data columns (total 7 columns):\n",
      " #   Column               Non-Null Count   Dtype  \n",
      "---  ------               --------------   -----  \n",
      " 0   order_id             112650 non-null  object \n",
      " 1   order_item_id        112650 non-null  int64  \n",
      " 2   product_id           112650 non-null  object \n",
      " 3   seller_id            112650 non-null  object \n",
      " 4   shipping_limit_date  112650 non-null  object \n",
      " 5   price                112650 non-null  float64\n",
      " 6   freight_value        112650 non-null  float64\n",
      "dtypes: float64(2), int64(1), object(4)\n",
      "memory usage: 6.0+ MB\n"
     ]
    }
   ],
   "source": [
    "Items.info()"
   ]
  },
  {
   "cell_type": "markdown",
   "id": "c0d86e79",
   "metadata": {},
   "source": [
    "The Items dataset:\n",
    " - contains 112650 rows and 7 columns\n",
    " - does not contain any missing value"
   ]
  },
  {
   "cell_type": "code",
   "execution_count": 13,
   "id": "4c42dd8a",
   "metadata": {
    "scrolled": true
   },
   "outputs": [
    {
     "data": {
      "text/plain": [
       "0"
      ]
     },
     "execution_count": 13,
     "metadata": {},
     "output_type": "execute_result"
    }
   ],
   "source": [
    "Items.duplicated(subset=['order_id', 'product_id', 'order_item_id']).sum()"
   ]
  },
  {
   "cell_type": "markdown",
   "id": "4d46d9fa",
   "metadata": {},
   "source": [
    "#### 2.2.4 Payments"
   ]
  },
  {
   "cell_type": "code",
   "execution_count": 14,
   "id": "b6f34d81",
   "metadata": {},
   "outputs": [
    {
     "data": {
      "text/html": [
       "<div>\n",
       "<style scoped>\n",
       "    .dataframe tbody tr th:only-of-type {\n",
       "        vertical-align: middle;\n",
       "    }\n",
       "\n",
       "    .dataframe tbody tr th {\n",
       "        vertical-align: top;\n",
       "    }\n",
       "\n",
       "    .dataframe thead th {\n",
       "        text-align: right;\n",
       "    }\n",
       "</style>\n",
       "<table border=\"1\" class=\"dataframe\">\n",
       "  <thead>\n",
       "    <tr style=\"text-align: right;\">\n",
       "      <th></th>\n",
       "      <th>order_id</th>\n",
       "      <th>payment_sequential</th>\n",
       "      <th>payment_type</th>\n",
       "      <th>payment_installments</th>\n",
       "      <th>payment_value</th>\n",
       "    </tr>\n",
       "  </thead>\n",
       "  <tbody>\n",
       "    <tr>\n",
       "      <th>0</th>\n",
       "      <td>b81ef226f3fe1789b1e8b2acac839d17</td>\n",
       "      <td>1</td>\n",
       "      <td>credit_card</td>\n",
       "      <td>8</td>\n",
       "      <td>99.33</td>\n",
       "    </tr>\n",
       "    <tr>\n",
       "      <th>1</th>\n",
       "      <td>a9810da82917af2d9aefd1278f1dcfa0</td>\n",
       "      <td>1</td>\n",
       "      <td>credit_card</td>\n",
       "      <td>1</td>\n",
       "      <td>24.39</td>\n",
       "    </tr>\n",
       "    <tr>\n",
       "      <th>2</th>\n",
       "      <td>25e8ea4e93396b6fa0d3dd708e76c1bd</td>\n",
       "      <td>1</td>\n",
       "      <td>credit_card</td>\n",
       "      <td>1</td>\n",
       "      <td>65.71</td>\n",
       "    </tr>\n",
       "    <tr>\n",
       "      <th>3</th>\n",
       "      <td>ba78997921bbcdc1373bb41e913ab953</td>\n",
       "      <td>1</td>\n",
       "      <td>credit_card</td>\n",
       "      <td>8</td>\n",
       "      <td>107.78</td>\n",
       "    </tr>\n",
       "    <tr>\n",
       "      <th>4</th>\n",
       "      <td>42fdf880ba16b47b59251dd489d4441a</td>\n",
       "      <td>1</td>\n",
       "      <td>credit_card</td>\n",
       "      <td>2</td>\n",
       "      <td>128.45</td>\n",
       "    </tr>\n",
       "  </tbody>\n",
       "</table>\n",
       "</div>"
      ],
      "text/plain": [
       "                           order_id  payment_sequential payment_type  \\\n",
       "0  b81ef226f3fe1789b1e8b2acac839d17                   1  credit_card   \n",
       "1  a9810da82917af2d9aefd1278f1dcfa0                   1  credit_card   \n",
       "2  25e8ea4e93396b6fa0d3dd708e76c1bd                   1  credit_card   \n",
       "3  ba78997921bbcdc1373bb41e913ab953                   1  credit_card   \n",
       "4  42fdf880ba16b47b59251dd489d4441a                   1  credit_card   \n",
       "\n",
       "   payment_installments  payment_value  \n",
       "0                     8          99.33  \n",
       "1                     1          24.39  \n",
       "2                     1          65.71  \n",
       "3                     8         107.78  \n",
       "4                     2         128.45  "
      ]
     },
     "execution_count": 14,
     "metadata": {},
     "output_type": "execute_result"
    }
   ],
   "source": [
    "Payments.head()"
   ]
  },
  {
   "cell_type": "code",
   "execution_count": 15,
   "id": "76084cc8",
   "metadata": {},
   "outputs": [
    {
     "name": "stdout",
     "output_type": "stream",
     "text": [
      "<class 'pandas.core.frame.DataFrame'>\n",
      "RangeIndex: 103886 entries, 0 to 103885\n",
      "Data columns (total 5 columns):\n",
      " #   Column                Non-Null Count   Dtype  \n",
      "---  ------                --------------   -----  \n",
      " 0   order_id              103886 non-null  object \n",
      " 1   payment_sequential    103886 non-null  int64  \n",
      " 2   payment_type          103886 non-null  object \n",
      " 3   payment_installments  103886 non-null  int64  \n",
      " 4   payment_value         103886 non-null  float64\n",
      "dtypes: float64(1), int64(2), object(2)\n",
      "memory usage: 4.0+ MB\n"
     ]
    }
   ],
   "source": [
    "Payments.info()"
   ]
  },
  {
   "cell_type": "markdown",
   "id": "35d8d385",
   "metadata": {},
   "source": [
    "The Items dataset:\n",
    " - contains 103886 rows and 5 columns\n",
    " - does not contain any missing value"
   ]
  },
  {
   "cell_type": "code",
   "execution_count": 16,
   "id": "ea509303",
   "metadata": {},
   "outputs": [
    {
     "data": {
      "text/plain": [
       "0"
      ]
     },
     "execution_count": 16,
     "metadata": {},
     "output_type": "execute_result"
    }
   ],
   "source": [
    "Payments.duplicated().sum()"
   ]
  },
  {
   "cell_type": "code",
   "execution_count": 17,
   "id": "80c6e6b1",
   "metadata": {},
   "outputs": [
    {
     "name": "stdout",
     "output_type": "stream",
     "text": [
      "Number of unique values in each variable: \n",
      "order_id                99440\n",
      "payment_sequential         29\n",
      "payment_type                5\n",
      "payment_installments       24\n",
      "payment_value           29077\n",
      "dtype: int64\n"
     ]
    }
   ],
   "source": [
    "# Check for unique values\n",
    "print(f\"Number of unique values in each variable: \\n{Payments.nunique()}\")"
   ]
  },
  {
   "cell_type": "markdown",
   "id": "8c8a86b2",
   "metadata": {},
   "source": [
    "#### 2.2.5 Reviews"
   ]
  },
  {
   "cell_type": "code",
   "execution_count": 18,
   "id": "a5346162",
   "metadata": {},
   "outputs": [
    {
     "data": {
      "text/html": [
       "<div>\n",
       "<style scoped>\n",
       "    .dataframe tbody tr th:only-of-type {\n",
       "        vertical-align: middle;\n",
       "    }\n",
       "\n",
       "    .dataframe tbody tr th {\n",
       "        vertical-align: top;\n",
       "    }\n",
       "\n",
       "    .dataframe thead th {\n",
       "        text-align: right;\n",
       "    }\n",
       "</style>\n",
       "<table border=\"1\" class=\"dataframe\">\n",
       "  <thead>\n",
       "    <tr style=\"text-align: right;\">\n",
       "      <th></th>\n",
       "      <th>review_id</th>\n",
       "      <th>order_id</th>\n",
       "      <th>review_score</th>\n",
       "      <th>review_comment_title</th>\n",
       "      <th>review_comment_message</th>\n",
       "      <th>review_creation_date</th>\n",
       "      <th>review_answer_timestamp</th>\n",
       "    </tr>\n",
       "  </thead>\n",
       "  <tbody>\n",
       "    <tr>\n",
       "      <th>0</th>\n",
       "      <td>7bc2406110b926393aa56f80a40eba40</td>\n",
       "      <td>73fc7af87114b39712e6da79b0a377eb</td>\n",
       "      <td>4</td>\n",
       "      <td>NaN</td>\n",
       "      <td>NaN</td>\n",
       "      <td>2018-01-18 00:00:00</td>\n",
       "      <td>2018-01-18 21:46:59</td>\n",
       "    </tr>\n",
       "    <tr>\n",
       "      <th>1</th>\n",
       "      <td>80e641a11e56f04c1ad469d5645fdfde</td>\n",
       "      <td>a548910a1c6147796b98fdf73dbeba33</td>\n",
       "      <td>5</td>\n",
       "      <td>NaN</td>\n",
       "      <td>NaN</td>\n",
       "      <td>2018-03-10 00:00:00</td>\n",
       "      <td>2018-03-11 03:05:13</td>\n",
       "    </tr>\n",
       "    <tr>\n",
       "      <th>2</th>\n",
       "      <td>228ce5500dc1d8e020d8d1322874b6f0</td>\n",
       "      <td>f9e4b658b201a9f2ecdecbb34bed034b</td>\n",
       "      <td>5</td>\n",
       "      <td>NaN</td>\n",
       "      <td>NaN</td>\n",
       "      <td>2018-02-17 00:00:00</td>\n",
       "      <td>2018-02-18 14:36:24</td>\n",
       "    </tr>\n",
       "    <tr>\n",
       "      <th>3</th>\n",
       "      <td>e64fb393e7b32834bb789ff8bb30750e</td>\n",
       "      <td>658677c97b385a9be170737859d3511b</td>\n",
       "      <td>5</td>\n",
       "      <td>NaN</td>\n",
       "      <td>Recebi bem antes do prazo estipulado.</td>\n",
       "      <td>2017-04-21 00:00:00</td>\n",
       "      <td>2017-04-21 22:02:06</td>\n",
       "    </tr>\n",
       "    <tr>\n",
       "      <th>4</th>\n",
       "      <td>f7c4243c7fe1938f181bec41a392bdeb</td>\n",
       "      <td>8e6bfb81e283fa7e4f11123a3fb894f1</td>\n",
       "      <td>5</td>\n",
       "      <td>NaN</td>\n",
       "      <td>Parabéns lojas lannister adorei comprar pela I...</td>\n",
       "      <td>2018-03-01 00:00:00</td>\n",
       "      <td>2018-03-02 10:26:53</td>\n",
       "    </tr>\n",
       "  </tbody>\n",
       "</table>\n",
       "</div>"
      ],
      "text/plain": [
       "                          review_id                          order_id  \\\n",
       "0  7bc2406110b926393aa56f80a40eba40  73fc7af87114b39712e6da79b0a377eb   \n",
       "1  80e641a11e56f04c1ad469d5645fdfde  a548910a1c6147796b98fdf73dbeba33   \n",
       "2  228ce5500dc1d8e020d8d1322874b6f0  f9e4b658b201a9f2ecdecbb34bed034b   \n",
       "3  e64fb393e7b32834bb789ff8bb30750e  658677c97b385a9be170737859d3511b   \n",
       "4  f7c4243c7fe1938f181bec41a392bdeb  8e6bfb81e283fa7e4f11123a3fb894f1   \n",
       "\n",
       "   review_score review_comment_title  \\\n",
       "0             4                  NaN   \n",
       "1             5                  NaN   \n",
       "2             5                  NaN   \n",
       "3             5                  NaN   \n",
       "4             5                  NaN   \n",
       "\n",
       "                              review_comment_message review_creation_date  \\\n",
       "0                                                NaN  2018-01-18 00:00:00   \n",
       "1                                                NaN  2018-03-10 00:00:00   \n",
       "2                                                NaN  2018-02-17 00:00:00   \n",
       "3              Recebi bem antes do prazo estipulado.  2017-04-21 00:00:00   \n",
       "4  Parabéns lojas lannister adorei comprar pela I...  2018-03-01 00:00:00   \n",
       "\n",
       "  review_answer_timestamp  \n",
       "0     2018-01-18 21:46:59  \n",
       "1     2018-03-11 03:05:13  \n",
       "2     2018-02-18 14:36:24  \n",
       "3     2017-04-21 22:02:06  \n",
       "4     2018-03-02 10:26:53  "
      ]
     },
     "execution_count": 18,
     "metadata": {},
     "output_type": "execute_result"
    }
   ],
   "source": [
    "Reviews.head()"
   ]
  },
  {
   "cell_type": "code",
   "execution_count": 19,
   "id": "3f4cc400",
   "metadata": {},
   "outputs": [
    {
     "name": "stdout",
     "output_type": "stream",
     "text": [
      "<class 'pandas.core.frame.DataFrame'>\n",
      "RangeIndex: 99224 entries, 0 to 99223\n",
      "Data columns (total 7 columns):\n",
      " #   Column                   Non-Null Count  Dtype \n",
      "---  ------                   --------------  ----- \n",
      " 0   review_id                99224 non-null  object\n",
      " 1   order_id                 99224 non-null  object\n",
      " 2   review_score             99224 non-null  int64 \n",
      " 3   review_comment_title     11568 non-null  object\n",
      " 4   review_comment_message   40977 non-null  object\n",
      " 5   review_creation_date     99224 non-null  object\n",
      " 6   review_answer_timestamp  99224 non-null  object\n",
      "dtypes: int64(1), object(6)\n",
      "memory usage: 5.3+ MB\n"
     ]
    }
   ],
   "source": [
    "Reviews.info()"
   ]
  },
  {
   "cell_type": "markdown",
   "id": "cef50a43",
   "metadata": {},
   "source": [
    "The Reviews dataset:\n",
    " - contains 99224 rows and 7 columns\n",
    " - review_comment_title and review_comment_message contain thousands of missing values"
   ]
  },
  {
   "cell_type": "code",
   "execution_count": 20,
   "id": "8c785c6f",
   "metadata": {},
   "outputs": [],
   "source": [
    "#Select only relevant columns\n",
    "\n",
    "Reviews = Reviews[['order_id', 'review_score']]"
   ]
  },
  {
   "cell_type": "markdown",
   "id": "9466de9d",
   "metadata": {},
   "source": [
    "#### 2.2.6 Products and Product categories"
   ]
  },
  {
   "cell_type": "code",
   "execution_count": 21,
   "id": "ce35c780",
   "metadata": {},
   "outputs": [
    {
     "data": {
      "text/html": [
       "<div>\n",
       "<style scoped>\n",
       "    .dataframe tbody tr th:only-of-type {\n",
       "        vertical-align: middle;\n",
       "    }\n",
       "\n",
       "    .dataframe tbody tr th {\n",
       "        vertical-align: top;\n",
       "    }\n",
       "\n",
       "    .dataframe thead th {\n",
       "        text-align: right;\n",
       "    }\n",
       "</style>\n",
       "<table border=\"1\" class=\"dataframe\">\n",
       "  <thead>\n",
       "    <tr style=\"text-align: right;\">\n",
       "      <th></th>\n",
       "      <th>product_id</th>\n",
       "      <th>product_category_name</th>\n",
       "      <th>product_name_lenght</th>\n",
       "      <th>product_description_lenght</th>\n",
       "      <th>product_photos_qty</th>\n",
       "      <th>product_weight_g</th>\n",
       "      <th>product_length_cm</th>\n",
       "      <th>product_height_cm</th>\n",
       "      <th>product_width_cm</th>\n",
       "    </tr>\n",
       "  </thead>\n",
       "  <tbody>\n",
       "    <tr>\n",
       "      <th>0</th>\n",
       "      <td>1e9e8ef04dbcff4541ed26657ea517e5</td>\n",
       "      <td>perfumaria</td>\n",
       "      <td>40.0</td>\n",
       "      <td>287.0</td>\n",
       "      <td>1.0</td>\n",
       "      <td>225.0</td>\n",
       "      <td>16.0</td>\n",
       "      <td>10.0</td>\n",
       "      <td>14.0</td>\n",
       "    </tr>\n",
       "    <tr>\n",
       "      <th>1</th>\n",
       "      <td>3aa071139cb16b67ca9e5dea641aaa2f</td>\n",
       "      <td>artes</td>\n",
       "      <td>44.0</td>\n",
       "      <td>276.0</td>\n",
       "      <td>1.0</td>\n",
       "      <td>1000.0</td>\n",
       "      <td>30.0</td>\n",
       "      <td>18.0</td>\n",
       "      <td>20.0</td>\n",
       "    </tr>\n",
       "    <tr>\n",
       "      <th>2</th>\n",
       "      <td>96bd76ec8810374ed1b65e291975717f</td>\n",
       "      <td>esporte_lazer</td>\n",
       "      <td>46.0</td>\n",
       "      <td>250.0</td>\n",
       "      <td>1.0</td>\n",
       "      <td>154.0</td>\n",
       "      <td>18.0</td>\n",
       "      <td>9.0</td>\n",
       "      <td>15.0</td>\n",
       "    </tr>\n",
       "    <tr>\n",
       "      <th>3</th>\n",
       "      <td>cef67bcfe19066a932b7673e239eb23d</td>\n",
       "      <td>bebes</td>\n",
       "      <td>27.0</td>\n",
       "      <td>261.0</td>\n",
       "      <td>1.0</td>\n",
       "      <td>371.0</td>\n",
       "      <td>26.0</td>\n",
       "      <td>4.0</td>\n",
       "      <td>26.0</td>\n",
       "    </tr>\n",
       "    <tr>\n",
       "      <th>4</th>\n",
       "      <td>9dc1a7de274444849c219cff195d0b71</td>\n",
       "      <td>utilidades_domesticas</td>\n",
       "      <td>37.0</td>\n",
       "      <td>402.0</td>\n",
       "      <td>4.0</td>\n",
       "      <td>625.0</td>\n",
       "      <td>20.0</td>\n",
       "      <td>17.0</td>\n",
       "      <td>13.0</td>\n",
       "    </tr>\n",
       "  </tbody>\n",
       "</table>\n",
       "</div>"
      ],
      "text/plain": [
       "                         product_id  product_category_name  \\\n",
       "0  1e9e8ef04dbcff4541ed26657ea517e5             perfumaria   \n",
       "1  3aa071139cb16b67ca9e5dea641aaa2f                  artes   \n",
       "2  96bd76ec8810374ed1b65e291975717f          esporte_lazer   \n",
       "3  cef67bcfe19066a932b7673e239eb23d                  bebes   \n",
       "4  9dc1a7de274444849c219cff195d0b71  utilidades_domesticas   \n",
       "\n",
       "   product_name_lenght  product_description_lenght  product_photos_qty  \\\n",
       "0                 40.0                       287.0                 1.0   \n",
       "1                 44.0                       276.0                 1.0   \n",
       "2                 46.0                       250.0                 1.0   \n",
       "3                 27.0                       261.0                 1.0   \n",
       "4                 37.0                       402.0                 4.0   \n",
       "\n",
       "   product_weight_g  product_length_cm  product_height_cm  product_width_cm  \n",
       "0             225.0               16.0               10.0              14.0  \n",
       "1            1000.0               30.0               18.0              20.0  \n",
       "2             154.0               18.0                9.0              15.0  \n",
       "3             371.0               26.0                4.0              26.0  \n",
       "4             625.0               20.0               17.0              13.0  "
      ]
     },
     "execution_count": 21,
     "metadata": {},
     "output_type": "execute_result"
    }
   ],
   "source": [
    "Products.head()"
   ]
  },
  {
   "cell_type": "code",
   "execution_count": 22,
   "id": "5b186047",
   "metadata": {},
   "outputs": [
    {
     "name": "stdout",
     "output_type": "stream",
     "text": [
      "<class 'pandas.core.frame.DataFrame'>\n",
      "RangeIndex: 32951 entries, 0 to 32950\n",
      "Data columns (total 9 columns):\n",
      " #   Column                      Non-Null Count  Dtype  \n",
      "---  ------                      --------------  -----  \n",
      " 0   product_id                  32951 non-null  object \n",
      " 1   product_category_name       32341 non-null  object \n",
      " 2   product_name_lenght         32341 non-null  float64\n",
      " 3   product_description_lenght  32341 non-null  float64\n",
      " 4   product_photos_qty          32341 non-null  float64\n",
      " 5   product_weight_g            32949 non-null  float64\n",
      " 6   product_length_cm           32949 non-null  float64\n",
      " 7   product_height_cm           32949 non-null  float64\n",
      " 8   product_width_cm            32949 non-null  float64\n",
      "dtypes: float64(7), object(2)\n",
      "memory usage: 2.3+ MB\n"
     ]
    }
   ],
   "source": [
    "Products.info()"
   ]
  },
  {
   "cell_type": "code",
   "execution_count": 23,
   "id": "c767fd02",
   "metadata": {},
   "outputs": [
    {
     "data": {
      "text/html": [
       "<div>\n",
       "<style scoped>\n",
       "    .dataframe tbody tr th:only-of-type {\n",
       "        vertical-align: middle;\n",
       "    }\n",
       "\n",
       "    .dataframe tbody tr th {\n",
       "        vertical-align: top;\n",
       "    }\n",
       "\n",
       "    .dataframe thead th {\n",
       "        text-align: right;\n",
       "    }\n",
       "</style>\n",
       "<table border=\"1\" class=\"dataframe\">\n",
       "  <thead>\n",
       "    <tr style=\"text-align: right;\">\n",
       "      <th></th>\n",
       "      <th>product_category_name</th>\n",
       "      <th>product_category_name_english</th>\n",
       "    </tr>\n",
       "  </thead>\n",
       "  <tbody>\n",
       "    <tr>\n",
       "      <th>0</th>\n",
       "      <td>beleza_saude</td>\n",
       "      <td>health_beauty</td>\n",
       "    </tr>\n",
       "    <tr>\n",
       "      <th>1</th>\n",
       "      <td>informatica_acessorios</td>\n",
       "      <td>computers_accessories</td>\n",
       "    </tr>\n",
       "    <tr>\n",
       "      <th>2</th>\n",
       "      <td>automotivo</td>\n",
       "      <td>auto</td>\n",
       "    </tr>\n",
       "    <tr>\n",
       "      <th>3</th>\n",
       "      <td>cama_mesa_banho</td>\n",
       "      <td>bed_bath_table</td>\n",
       "    </tr>\n",
       "    <tr>\n",
       "      <th>4</th>\n",
       "      <td>moveis_decoracao</td>\n",
       "      <td>furniture_decor</td>\n",
       "    </tr>\n",
       "  </tbody>\n",
       "</table>\n",
       "</div>"
      ],
      "text/plain": [
       "    product_category_name product_category_name_english\n",
       "0            beleza_saude                 health_beauty\n",
       "1  informatica_acessorios         computers_accessories\n",
       "2              automotivo                          auto\n",
       "3         cama_mesa_banho                bed_bath_table\n",
       "4        moveis_decoracao               furniture_decor"
      ]
     },
     "execution_count": 23,
     "metadata": {},
     "output_type": "execute_result"
    }
   ],
   "source": [
    "Product_category.head()"
   ]
  },
  {
   "cell_type": "code",
   "execution_count": 24,
   "id": "d306471d",
   "metadata": {},
   "outputs": [
    {
     "name": "stdout",
     "output_type": "stream",
     "text": [
      "<class 'pandas.core.frame.DataFrame'>\n",
      "RangeIndex: 71 entries, 0 to 70\n",
      "Data columns (total 2 columns):\n",
      " #   Column                         Non-Null Count  Dtype \n",
      "---  ------                         --------------  ----- \n",
      " 0   product_category_name          71 non-null     object\n",
      " 1   product_category_name_english  71 non-null     object\n",
      "dtypes: object(2)\n",
      "memory usage: 1.2+ KB\n"
     ]
    }
   ],
   "source": [
    "Product_category.info()"
   ]
  },
  {
   "cell_type": "code",
   "execution_count": 25,
   "id": "cd3d76a7",
   "metadata": {},
   "outputs": [],
   "source": [
    "#merge Products and Product_info\n",
    "Product_details = pd.merge(Products, Product_category,  on='product_category_name')\n",
    "\n",
    "# select important columns\n",
    "Product = Product_details[['product_id', 'product_category_name_english']]"
   ]
  },
  {
   "cell_type": "markdown",
   "id": "dbdd0c6f",
   "metadata": {},
   "source": [
    "#### 2.2.7 Sellers"
   ]
  },
  {
   "cell_type": "code",
   "execution_count": 26,
   "id": "84006430",
   "metadata": {},
   "outputs": [
    {
     "data": {
      "text/html": [
       "<div>\n",
       "<style scoped>\n",
       "    .dataframe tbody tr th:only-of-type {\n",
       "        vertical-align: middle;\n",
       "    }\n",
       "\n",
       "    .dataframe tbody tr th {\n",
       "        vertical-align: top;\n",
       "    }\n",
       "\n",
       "    .dataframe thead th {\n",
       "        text-align: right;\n",
       "    }\n",
       "</style>\n",
       "<table border=\"1\" class=\"dataframe\">\n",
       "  <thead>\n",
       "    <tr style=\"text-align: right;\">\n",
       "      <th></th>\n",
       "      <th>seller_id</th>\n",
       "      <th>seller_zip_code_prefix</th>\n",
       "      <th>seller_city</th>\n",
       "      <th>seller_state</th>\n",
       "    </tr>\n",
       "  </thead>\n",
       "  <tbody>\n",
       "    <tr>\n",
       "      <th>0</th>\n",
       "      <td>3442f8959a84dea7ee197c632cb2df15</td>\n",
       "      <td>13023</td>\n",
       "      <td>campinas</td>\n",
       "      <td>SP</td>\n",
       "    </tr>\n",
       "    <tr>\n",
       "      <th>1</th>\n",
       "      <td>d1b65fc7debc3361ea86b5f14c68d2e2</td>\n",
       "      <td>13844</td>\n",
       "      <td>mogi guacu</td>\n",
       "      <td>SP</td>\n",
       "    </tr>\n",
       "    <tr>\n",
       "      <th>2</th>\n",
       "      <td>ce3ad9de960102d0677a81f5d0bb7b2d</td>\n",
       "      <td>20031</td>\n",
       "      <td>rio de janeiro</td>\n",
       "      <td>RJ</td>\n",
       "    </tr>\n",
       "    <tr>\n",
       "      <th>3</th>\n",
       "      <td>c0f3eea2e14555b6faeea3dd58c1b1c3</td>\n",
       "      <td>4195</td>\n",
       "      <td>sao paulo</td>\n",
       "      <td>SP</td>\n",
       "    </tr>\n",
       "    <tr>\n",
       "      <th>4</th>\n",
       "      <td>51a04a8a6bdcb23deccc82b0b80742cf</td>\n",
       "      <td>12914</td>\n",
       "      <td>braganca paulista</td>\n",
       "      <td>SP</td>\n",
       "    </tr>\n",
       "  </tbody>\n",
       "</table>\n",
       "</div>"
      ],
      "text/plain": [
       "                          seller_id  seller_zip_code_prefix  \\\n",
       "0  3442f8959a84dea7ee197c632cb2df15                   13023   \n",
       "1  d1b65fc7debc3361ea86b5f14c68d2e2                   13844   \n",
       "2  ce3ad9de960102d0677a81f5d0bb7b2d                   20031   \n",
       "3  c0f3eea2e14555b6faeea3dd58c1b1c3                    4195   \n",
       "4  51a04a8a6bdcb23deccc82b0b80742cf                   12914   \n",
       "\n",
       "         seller_city seller_state  \n",
       "0           campinas           SP  \n",
       "1         mogi guacu           SP  \n",
       "2     rio de janeiro           RJ  \n",
       "3          sao paulo           SP  \n",
       "4  braganca paulista           SP  "
      ]
     },
     "execution_count": 26,
     "metadata": {},
     "output_type": "execute_result"
    }
   ],
   "source": [
    "Sellers.head()"
   ]
  },
  {
   "cell_type": "code",
   "execution_count": 27,
   "id": "7df95c07",
   "metadata": {},
   "outputs": [
    {
     "name": "stdout",
     "output_type": "stream",
     "text": [
      "<class 'pandas.core.frame.DataFrame'>\n",
      "RangeIndex: 3095 entries, 0 to 3094\n",
      "Data columns (total 4 columns):\n",
      " #   Column                  Non-Null Count  Dtype \n",
      "---  ------                  --------------  ----- \n",
      " 0   seller_id               3095 non-null   object\n",
      " 1   seller_zip_code_prefix  3095 non-null   int64 \n",
      " 2   seller_city             3095 non-null   object\n",
      " 3   seller_state            3095 non-null   object\n",
      "dtypes: int64(1), object(3)\n",
      "memory usage: 96.8+ KB\n"
     ]
    }
   ],
   "source": [
    "Sellers.info()"
   ]
  },
  {
   "cell_type": "code",
   "execution_count": 28,
   "id": "43ec2b89",
   "metadata": {},
   "outputs": [
    {
     "data": {
      "text/plain": [
       "23"
      ]
     },
     "execution_count": 28,
     "metadata": {},
     "output_type": "execute_result"
    }
   ],
   "source": [
    "Sellers['seller_state'].nunique()"
   ]
  },
  {
   "cell_type": "markdown",
   "id": "57381452",
   "metadata": {},
   "source": [
    "#### 2.2.8 Orders"
   ]
  },
  {
   "cell_type": "code",
   "execution_count": 29,
   "id": "01b77e5d",
   "metadata": {},
   "outputs": [
    {
     "data": {
      "text/html": [
       "<div>\n",
       "<style scoped>\n",
       "    .dataframe tbody tr th:only-of-type {\n",
       "        vertical-align: middle;\n",
       "    }\n",
       "\n",
       "    .dataframe tbody tr th {\n",
       "        vertical-align: top;\n",
       "    }\n",
       "\n",
       "    .dataframe thead th {\n",
       "        text-align: right;\n",
       "    }\n",
       "</style>\n",
       "<table border=\"1\" class=\"dataframe\">\n",
       "  <thead>\n",
       "    <tr style=\"text-align: right;\">\n",
       "      <th></th>\n",
       "      <th>order_id</th>\n",
       "      <th>customer_id</th>\n",
       "      <th>order_status</th>\n",
       "      <th>order_purchase_timestamp</th>\n",
       "      <th>order_approved_at</th>\n",
       "      <th>order_delivered_carrier_date</th>\n",
       "      <th>order_delivered_customer_date</th>\n",
       "      <th>order_estimated_delivery_date</th>\n",
       "    </tr>\n",
       "  </thead>\n",
       "  <tbody>\n",
       "    <tr>\n",
       "      <th>0</th>\n",
       "      <td>e481f51cbdc54678b7cc49136f2d6af7</td>\n",
       "      <td>9ef432eb6251297304e76186b10a928d</td>\n",
       "      <td>delivered</td>\n",
       "      <td>2017-10-02 10:56:33</td>\n",
       "      <td>2017-10-02 11:07:15</td>\n",
       "      <td>2017-10-04 19:55:00</td>\n",
       "      <td>2017-10-10 21:25:13</td>\n",
       "      <td>2017-10-18 00:00:00</td>\n",
       "    </tr>\n",
       "    <tr>\n",
       "      <th>1</th>\n",
       "      <td>53cdb2fc8bc7dce0b6741e2150273451</td>\n",
       "      <td>b0830fb4747a6c6d20dea0b8c802d7ef</td>\n",
       "      <td>delivered</td>\n",
       "      <td>2018-07-24 20:41:37</td>\n",
       "      <td>2018-07-26 03:24:27</td>\n",
       "      <td>2018-07-26 14:31:00</td>\n",
       "      <td>2018-08-07 15:27:45</td>\n",
       "      <td>2018-08-13 00:00:00</td>\n",
       "    </tr>\n",
       "    <tr>\n",
       "      <th>2</th>\n",
       "      <td>47770eb9100c2d0c44946d9cf07ec65d</td>\n",
       "      <td>41ce2a54c0b03bf3443c3d931a367089</td>\n",
       "      <td>delivered</td>\n",
       "      <td>2018-08-08 08:38:49</td>\n",
       "      <td>2018-08-08 08:55:23</td>\n",
       "      <td>2018-08-08 13:50:00</td>\n",
       "      <td>2018-08-17 18:06:29</td>\n",
       "      <td>2018-09-04 00:00:00</td>\n",
       "    </tr>\n",
       "    <tr>\n",
       "      <th>3</th>\n",
       "      <td>949d5b44dbf5de918fe9c16f97b45f8a</td>\n",
       "      <td>f88197465ea7920adcdbec7375364d82</td>\n",
       "      <td>delivered</td>\n",
       "      <td>2017-11-18 19:28:06</td>\n",
       "      <td>2017-11-18 19:45:59</td>\n",
       "      <td>2017-11-22 13:39:59</td>\n",
       "      <td>2017-12-02 00:28:42</td>\n",
       "      <td>2017-12-15 00:00:00</td>\n",
       "    </tr>\n",
       "    <tr>\n",
       "      <th>4</th>\n",
       "      <td>ad21c59c0840e6cb83a9ceb5573f8159</td>\n",
       "      <td>8ab97904e6daea8866dbdbc4fb7aad2c</td>\n",
       "      <td>delivered</td>\n",
       "      <td>2018-02-13 21:18:39</td>\n",
       "      <td>2018-02-13 22:20:29</td>\n",
       "      <td>2018-02-14 19:46:34</td>\n",
       "      <td>2018-02-16 18:17:02</td>\n",
       "      <td>2018-02-26 00:00:00</td>\n",
       "    </tr>\n",
       "  </tbody>\n",
       "</table>\n",
       "</div>"
      ],
      "text/plain": [
       "                           order_id                       customer_id  \\\n",
       "0  e481f51cbdc54678b7cc49136f2d6af7  9ef432eb6251297304e76186b10a928d   \n",
       "1  53cdb2fc8bc7dce0b6741e2150273451  b0830fb4747a6c6d20dea0b8c802d7ef   \n",
       "2  47770eb9100c2d0c44946d9cf07ec65d  41ce2a54c0b03bf3443c3d931a367089   \n",
       "3  949d5b44dbf5de918fe9c16f97b45f8a  f88197465ea7920adcdbec7375364d82   \n",
       "4  ad21c59c0840e6cb83a9ceb5573f8159  8ab97904e6daea8866dbdbc4fb7aad2c   \n",
       "\n",
       "  order_status order_purchase_timestamp    order_approved_at  \\\n",
       "0    delivered      2017-10-02 10:56:33  2017-10-02 11:07:15   \n",
       "1    delivered      2018-07-24 20:41:37  2018-07-26 03:24:27   \n",
       "2    delivered      2018-08-08 08:38:49  2018-08-08 08:55:23   \n",
       "3    delivered      2017-11-18 19:28:06  2017-11-18 19:45:59   \n",
       "4    delivered      2018-02-13 21:18:39  2018-02-13 22:20:29   \n",
       "\n",
       "  order_delivered_carrier_date order_delivered_customer_date  \\\n",
       "0          2017-10-04 19:55:00           2017-10-10 21:25:13   \n",
       "1          2018-07-26 14:31:00           2018-08-07 15:27:45   \n",
       "2          2018-08-08 13:50:00           2018-08-17 18:06:29   \n",
       "3          2017-11-22 13:39:59           2017-12-02 00:28:42   \n",
       "4          2018-02-14 19:46:34           2018-02-16 18:17:02   \n",
       "\n",
       "  order_estimated_delivery_date  \n",
       "0           2017-10-18 00:00:00  \n",
       "1           2018-08-13 00:00:00  \n",
       "2           2018-09-04 00:00:00  \n",
       "3           2017-12-15 00:00:00  \n",
       "4           2018-02-26 00:00:00  "
      ]
     },
     "execution_count": 29,
     "metadata": {},
     "output_type": "execute_result"
    }
   ],
   "source": [
    "Orders.head()"
   ]
  },
  {
   "cell_type": "code",
   "execution_count": 30,
   "id": "e8afc332",
   "metadata": {},
   "outputs": [
    {
     "name": "stdout",
     "output_type": "stream",
     "text": [
      "<class 'pandas.core.frame.DataFrame'>\n",
      "RangeIndex: 99441 entries, 0 to 99440\n",
      "Data columns (total 8 columns):\n",
      " #   Column                         Non-Null Count  Dtype \n",
      "---  ------                         --------------  ----- \n",
      " 0   order_id                       99441 non-null  object\n",
      " 1   customer_id                    99441 non-null  object\n",
      " 2   order_status                   99441 non-null  object\n",
      " 3   order_purchase_timestamp       99441 non-null  object\n",
      " 4   order_approved_at              99281 non-null  object\n",
      " 5   order_delivered_carrier_date   97658 non-null  object\n",
      " 6   order_delivered_customer_date  96476 non-null  object\n",
      " 7   order_estimated_delivery_date  99441 non-null  object\n",
      "dtypes: object(8)\n",
      "memory usage: 6.1+ MB\n"
     ]
    }
   ],
   "source": [
    "Orders.info()"
   ]
  },
  {
   "cell_type": "markdown",
   "id": "7f142f3b",
   "metadata": {},
   "source": [
    "The Orders dataset:\n",
    " - contains 99441 rows and 8 columns\n",
    " - the order_approved_at, order_delivered_carrier_date, and order_delivered_customer_date features contain hundreads and a few thousands of missing values"
   ]
  },
  {
   "cell_type": "code",
   "execution_count": 31,
   "id": "077e0547",
   "metadata": {},
   "outputs": [
    {
     "data": {
      "text/plain": [
       "order_id                            0\n",
       "customer_id                         0\n",
       "order_status                        0\n",
       "order_purchase_timestamp            0\n",
       "order_approved_at                 160\n",
       "order_delivered_carrier_date     1783\n",
       "order_delivered_customer_date    2965\n",
       "order_estimated_delivery_date       0\n",
       "dtype: int64"
      ]
     },
     "execution_count": 31,
     "metadata": {},
     "output_type": "execute_result"
    }
   ],
   "source": [
    "Orders.isnull().sum()"
   ]
  },
  {
   "cell_type": "markdown",
   "id": "006568bf",
   "metadata": {},
   "source": [
    "Replacing Missing values"
   ]
  },
  {
   "cell_type": "code",
   "execution_count": 32,
   "id": "97fec0e7",
   "metadata": {},
   "outputs": [],
   "source": [
    "# Replace NaN in order_approved_at with corresponding values in order_purchase_timestamp\n",
    "Orders['order_approved_at'] = Orders['order_approved_at'].fillna(Orders['order_purchase_timestamp'])\n",
    "\n",
    "# Replace NaN in order_delivered_customer_date with corresponding values in order_estimated_delivery_date\n",
    "Orders['order_delivered_customer_date'] = Orders['order_delivered_customer_date'].fillna(Orders['order_estimated_delivery_date'])\n",
    "\n",
    "# drop the order_delivered_carrier_date columnn since it is not important in the goal of this project\n",
    "Orders.drop('order_delivered_carrier_date', axis = 1, inplace = True)"
   ]
  },
  {
   "cell_type": "code",
   "execution_count": 33,
   "id": "5bdfc689",
   "metadata": {},
   "outputs": [
    {
     "data": {
      "text/plain": [
       "order_id                         0\n",
       "customer_id                      0\n",
       "order_status                     0\n",
       "order_purchase_timestamp         0\n",
       "order_approved_at                0\n",
       "order_delivered_customer_date    0\n",
       "order_estimated_delivery_date    0\n",
       "dtype: int64"
      ]
     },
     "execution_count": 33,
     "metadata": {},
     "output_type": "execute_result"
    }
   ],
   "source": [
    "Orders.isnull().sum()"
   ]
  },
  {
   "cell_type": "code",
   "execution_count": 34,
   "id": "f6327635",
   "metadata": {},
   "outputs": [
    {
     "data": {
      "text/plain": [
       "array(['delivered', 'invoiced', 'shipped', 'processing', 'unavailable',\n",
       "       'canceled', 'created', 'approved'], dtype=object)"
      ]
     },
     "execution_count": 34,
     "metadata": {},
     "output_type": "execute_result"
    }
   ],
   "source": [
    "Orders['order_status'].unique()"
   ]
  },
  {
   "cell_type": "markdown",
   "id": "f538b39d",
   "metadata": {},
   "source": [
    "## 3.0 Data Integration\n",
    " - creation of command and client's datasets"
   ]
  },
  {
   "cell_type": "markdown",
   "id": "8f4162cf",
   "metadata": {},
   "source": [
    "### 3.1 Command file"
   ]
  },
  {
   "cell_type": "code",
   "execution_count": 35,
   "id": "292fd0e8",
   "metadata": {},
   "outputs": [],
   "source": [
    "Data = pd.merge(Orders, Items, on = 'order_id') # merge Order and Item files on 'order_id'\n",
    "Data = pd.merge(Data, Payments, on = 'order_id') # add payment file to the merged data\n",
    "Data = pd.merge(Data, Reviews, on = 'order_id') # add Reviews file to the merged data\n",
    "Command_df = pd.merge(Data, Product, on = 'product_id') # add product file to the merged data"
   ]
  },
  {
   "cell_type": "markdown",
   "id": "bfe13a23",
   "metadata": {},
   "source": [
    "#### 3.1.1 Feature Engineering and Exploratory Analysis"
   ]
  },
  {
   "cell_type": "code",
   "execution_count": 36,
   "id": "163b8caa",
   "metadata": {},
   "outputs": [],
   "source": [
    "# Convert timestamps to daytime\n",
    "\n",
    "time = ['order_purchase_timestamp', 'order_approved_at', 'order_delivered_customer_date', 'order_estimated_delivery_date']\n",
    "for t in time:\n",
    "    Command_df[t] = pd.to_datetime(Command_df[t])\n",
    "\n",
    "#Convert order_purchase_timestamp to daytime\n",
    "#Orders['date_order'] = pd.to_datetime(Orders['order_purchase_timestamp'])\n",
    "\n",
    "Command_df['purchase_year'] = Command_df['order_purchase_timestamp'].dt.year\n",
    "Command_df['purchase_month'] = Command_df['order_purchase_timestamp'].dt.month\n",
    "Command_df['purchase_day'] = Command_df['order_purchase_timestamp'].dt.day\n",
    "#Orders['purchase_hour'] = Orders['order_purchase_timestamp'].dt.hour\n",
    "\n",
    "# Number of delivery days\n",
    "Command_df['delivery_days'] = (Command_df['order_delivered_customer_date'] \n",
    "                                - Command_df['order_purchase_timestamp']).dt.days\n",
    "\n",
    "# Number of delayed delivery days \n",
    "Command_df['delayed_delivery'] = (Command_df['order_delivered_customer_date'] \n",
    "                                - Command_df['order_estimated_delivery_date']).dt.days\n",
    "\n",
    "# Number of days of last order\n",
    "Command_df['last_purchase'] = (Command_df['order_purchase_timestamp'].max() - Command_df['order_purchase_timestamp']).dt.days\n",
    "\n",
    "#adding column for month name and year \n",
    "Command_df['purchase_period'] = Command_df['order_purchase_timestamp'].dt.strftime('%b-%Y')"
   ]
  },
  {
   "cell_type": "code",
   "execution_count": 37,
   "id": "8aea5d95",
   "metadata": {},
   "outputs": [],
   "source": [
    "# Drop unnecessary columns\n",
    "un_cols = ['product_id', 'shipping_limit_date', 'order_approved_at', 'order_delivered_customer_date',\n",
    "           'order_estimated_delivery_date']\n",
    "Command_df.drop(un_cols, axis = 1, inplace = True)"
   ]
  },
  {
   "cell_type": "markdown",
   "id": "4fe0e3aa",
   "metadata": {},
   "source": [
    "***Distribution of total Orders***"
   ]
  },
  {
   "cell_type": "code",
   "execution_count": 38,
   "id": "ad5804fa",
   "metadata": {},
   "outputs": [
    {
     "data": {
      "image/png": "[encoded data removed]",
      "text/plain": [
       "<Figure size 1000x600 with 1 Axes>"
      ]
     },
     "metadata": {
      "needs_background": "light"
     },
     "output_type": "display_data"
    }
   ],
   "source": [
    "#countplot(Orders, 'order_status')\n",
    "plt.figure(figsize=(10,6), dpi = 100)\n",
    "ax= sns.countplot(data=Orders, x='order_status')\n",
    "plt.ylabel('Number of Orders')\n",
    "plt.xlabel('Order Status')\n",
    "ax.bar_label(ax.containers[0], label_type='edge', color='black')\n",
    "plt.title('Distribution of order status')\n",
    "plt.show()"
   ]
  },
  {
   "cell_type": "markdown",
   "id": "f1a77e9d",
   "metadata": {},
   "source": [
    "About 97% of the orders were delivered. So, we keep only delivered orders for analysis"
   ]
  },
  {
   "cell_type": "markdown",
   "id": "51185e9d",
   "metadata": {},
   "source": [
    "***Keep only delivered orders***"
   ]
  },
  {
   "cell_type": "code",
   "execution_count": 39,
   "id": "4de7fce6",
   "metadata": {},
   "outputs": [],
   "source": [
    "Command_df = Command_df[Command_df[\"order_status\"] == \"delivered\"]\n",
    "\n",
    "#drop the order_status column\n",
    "Command_df.drop(\"order_status\", axis = 1, inplace = True)"
   ]
  },
  {
   "cell_type": "markdown",
   "id": "2916a3fd",
   "metadata": {},
   "source": [
    "***Distribution of number of days to deliver an order***"
   ]
  },
  {
   "cell_type": "code",
   "execution_count": 40,
   "id": "be221e9f",
   "metadata": {},
   "outputs": [
    {
     "data": {
      "image/png": "[encoded data removed]",
      "text/plain": [
       "<Figure size 720x432 with 1 Axes>"
      ]
     },
     "metadata": {
      "needs_background": "light"
     },
     "output_type": "display_data"
    }
   ],
   "source": [
    "fig = plt.figure(figsize=(10, 6))\n",
    "sns.histplot(data=Command_df, x='delivery_days')\n",
    "plt.xlabel('Number of days for delivery')\n",
    "plt.title('Distribution of number of days to deliver an order')\n",
    "plt.show()"
   ]
  },
  {
   "cell_type": "markdown",
   "id": "94682d8d",
   "metadata": {},
   "source": [
    "***Number of delayed orders***"
   ]
  },
  {
   "cell_type": "code",
   "execution_count": 41,
   "id": "d43eab93",
   "metadata": {},
   "outputs": [],
   "source": [
    "# Keep only positive numbers for delayed days and replace negative values (not delayed) with 0\n",
    "Command_df.loc[Command_df['delayed_delivery'] < 0, 'delayed_delivery'] = 0"
   ]
  },
  {
   "cell_type": "code",
   "execution_count": 42,
   "id": "8a5a646e",
   "metadata": {},
   "outputs": [
    {
     "data": {
      "text/plain": [
       "7246"
      ]
     },
     "execution_count": 42,
     "metadata": {},
     "output_type": "execute_result"
    }
   ],
   "source": [
    "delayed_orders = Command_df[Command_df['delayed_delivery'] > 0]\n",
    "len(delayed_orders)"
   ]
  },
  {
   "cell_type": "code",
   "execution_count": 43,
   "id": "535bf5ab",
   "metadata": {},
   "outputs": [
    {
     "name": "stdout",
     "output_type": "stream",
     "text": [
      "Percentage of delayed order is: 6.400%\n"
     ]
    }
   ],
   "source": [
    "percent_delayed = len(delayed_orders)*100/len(Command_df)\n",
    "print(\"Percentage of delayed order is: %.3f\" % percent_delayed + '%')"
   ]
  },
  {
   "cell_type": "code",
   "execution_count": 44,
   "id": "6508e3bb",
   "metadata": {},
   "outputs": [
    {
     "data": {
      "image/png": "[encoded data removed]",
      "text/plain": [
       "<Figure size 720x432 with 1 Axes>"
      ]
     },
     "metadata": {
      "needs_background": "light"
     },
     "output_type": "display_data"
    }
   ],
   "source": [
    "fig = plt.figure(figsize=(10, 6))\n",
    "sns.histplot(data=delayed_orders, x='delayed_delivery')\n",
    "plt.xlabel('Number of days for delivery')\n",
    "plt.title('Distribution of delayed order')\n",
    "plt.show()"
   ]
  },
  {
   "cell_type": "markdown",
   "id": "03d266da",
   "metadata": {},
   "source": [
    " - Only 7.287% of the orders experienced delayed delivery"
   ]
  },
  {
   "cell_type": "markdown",
   "id": "5fb5b338",
   "metadata": {},
   "source": [
    "***Distribution of orders by days of the week***"
   ]
  },
  {
   "cell_type": "code",
   "execution_count": 45,
   "id": "504652e5",
   "metadata": {
    "scrolled": false
   },
   "outputs": [
    {
     "data": {
      "image/png": "[encoded data removed]",
      "text/plain": [
       "<Figure size 1000x600 with 1 Axes>"
      ]
     },
     "metadata": {
      "needs_background": "light"
     },
     "output_type": "display_data"
    }
   ],
   "source": [
    "Command_df['days_of_week'] = Command_df['order_purchase_timestamp'].dt.dayofweek\n",
    "\n",
    "def countplot(Data, column):\n",
    "    plt.figure(figsize=(10,6), dpi = 100)\n",
    "    sns.countplot(data=Data, x=column, color = 'blue', alpha = 0.5)\n",
    "    plt.xlabel(column)\n",
    "    return countplot\n",
    "\n",
    "countplot(Command_df, 'days_of_week')\n",
    "plt.ylabel('Number of Orders')\n",
    "plt.xlabel('Days')\n",
    "plt.title('Number of orders per days of the week')\n",
    "plt.xticks(np.arange(0,7), ['Monday','Tuesday','Wednesday','Thursday','Friday','Saturday','Sunday'])\n",
    "plt.show() "
   ]
  },
  {
   "cell_type": "markdown",
   "id": "b8e769b5",
   "metadata": {},
   "source": [
    "***Number of orders by month***"
   ]
  },
  {
   "cell_type": "code",
   "execution_count": 46,
   "id": "f0a92180",
   "metadata": {},
   "outputs": [
    {
     "data": {
      "image/png": "[encoded data removed]",
      "text/plain": [
       "<Figure size 1000x600 with 1 Axes>"
      ]
     },
     "metadata": {
      "needs_background": "light"
     },
     "output_type": "display_data"
    }
   ],
   "source": [
    "countplot(Command_df, 'purchase_month')\n",
    "plt.ylabel('Number of Orders')\n",
    "plt.title('Number of orders per month')\n",
    "plt.xticks(np.arange(0,12), ['January','February','March','April','May','June', 'July','August',\n",
    "                             'September','October','November','December']) \n",
    "plt.show()  "
   ]
  },
  {
   "cell_type": "markdown",
   "id": "56463b6a",
   "metadata": {},
   "source": [
    "***Number of orders per year***"
   ]
  },
  {
   "cell_type": "code",
   "execution_count": 47,
   "id": "a44b7962",
   "metadata": {},
   "outputs": [
    {
     "data": {
      "image/png": "[encoded data removed]",
      "text/plain": [
       "<Figure size 1000x600 with 1 Axes>"
      ]
     },
     "metadata": {
      "needs_background": "light"
     },
     "output_type": "display_data"
    }
   ],
   "source": [
    "countplot(Command_df, 'purchase_year')\n",
    "plt.ylabel('Number of Orders')\n",
    "plt.title('Number of orders per year')\n",
    "plt.show()  "
   ]
  },
  {
   "cell_type": "markdown",
   "id": "e9975657",
   "metadata": {},
   "source": [
    "***Evolution of monthly orders from 2016-2018***"
   ]
  },
  {
   "cell_type": "code",
   "execution_count": 48,
   "id": "0e2cb962",
   "metadata": {},
   "outputs": [
    {
     "data": {
      "image/png": "[encoded data removed]",
      "text/plain": [
       "<Figure size 1000x600 with 1 Axes>"
      ]
     },
     "metadata": {
      "needs_background": "light"
     },
     "output_type": "display_data"
    }
   ],
   "source": [
    "Command_df_period = Command_df.groupby('order_purchase_timestamp').agg({'order_id':'count', 'purchase_period':'min'}).reset_index()\n",
    "\n",
    "countplot(Command_df_period, 'purchase_period')\n",
    "plt.ylabel('Number of Orders')\n",
    "plt.title('Evolution of Orders from 2016 to 2018')\n",
    "plt.xticks(rotation = 45)\n",
    "plt.show()  "
   ]
  },
  {
   "cell_type": "markdown",
   "id": "32bfba45",
   "metadata": {},
   "source": [
    "***Payment type by customers***"
   ]
  },
  {
   "cell_type": "code",
   "execution_count": 49,
   "id": "24615ce4",
   "metadata": {},
   "outputs": [
    {
     "data": {
      "image/png": "[encoded data removed]",
      "text/plain": [
       "<Figure size 1000x600 with 1 Axes>"
      ]
     },
     "metadata": {
      "needs_background": "light"
     },
     "output_type": "display_data"
    }
   ],
   "source": [
    "countplot(Command_df, 'payment_type')\n",
    "plt.ylabel('Number of Customers')\n",
    "plt.title('Payment type by customers')\n",
    "plt.show()  "
   ]
  },
  {
   "cell_type": "markdown",
   "id": "c94e6769",
   "metadata": {},
   "source": [
    "***Distribution of total expenses by customers***"
   ]
  },
  {
   "cell_type": "code",
   "execution_count": 50,
   "id": "14e98cdc",
   "metadata": {},
   "outputs": [
    {
     "data": {
      "image/png": "[encoded data removed]",
      "text/plain": [
       "<Figure size 864x432 with 1 Axes>"
      ]
     },
     "metadata": {
      "needs_background": "light"
     },
     "output_type": "display_data"
    }
   ],
   "source": [
    "plt.figure(figsize=(12,6))\n",
    "sns.histplot(x='payment_value', data=Command_df)\n",
    "plt.title('Distribution of payment values')\n",
    "plt.xlabel('Value of payments')\n",
    "plt.ylabel('No. of Orders')\n",
    "plt.show()"
   ]
  },
  {
   "cell_type": "code",
   "execution_count": 51,
   "id": "60cf120b",
   "metadata": {},
   "outputs": [
    {
     "data": {
      "image/png": "[encoded data removed]",
      "text/plain": [
       "<Figure size 864x432 with 1 Axes>"
      ]
     },
     "metadata": {
      "needs_background": "light"
     },
     "output_type": "display_data"
    }
   ],
   "source": [
    "plt.figure(figsize=(12,6))\n",
    "sns.barplot(x='payment_type', y='payment_value', data=Command_df, ci = None)\n",
    "plt.title('Amount spent according to payment method')\n",
    "plt.xlabel('Payment Method')\n",
    "plt.ylabel('Amount Spent')\n",
    "plt.show()"
   ]
  },
  {
   "cell_type": "markdown",
   "id": "14cfb6fc",
   "metadata": {},
   "source": [
    "***Distribution of customers by number of payment installments***"
   ]
  },
  {
   "cell_type": "code",
   "execution_count": 52,
   "id": "da225544",
   "metadata": {},
   "outputs": [
    {
     "data": {
      "image/png": "[encoded data removed]",
      "text/plain": [
       "<Figure size 1000x600 with 1 Axes>"
      ]
     },
     "metadata": {
      "needs_background": "light"
     },
     "output_type": "display_data"
    }
   ],
   "source": [
    "countplot(Command_df, 'payment_installments')\n",
    "plt.ylabel('Number of Customers')\n",
    "plt.title('Number on payment instalments')\n",
    "plt.show()  "
   ]
  },
  {
   "cell_type": "markdown",
   "id": "32f08d06",
   "metadata": {},
   "source": [
    "***Distribution of customers by total number of items ordered***"
   ]
  },
  {
   "cell_type": "code",
   "execution_count": 53,
   "id": "686df5fe",
   "metadata": {},
   "outputs": [
    {
     "data": {
      "image/png": "[encoded data removed]",
      "text/plain": [
       "<Figure size 1000x600 with 1 Axes>"
      ]
     },
     "metadata": {
      "needs_background": "light"
     },
     "output_type": "display_data"
    }
   ],
   "source": [
    "countplot(Command_df, 'order_item_id')\n",
    "plt.xlabel('Number of items')\n",
    "plt.ylabel('Number of Customers')\n",
    "plt.title('Number of items by clients')\n",
    "plt.show()  "
   ]
  },
  {
   "cell_type": "code",
   "execution_count": 54,
   "id": "69f3817a",
   "metadata": {},
   "outputs": [
    {
     "name": "stdout",
     "output_type": "stream",
     "text": [
      "Number of customers that bought more than 1 items are: 14022.000\n",
      "Percentage Number of customers that bought more than 1 orders is: 12.400%\n"
     ]
    }
   ],
   "source": [
    "more_items = Command_df[Command_df['order_item_id'] > 1]\n",
    "len(more_items)\n",
    "\n",
    "percent_more_items = round(len(more_items)*100/len(Command_df), 1)\n",
    "\n",
    "print(\"Number of customers that bought more than 1 items are: %.3f\" % len(more_items))\n",
    "print(\"Percentage Number of customers that bought more than 1 orders is: %.3f\" % percent_more_items + '%')"
   ]
  },
  {
   "cell_type": "markdown",
   "id": "af3a8cf8",
   "metadata": {},
   "source": [
    "***Top 10 products purchased by the customers***"
   ]
  },
  {
   "cell_type": "code",
   "execution_count": 55,
   "id": "ff11a032",
   "metadata": {},
   "outputs": [
    {
     "data": {
      "image/png": "[encoded data removed]",
      "text/plain": [
       "<Figure size 1000x600 with 1 Axes>"
      ]
     },
     "metadata": {
      "needs_background": "light"
     },
     "output_type": "display_data"
    }
   ],
   "source": [
    "# Top 10 product categories\n",
    "Top_10_prod = Command_df['product_category_name_english'].value_counts().nlargest(10)\n",
    "\n",
    "# Visualize the top 10 products\n",
    "plt.figure(figsize=(10,6), dpi = 100)\n",
    "Top_10_prod.plot(kind = 'bar')\n",
    "plt.ylabel('Number of products')\n",
    "plt.title('Distribution of top ten products by category')\n",
    "plt.show()  "
   ]
  },
  {
   "cell_type": "markdown",
   "id": "a16b71ed",
   "metadata": {},
   "source": [
    "***Distribution of customers' review scores***"
   ]
  },
  {
   "cell_type": "code",
   "execution_count": 56,
   "id": "0e697a3c",
   "metadata": {},
   "outputs": [
    {
     "data": {
      "image/png": "[encoded data removed]",
      "text/plain": [
       "<Figure size 576x576 with 1 Axes>"
      ]
     },
     "metadata": {},
     "output_type": "display_data"
    }
   ],
   "source": [
    "label = [2 , 3, 1, 4, 5]\n",
    "plt.figure(figsize=(8,8))\n",
    "palette = sns.color_palette('bright')\n",
    "plt.pie(Command_df['review_score'].value_counts().sort_values(), labels=label, autopct='%0.1f%%')\n",
    "plt.show()"
   ]
  },
  {
   "cell_type": "code",
   "execution_count": 57,
   "id": "75aa12cf",
   "metadata": {},
   "outputs": [
    {
     "data": {
      "image/png": "[encoded data removed]",
      "text/plain": [
       "<Figure size 1000x600 with 1 Axes>"
      ]
     },
     "metadata": {
      "needs_background": "light"
     },
     "output_type": "display_data"
    }
   ],
   "source": [
    "countplot(Command_df, 'review_score')\n",
    "plt.ylabel('Number of Customers')\n",
    "plt.xlabel('Review Score')\n",
    "plt.title('Distribution of Review Scores')\n",
    "plt.show() "
   ]
  },
  {
   "cell_type": "markdown",
   "id": "c962e2fe",
   "metadata": {},
   "source": [
    "Estimate the distance between the customers and sellers "
   ]
  },
  {
   "cell_type": "code",
   "execution_count": 58,
   "id": "e5a8cda5",
   "metadata": {},
   "outputs": [],
   "source": [
    "cust = Customers[['customer_id', 'customer_state','customer_zip_code_prefix']]\n",
    "seller = Sellers[['seller_id','seller_zip_code_prefix']]\n",
    "geo_loc = Geolocation.groupby('geolocation_zip_code_prefix').mean().reset_index()\n",
    "\n",
    "# Add customers and sellers files to the command df\n",
    "Data_dist = pd.merge(Command_df,cust,how='left',on='customer_id')\n",
    "Data_dist=pd.merge(Data_dist,seller,how='left',on='seller_id')\n",
    "\n",
    "# get their locations\n",
    "Data_loc = pd.merge(Data_dist, geo_loc, how='left', left_on='customer_zip_code_prefix', right_on=\n",
    "                    'geolocation_zip_code_prefix').rename(columns={'geolocation_lat':'cus_lat','geolocation_lng':'cus_lng'})\n",
    "Data_loc.drop(columns=['geolocation_zip_code_prefix','customer_zip_code_prefix'], axis = 1, inplace = True)\n",
    "\n",
    "# get sellers location\n",
    "\n",
    "Data_loc = pd.merge(Data_loc, geo_loc, how='left', left_on='seller_zip_code_prefix', right_on=\n",
    "                    'geolocation_zip_code_prefix').rename(columns={'geolocation_lat':'sel_lat','geolocation_lng':'sel_lng'})\n",
    "Data_loc.drop(columns=['geolocation_zip_code_prefix','seller_zip_code_prefix'], axis = 1, inplace = True)\n",
    "Data_loc.dropna(axis = 0, inplace = True)"
   ]
  },
  {
   "cell_type": "code",
   "execution_count": 59,
   "id": "12124889",
   "metadata": {},
   "outputs": [],
   "source": [
    "# calculate the distance between the seller & the buyer\n",
    "\n",
    "R = 6372.8 # radius of the earth in kilometers (https://imagine.gsfc.nasa.gov/features/cosmic/earth_info.html)\n",
    "\n",
    "# change series data from string to float\n",
    "lat1 = Data_loc['cus_lat'].astype(float)\n",
    "lat2 = Data_loc['sel_lat'].astype(float)\n",
    "lon1 = Data_loc['cus_lng'].astype(float)\n",
    "lon2 = Data_loc['sel_lng'].astype(float)\n",
    "\n",
    "# convert decimal degrees to radians\n",
    "dLat = np.radians(lat2 - lat1)\n",
    "dLon = np.radians(lon2 - lon1)\n",
    "lat1 = np.radians(lat1)\n",
    "lat2 = np.radians(lat2)\n",
    "\n",
    "# haversine formula\n",
    "a = np.sin(dLat/2)**2 + np.cos(lat1)*np.cos(lat2)*np.sin(dLon/2)**2\n",
    "c = 2*np.arcsin(np.sqrt(a))\n",
    "distance = (R * c).round(2)\n",
    "\n",
    "# add distance to dataframe\n",
    "Data_loc['distance(km)'] = distance\n",
    "\n",
    "#drop unnecessary columns\n",
    "Command_df_f = Data_loc.drop(['cus_lat', 'sel_lat', 'cus_lng', 'sel_lng'], axis = 1)"
   ]
  },
  {
   "cell_type": "markdown",
   "id": "bbed21cf",
   "metadata": {},
   "source": [
    "***Distribution of customers by states***"
   ]
  },
  {
   "cell_type": "code",
   "execution_count": 60,
   "id": "8af377f4",
   "metadata": {},
   "outputs": [
    {
     "data": {
      "image/png": "[encoded data removed]",
      "text/plain": [
       "<Figure size 1000x600 with 1 Axes>"
      ]
     },
     "metadata": {
      "needs_background": "light"
     },
     "output_type": "display_data"
    }
   ],
   "source": [
    "countplot(Command_df_f, 'customer_state')\n",
    "plt.ylabel('Number of Customers')\n",
    "plt.title('Distribution of customers by states')\n",
    "plt.show()  "
   ]
  },
  {
   "cell_type": "markdown",
   "id": "bf68e9c8",
   "metadata": {},
   "source": [
    "***Total amounts spent by states***"
   ]
  },
  {
   "cell_type": "code",
   "execution_count": 61,
   "id": "7659ff9b",
   "metadata": {},
   "outputs": [
    {
     "data": {
      "image/png": "[encoded data removed]",
      "text/plain": [
       "<Figure size 864x432 with 1 Axes>"
      ]
     },
     "metadata": {
      "needs_background": "light"
     },
     "output_type": "display_data"
    }
   ],
   "source": [
    "plt.figure(figsize=(12,6)) #set figure size\n",
    "#plt.grid(False) #set the background\n",
    "sns.barplot(data = Command_df_f, x = 'customer_state', y= 'payment_value', color = 'blue',\n",
    "            alpha = 0.5, ci = None) # create a histogram plot\n",
    "plt.ylabel('Amount Spent')\n",
    "plt.xlabel('State')\n",
    "plt.title('Total amounts spent by states')\n",
    "plt.show()"
   ]
  },
  {
   "cell_type": "markdown",
   "id": "b776447c",
   "metadata": {},
   "source": [
    "Create final command file"
   ]
  },
  {
   "cell_type": "code",
   "execution_count": 62,
   "id": "4ff007cf",
   "metadata": {},
   "outputs": [],
   "source": [
    "lst = ['order_purchase_timestamp','payment_type', 'product_category_name_english', 'days_of_week', 'purchase_day', \n",
    "       'purchase_period', 'order_item_id', 'customer_state']\n",
    "Command_df_f.drop(lst, axis = 1, inplace = True)"
   ]
  },
  {
   "cell_type": "code",
   "execution_count": 63,
   "id": "9e041312",
   "metadata": {},
   "outputs": [],
   "source": [
    "grp = ['order_id', 'customer_id',]\n",
    "Command_final = Command_df_f.groupby(grp).agg({'price':'sum','freight_value':'sum',\n",
    "                                             'payment_value': 'sum','payment_installments':'mean', \n",
    "                                             'payment_sequential':'mean',\n",
    "                                             'review_score': 'mean', 'purchase_year':'mean', 'purchase_month':'mean', \n",
    "                                             'last_purchase':'min', 'delivery_days':'mean', \n",
    "                                             'delayed_delivery':'mean', 'distance(km)':'mean'}).reset_index()"
   ]
  },
  {
   "cell_type": "markdown",
   "id": "272de6ad",
   "metadata": {},
   "source": [
    "### 3.2 Customers file"
   ]
  },
  {
   "cell_type": "code",
   "execution_count": 64,
   "id": "0abf1ffd",
   "metadata": {},
   "outputs": [
    {
     "data": {
      "text/html": [
       "<div>\n",
       "<style scoped>\n",
       "    .dataframe tbody tr th:only-of-type {\n",
       "        vertical-align: middle;\n",
       "    }\n",
       "\n",
       "    .dataframe tbody tr th {\n",
       "        vertical-align: top;\n",
       "    }\n",
       "\n",
       "    .dataframe thead th {\n",
       "        text-align: right;\n",
       "    }\n",
       "</style>\n",
       "<table border=\"1\" class=\"dataframe\">\n",
       "  <thead>\n",
       "    <tr style=\"text-align: right;\">\n",
       "      <th></th>\n",
       "      <th>customer_unique_id</th>\n",
       "      <th>order_id</th>\n",
       "      <th>price</th>\n",
       "      <th>freight_value</th>\n",
       "      <th>payment_value</th>\n",
       "      <th>payment_installments</th>\n",
       "      <th>payment_sequential</th>\n",
       "      <th>review_score</th>\n",
       "      <th>purchase_year</th>\n",
       "      <th>purchase_month</th>\n",
       "      <th>last_purchase</th>\n",
       "      <th>delivery_days</th>\n",
       "      <th>delayed_delivery</th>\n",
       "      <th>distance(km)</th>\n",
       "    </tr>\n",
       "  </thead>\n",
       "  <tbody>\n",
       "    <tr>\n",
       "      <th>0</th>\n",
       "      <td>861eff4711a542e4b93843c6dd7febb0</td>\n",
       "      <td>00e7ee1b050b8499577073aeb2a297a1</td>\n",
       "      <td>124.99</td>\n",
       "      <td>21.88</td>\n",
       "      <td>146.87</td>\n",
       "      <td>2.0</td>\n",
       "      <td>1.0</td>\n",
       "      <td>4.0</td>\n",
       "      <td>2017.0</td>\n",
       "      <td>5.0</td>\n",
       "      <td>474</td>\n",
       "      <td>8.0</td>\n",
       "      <td>0.0</td>\n",
       "      <td>348.87</td>\n",
       "    </tr>\n",
       "    <tr>\n",
       "      <th>1</th>\n",
       "      <td>290c77bc529b7ac935b93aa66c333dc3</td>\n",
       "      <td>29150127e6685892b6eab3eec79f59c7</td>\n",
       "      <td>289.00</td>\n",
       "      <td>46.48</td>\n",
       "      <td>335.48</td>\n",
       "      <td>8.0</td>\n",
       "      <td>1.0</td>\n",
       "      <td>5.0</td>\n",
       "      <td>2018.0</td>\n",
       "      <td>1.0</td>\n",
       "      <td>233</td>\n",
       "      <td>16.0</td>\n",
       "      <td>0.0</td>\n",
       "      <td>413.95</td>\n",
       "    </tr>\n",
       "    <tr>\n",
       "      <th>2</th>\n",
       "      <td>060e732b5b29e8181a18229c7b0b2b5e</td>\n",
       "      <td>b2059ed67ce144a36e2aa97d2c9e9ad2</td>\n",
       "      <td>139.94</td>\n",
       "      <td>17.79</td>\n",
       "      <td>157.73</td>\n",
       "      <td>7.0</td>\n",
       "      <td>1.0</td>\n",
       "      <td>5.0</td>\n",
       "      <td>2018.0</td>\n",
       "      <td>5.0</td>\n",
       "      <td>106</td>\n",
       "      <td>26.0</td>\n",
       "      <td>1.0</td>\n",
       "      <td>29.97</td>\n",
       "    </tr>\n",
       "    <tr>\n",
       "      <th>3</th>\n",
       "      <td>259dac757896d24d7702b9acbbff3f3c</td>\n",
       "      <td>951670f92359f4fe4a63112aa7306eba</td>\n",
       "      <td>149.94</td>\n",
       "      <td>23.36</td>\n",
       "      <td>173.30</td>\n",
       "      <td>1.0</td>\n",
       "      <td>1.0</td>\n",
       "      <td>5.0</td>\n",
       "      <td>2018.0</td>\n",
       "      <td>3.0</td>\n",
       "      <td>173</td>\n",
       "      <td>14.0</td>\n",
       "      <td>0.0</td>\n",
       "      <td>18.57</td>\n",
       "    </tr>\n",
       "    <tr>\n",
       "      <th>4</th>\n",
       "      <td>345ecd01c38d18a9036ed96c73b8d066</td>\n",
       "      <td>6b7d50bd145f6fc7f33cebabd7e49d0f</td>\n",
       "      <td>230.00</td>\n",
       "      <td>22.25</td>\n",
       "      <td>252.25</td>\n",
       "      <td>8.0</td>\n",
       "      <td>1.0</td>\n",
       "      <td>5.0</td>\n",
       "      <td>2018.0</td>\n",
       "      <td>7.0</td>\n",
       "      <td>35</td>\n",
       "      <td>11.0</td>\n",
       "      <td>0.0</td>\n",
       "      <td>220.11</td>\n",
       "    </tr>\n",
       "  </tbody>\n",
       "</table>\n",
       "</div>"
      ],
      "text/plain": [
       "                 customer_unique_id                          order_id   price  \\\n",
       "0  861eff4711a542e4b93843c6dd7febb0  00e7ee1b050b8499577073aeb2a297a1  124.99   \n",
       "1  290c77bc529b7ac935b93aa66c333dc3  29150127e6685892b6eab3eec79f59c7  289.00   \n",
       "2  060e732b5b29e8181a18229c7b0b2b5e  b2059ed67ce144a36e2aa97d2c9e9ad2  139.94   \n",
       "3  259dac757896d24d7702b9acbbff3f3c  951670f92359f4fe4a63112aa7306eba  149.94   \n",
       "4  345ecd01c38d18a9036ed96c73b8d066  6b7d50bd145f6fc7f33cebabd7e49d0f  230.00   \n",
       "\n",
       "   freight_value  payment_value  payment_installments  payment_sequential  \\\n",
       "0          21.88         146.87                   2.0                 1.0   \n",
       "1          46.48         335.48                   8.0                 1.0   \n",
       "2          17.79         157.73                   7.0                 1.0   \n",
       "3          23.36         173.30                   1.0                 1.0   \n",
       "4          22.25         252.25                   8.0                 1.0   \n",
       "\n",
       "   review_score  purchase_year  purchase_month  last_purchase  delivery_days  \\\n",
       "0           4.0         2017.0             5.0            474            8.0   \n",
       "1           5.0         2018.0             1.0            233           16.0   \n",
       "2           5.0         2018.0             5.0            106           26.0   \n",
       "3           5.0         2018.0             3.0            173           14.0   \n",
       "4           5.0         2018.0             7.0             35           11.0   \n",
       "\n",
       "   delayed_delivery  distance(km)  \n",
       "0               0.0        348.87  \n",
       "1               0.0        413.95  \n",
       "2               1.0         29.97  \n",
       "3               0.0         18.57  \n",
       "4               0.0        220.11  "
      ]
     },
     "execution_count": 64,
     "metadata": {},
     "output_type": "execute_result"
    }
   ],
   "source": [
    "# Merge the command file with the customer's unique ID\n",
    "Client_df = pd.merge(Customers[['customer_id','customer_unique_id']],Command_final, on = 'customer_id')\n",
    "\n",
    "# drop unneccassary columns\n",
    "Client_df.drop(['customer_id'], axis = 1, inplace = True)\n",
    "\n",
    "\n",
    "Client_df.head(5)"
   ]
  },
  {
   "cell_type": "code",
   "execution_count": 65,
   "id": "dc93d3d2",
   "metadata": {},
   "outputs": [],
   "source": [
    "Client_Final = Client_df.groupby('customer_unique_id').agg({'order_id':'count', 'price': 'sum', 'freight_value':'sum', \n",
    "            'payment_value': 'sum','review_score': 'mean', 'purchase_year':'mean', 'purchase_month':'mean', \n",
    "            'last_purchase':'min', 'payment_installments':'mean', 'payment_sequential':'mean', \n",
    "            'delivery_days':'mean', 'delayed_delivery':'mean', 'distance(km)':'mean'}).reset_index()\n",
    "\n",
    "# Rename columns\n",
    "Client_Final = Client_Final.rename(columns={\"order_id\": \"nb_orders\",  \n",
    "                            \"price\": \"Total_price\", \"freight_value\": \"total_freight\",\n",
    "                            \"payment_value\" : \"Total_spent\", \"payment_installments\": \"mean_installments\",\n",
    "                            \"last_purchase\":\"Recency_days\",})"
   ]
  },
  {
   "cell_type": "markdown",
   "id": "8fa98eed",
   "metadata": {},
   "source": [
    "***Distribution of customers by number of orders***"
   ]
  },
  {
   "cell_type": "code",
   "execution_count": 66,
   "id": "5a030063",
   "metadata": {},
   "outputs": [
    {
     "data": {
      "image/png": "[encoded data removed]",
      "text/plain": [
       "<Figure size 1000x600 with 1 Axes>"
      ]
     },
     "metadata": {
      "needs_background": "light"
     },
     "output_type": "display_data"
    }
   ],
   "source": [
    "countplot(Client_Final, \"nb_orders\")\n",
    "plt.xlabel('Number of orders')\n",
    "plt.ylabel('Number of Customers')\n",
    "plt.title('Number of orders by clients')\n",
    "#ax.bar_label(ax.containers[0], label_type='edge', color='black')\n",
    "plt.show()  "
   ]
  },
  {
   "cell_type": "code",
   "execution_count": 67,
   "id": "ffa28dde",
   "metadata": {},
   "outputs": [
    {
     "name": "stdout",
     "output_type": "stream",
     "text": [
      "Number of customers with more than 1 orders are: 2687.000\n",
      "Percentage Number of customers with more than 1 orders is: 3.000%\n"
     ]
    }
   ],
   "source": [
    "more_orders = Client_Final[Client_Final[\"nb_orders\"] > 1]\n",
    "len(more_orders)\n",
    "\n",
    "percent_more_orders = round(len(more_orders)*100/len(Client_Final), 1)\n",
    "\n",
    "\n",
    "print(\"Number of customers with more than 1 orders are: %.3f\" % len(more_orders))\n",
    "print(\"Percentage Number of customers with more than 1 orders is: %.3f\" % percent_more_orders + '%')"
   ]
  },
  {
   "cell_type": "markdown",
   "id": "1556ff61",
   "metadata": {},
   "source": [
    "### 3.3 Summary of Exploratory Analyses of the Datasets"
   ]
  },
  {
   "cell_type": "markdown",
   "id": "9ddd92af",
   "metadata": {},
   "source": [
    "***Customers:***\n",
    " - Most of the customers are from three states - SP (Sau Pauolo), RJ (Rio de Janeiro, and MG (Minas Gerais)\n",
    " - Top three spending states from are PB, AC, and AP \n",
    " - Only 3% of the customers made order more than once\n",
    "\n",
    "***Number of orders:***\n",
    " - Most of the orders were made on Mondays and Tuesdays with least orders during the weekends on Saturdays and Sundays\n",
    " - The highest number of orders were made in August and May with the least numbers in September and October\n",
    " - 97% of total orders were delivered \n",
    " - The number of sales grew significantly in from October 2017 but slighly dropped from June 2018\n",
    " \n",
    "***Payments:*** \n",
    "  - Only a few numbers of custromers paid in more than 10 times instalments while majority of the customers paid only one time\n",
    "  - Credit card is the most preferred means of payment, followed by boleto, voucher, and then debit card. \n",
    "\n",
    "***Product Category:***\n",
    " - The top 10 ordered products are from the bed_bath_table, sports and leisure, furniture_decor, health_beauty, housewares, auto, computers_accessories, toys, watches_gifts, and telephony  categories\n",
    "\n",
    "***Review Scores:***\n",
    " - Most of the customers are satisfied with a combined 4 and 5 ratings of 77 %, while those with less satisfactions are less than 15%."
   ]
  },
  {
   "cell_type": "markdown",
   "id": "7bafb370",
   "metadata": {},
   "source": [
    "## 4.0 Quality check of the final files"
   ]
  },
  {
   "cell_type": "markdown",
   "id": "7a24cfad",
   "metadata": {},
   "source": [
    "### 4.1 Command file"
   ]
  },
  {
   "cell_type": "code",
   "execution_count": 68,
   "id": "3ad0a208",
   "metadata": {},
   "outputs": [
    {
     "name": "stdout",
     "output_type": "stream",
     "text": [
      "<class 'pandas.core.frame.DataFrame'>\n",
      "RangeIndex: 94019 entries, 0 to 94018\n",
      "Data columns (total 14 columns):\n",
      " #   Column                Non-Null Count  Dtype  \n",
      "---  ------                --------------  -----  \n",
      " 0   order_id              94019 non-null  object \n",
      " 1   customer_id           94019 non-null  object \n",
      " 2   price                 94019 non-null  float64\n",
      " 3   freight_value         94019 non-null  float64\n",
      " 4   payment_value         94019 non-null  float64\n",
      " 5   payment_installments  94019 non-null  float64\n",
      " 6   payment_sequential    94019 non-null  float64\n",
      " 7   review_score          94019 non-null  float64\n",
      " 8   purchase_year         94019 non-null  float64\n",
      " 9   purchase_month        94019 non-null  float64\n",
      " 10  last_purchase         94019 non-null  int64  \n",
      " 11  delivery_days         94019 non-null  float64\n",
      " 12  delayed_delivery      94019 non-null  float64\n",
      " 13  distance(km)          94019 non-null  float64\n",
      "dtypes: float64(11), int64(1), object(2)\n",
      "memory usage: 10.0+ MB\n"
     ]
    }
   ],
   "source": [
    "Command_final.info()"
   ]
  },
  {
   "cell_type": "code",
   "execution_count": 69,
   "id": "bde4c40a",
   "metadata": {},
   "outputs": [
    {
     "data": {
      "text/html": [
       "<div>\n",
       "<style scoped>\n",
       "    .dataframe tbody tr th:only-of-type {\n",
       "        vertical-align: middle;\n",
       "    }\n",
       "\n",
       "    .dataframe tbody tr th {\n",
       "        vertical-align: top;\n",
       "    }\n",
       "\n",
       "    .dataframe thead th {\n",
       "        text-align: right;\n",
       "    }\n",
       "</style>\n",
       "<table border=\"1\" class=\"dataframe\">\n",
       "  <thead>\n",
       "    <tr style=\"text-align: right;\">\n",
       "      <th></th>\n",
       "      <th>price</th>\n",
       "      <th>freight_value</th>\n",
       "      <th>payment_value</th>\n",
       "      <th>payment_installments</th>\n",
       "      <th>payment_sequential</th>\n",
       "      <th>review_score</th>\n",
       "      <th>purchase_year</th>\n",
       "      <th>purchase_month</th>\n",
       "      <th>last_purchase</th>\n",
       "      <th>delivery_days</th>\n",
       "      <th>delayed_delivery</th>\n",
       "      <th>distance(km)</th>\n",
       "    </tr>\n",
       "  </thead>\n",
       "  <tbody>\n",
       "    <tr>\n",
       "      <th>count</th>\n",
       "      <td>94019.000000</td>\n",
       "      <td>94019.000000</td>\n",
       "      <td>94019.000000</td>\n",
       "      <td>94019.000000</td>\n",
       "      <td>94019.000000</td>\n",
       "      <td>94019.000000</td>\n",
       "      <td>94019.000000</td>\n",
       "      <td>94019.000000</td>\n",
       "      <td>94019.000000</td>\n",
       "      <td>94019.000000</td>\n",
       "      <td>94019.000000</td>\n",
       "      <td>94019.000000</td>\n",
       "    </tr>\n",
       "    <tr>\n",
       "      <th>mean</th>\n",
       "      <td>143.658734</td>\n",
       "      <td>23.957501</td>\n",
       "      <td>205.640219</td>\n",
       "      <td>2.913548</td>\n",
       "      <td>1.022889</td>\n",
       "      <td>4.157502</td>\n",
       "      <td>2017.546358</td>\n",
       "      <td>6.035525</td>\n",
       "      <td>242.880397</td>\n",
       "      <td>12.040790</td>\n",
       "      <td>0.697540</td>\n",
       "      <td>601.235751</td>\n",
       "    </tr>\n",
       "    <tr>\n",
       "      <th>std</th>\n",
       "      <td>236.549390</td>\n",
       "      <td>25.571512</td>\n",
       "      <td>611.036355</td>\n",
       "      <td>2.698910</td>\n",
       "      <td>0.186431</td>\n",
       "      <td>1.282237</td>\n",
       "      <td>0.503394</td>\n",
       "      <td>3.220035</td>\n",
       "      <td>152.903572</td>\n",
       "      <td>9.458109</td>\n",
       "      <td>4.551664</td>\n",
       "      <td>593.369849</td>\n",
       "    </tr>\n",
       "    <tr>\n",
       "      <th>min</th>\n",
       "      <td>0.850000</td>\n",
       "      <td>0.000000</td>\n",
       "      <td>9.590000</td>\n",
       "      <td>0.000000</td>\n",
       "      <td>1.000000</td>\n",
       "      <td>1.000000</td>\n",
       "      <td>2016.000000</td>\n",
       "      <td>1.000000</td>\n",
       "      <td>4.000000</td>\n",
       "      <td>0.000000</td>\n",
       "      <td>0.000000</td>\n",
       "      <td>0.000000</td>\n",
       "    </tr>\n",
       "    <tr>\n",
       "      <th>25%</th>\n",
       "      <td>47.600000</td>\n",
       "      <td>14.060000</td>\n",
       "      <td>62.815000</td>\n",
       "      <td>1.000000</td>\n",
       "      <td>1.000000</td>\n",
       "      <td>4.000000</td>\n",
       "      <td>2017.000000</td>\n",
       "      <td>3.000000</td>\n",
       "      <td>119.000000</td>\n",
       "      <td>6.000000</td>\n",
       "      <td>0.000000</td>\n",
       "      <td>188.985000</td>\n",
       "    </tr>\n",
       "    <tr>\n",
       "      <th>50%</th>\n",
       "      <td>89.000000</td>\n",
       "      <td>17.600000</td>\n",
       "      <td>109.590000</td>\n",
       "      <td>2.000000</td>\n",
       "      <td>1.000000</td>\n",
       "      <td>5.000000</td>\n",
       "      <td>2018.000000</td>\n",
       "      <td>6.000000</td>\n",
       "      <td>223.000000</td>\n",
       "      <td>10.000000</td>\n",
       "      <td>0.000000</td>\n",
       "      <td>434.420000</td>\n",
       "    </tr>\n",
       "    <tr>\n",
       "      <th>75%</th>\n",
       "      <td>154.900000</td>\n",
       "      <td>25.630000</td>\n",
       "      <td>196.350000</td>\n",
       "      <td>4.000000</td>\n",
       "      <td>1.000000</td>\n",
       "      <td>5.000000</td>\n",
       "      <td>2018.000000</td>\n",
       "      <td>8.000000</td>\n",
       "      <td>353.000000</td>\n",
       "      <td>15.000000</td>\n",
       "      <td>0.000000</td>\n",
       "      <td>798.255000</td>\n",
       "    </tr>\n",
       "    <tr>\n",
       "      <th>max</th>\n",
       "      <td>13440.000000</td>\n",
       "      <td>1794.960000</td>\n",
       "      <td>109312.640000</td>\n",
       "      <td>24.000000</td>\n",
       "      <td>13.500000</td>\n",
       "      <td>5.000000</td>\n",
       "      <td>2018.000000</td>\n",
       "      <td>12.000000</td>\n",
       "      <td>699.000000</td>\n",
       "      <td>208.000000</td>\n",
       "      <td>188.000000</td>\n",
       "      <td>8680.360000</td>\n",
       "    </tr>\n",
       "  </tbody>\n",
       "</table>\n",
       "</div>"
      ],
      "text/plain": [
       "              price  freight_value  payment_value  payment_installments  \\\n",
       "count  94019.000000   94019.000000   94019.000000          94019.000000   \n",
       "mean     143.658734      23.957501     205.640219              2.913548   \n",
       "std      236.549390      25.571512     611.036355              2.698910   \n",
       "min        0.850000       0.000000       9.590000              0.000000   \n",
       "25%       47.600000      14.060000      62.815000              1.000000   \n",
       "50%       89.000000      17.600000     109.590000              2.000000   \n",
       "75%      154.900000      25.630000     196.350000              4.000000   \n",
       "max    13440.000000    1794.960000  109312.640000             24.000000   \n",
       "\n",
       "       payment_sequential  review_score  purchase_year  purchase_month  \\\n",
       "count        94019.000000  94019.000000   94019.000000    94019.000000   \n",
       "mean             1.022889      4.157502    2017.546358        6.035525   \n",
       "std              0.186431      1.282237       0.503394        3.220035   \n",
       "min              1.000000      1.000000    2016.000000        1.000000   \n",
       "25%              1.000000      4.000000    2017.000000        3.000000   \n",
       "50%              1.000000      5.000000    2018.000000        6.000000   \n",
       "75%              1.000000      5.000000    2018.000000        8.000000   \n",
       "max             13.500000      5.000000    2018.000000       12.000000   \n",
       "\n",
       "       last_purchase  delivery_days  delayed_delivery  distance(km)  \n",
       "count   94019.000000   94019.000000      94019.000000  94019.000000  \n",
       "mean      242.880397      12.040790          0.697540    601.235751  \n",
       "std       152.903572       9.458109          4.551664    593.369849  \n",
       "min         4.000000       0.000000          0.000000      0.000000  \n",
       "25%       119.000000       6.000000          0.000000    188.985000  \n",
       "50%       223.000000      10.000000          0.000000    434.420000  \n",
       "75%       353.000000      15.000000          0.000000    798.255000  \n",
       "max       699.000000     208.000000        188.000000   8680.360000  "
      ]
     },
     "execution_count": 69,
     "metadata": {},
     "output_type": "execute_result"
    }
   ],
   "source": [
    "Command_final.describe()"
   ]
  },
  {
   "cell_type": "code",
   "execution_count": 70,
   "id": "4637fd16",
   "metadata": {},
   "outputs": [
    {
     "data": {
      "text/plain": [
       "0"
      ]
     },
     "execution_count": 70,
     "metadata": {},
     "output_type": "execute_result"
    }
   ],
   "source": [
    "# Duplicated order_id\n",
    "Command_final.duplicated(subset=['order_id']).sum()"
   ]
  },
  {
   "cell_type": "code",
   "execution_count": 71,
   "id": "67960a9e",
   "metadata": {},
   "outputs": [
    {
     "data": {
      "text/plain": [
       "order_id                0\n",
       "customer_id             0\n",
       "price                   0\n",
       "freight_value           0\n",
       "payment_value           0\n",
       "payment_installments    0\n",
       "payment_sequential      0\n",
       "review_score            0\n",
       "purchase_year           0\n",
       "purchase_month          0\n",
       "last_purchase           0\n",
       "delivery_days           0\n",
       "delayed_delivery        0\n",
       "distance(km)            0\n",
       "dtype: int64"
      ]
     },
     "execution_count": 71,
     "metadata": {},
     "output_type": "execute_result"
    }
   ],
   "source": [
    "# Check for missing values\n",
    "Command_final.isnull().sum()"
   ]
  },
  {
   "cell_type": "markdown",
   "id": "b5124be8",
   "metadata": {},
   "source": [
    "### 4.2 Client file"
   ]
  },
  {
   "cell_type": "code",
   "execution_count": 72,
   "id": "b76df92f",
   "metadata": {},
   "outputs": [
    {
     "name": "stdout",
     "output_type": "stream",
     "text": [
      "<class 'pandas.core.frame.DataFrame'>\n",
      "RangeIndex: 91035 entries, 0 to 91034\n",
      "Data columns (total 14 columns):\n",
      " #   Column              Non-Null Count  Dtype  \n",
      "---  ------              --------------  -----  \n",
      " 0   customer_unique_id  91035 non-null  object \n",
      " 1   nb_orders           91035 non-null  int64  \n",
      " 2   Total_price         91035 non-null  float64\n",
      " 3   total_freight       91035 non-null  float64\n",
      " 4   Total_spent         91035 non-null  float64\n",
      " 5   review_score        91035 non-null  float64\n",
      " 6   purchase_year       91035 non-null  float64\n",
      " 7   purchase_month      91035 non-null  float64\n",
      " 8   Recency_days        91035 non-null  int64  \n",
      " 9   mean_installments   91035 non-null  float64\n",
      " 10  payment_sequential  91035 non-null  float64\n",
      " 11  delivery_days       91035 non-null  float64\n",
      " 12  delayed_delivery    91035 non-null  float64\n",
      " 13  distance(km)        91035 non-null  float64\n",
      "dtypes: float64(11), int64(2), object(1)\n",
      "memory usage: 9.7+ MB\n"
     ]
    }
   ],
   "source": [
    "# Summary of the overall data\n",
    "Client_Final.info()"
   ]
  },
  {
   "cell_type": "code",
   "execution_count": 73,
   "id": "03c70589",
   "metadata": {},
   "outputs": [
    {
     "data": {
      "text/html": [
       "<div>\n",
       "<style scoped>\n",
       "    .dataframe tbody tr th:only-of-type {\n",
       "        vertical-align: middle;\n",
       "    }\n",
       "\n",
       "    .dataframe tbody tr th {\n",
       "        vertical-align: top;\n",
       "    }\n",
       "\n",
       "    .dataframe thead th {\n",
       "        text-align: right;\n",
       "    }\n",
       "</style>\n",
       "<table border=\"1\" class=\"dataframe\">\n",
       "  <thead>\n",
       "    <tr style=\"text-align: right;\">\n",
       "      <th></th>\n",
       "      <th>nb_orders</th>\n",
       "      <th>Total_price</th>\n",
       "      <th>total_freight</th>\n",
       "      <th>Total_spent</th>\n",
       "      <th>review_score</th>\n",
       "      <th>purchase_year</th>\n",
       "      <th>purchase_month</th>\n",
       "      <th>Recency_days</th>\n",
       "      <th>mean_installments</th>\n",
       "      <th>payment_sequential</th>\n",
       "      <th>delivery_days</th>\n",
       "      <th>delayed_delivery</th>\n",
       "      <th>distance(km)</th>\n",
       "    </tr>\n",
       "  </thead>\n",
       "  <tbody>\n",
       "    <tr>\n",
       "      <th>count</th>\n",
       "      <td>91035.000000</td>\n",
       "      <td>91035.000000</td>\n",
       "      <td>91035.000000</td>\n",
       "      <td>91035.000000</td>\n",
       "      <td>91035.000000</td>\n",
       "      <td>91035.000000</td>\n",
       "      <td>91035.000000</td>\n",
       "      <td>91035.000000</td>\n",
       "      <td>91035.000000</td>\n",
       "      <td>91035.000000</td>\n",
       "      <td>91035.000000</td>\n",
       "      <td>91035.000000</td>\n",
       "      <td>91035.000000</td>\n",
       "    </tr>\n",
       "    <tr>\n",
       "      <th>mean</th>\n",
       "      <td>1.032779</td>\n",
       "      <td>148.367666</td>\n",
       "      <td>24.742795</td>\n",
       "      <td>212.380817</td>\n",
       "      <td>4.154911</td>\n",
       "      <td>2017.548511</td>\n",
       "      <td>6.037375</td>\n",
       "      <td>240.741934</td>\n",
       "      <td>2.901808</td>\n",
       "      <td>1.022655</td>\n",
       "      <td>12.050488</td>\n",
       "      <td>0.702661</td>\n",
       "      <td>602.557026</td>\n",
       "    </tr>\n",
       "    <tr>\n",
       "      <th>std</th>\n",
       "      <td>0.205922</td>\n",
       "      <td>244.023009</td>\n",
       "      <td>27.085892</td>\n",
       "      <td>632.450459</td>\n",
       "      <td>1.278866</td>\n",
       "      <td>0.501487</td>\n",
       "      <td>3.205117</td>\n",
       "      <td>152.643978</td>\n",
       "      <td>2.677991</td>\n",
       "      <td>0.183189</td>\n",
       "      <td>9.457706</td>\n",
       "      <td>4.574737</td>\n",
       "      <td>593.863139</td>\n",
       "    </tr>\n",
       "    <tr>\n",
       "      <th>min</th>\n",
       "      <td>1.000000</td>\n",
       "      <td>0.850000</td>\n",
       "      <td>0.000000</td>\n",
       "      <td>9.590000</td>\n",
       "      <td>1.000000</td>\n",
       "      <td>2016.000000</td>\n",
       "      <td>1.000000</td>\n",
       "      <td>4.000000</td>\n",
       "      <td>0.000000</td>\n",
       "      <td>1.000000</td>\n",
       "      <td>0.000000</td>\n",
       "      <td>0.000000</td>\n",
       "      <td>0.000000</td>\n",
       "    </tr>\n",
       "    <tr>\n",
       "      <th>25%</th>\n",
       "      <td>1.000000</td>\n",
       "      <td>48.900000</td>\n",
       "      <td>14.100000</td>\n",
       "      <td>63.740000</td>\n",
       "      <td>4.000000</td>\n",
       "      <td>2017.000000</td>\n",
       "      <td>3.000000</td>\n",
       "      <td>117.000000</td>\n",
       "      <td>1.000000</td>\n",
       "      <td>1.000000</td>\n",
       "      <td>6.000000</td>\n",
       "      <td>0.000000</td>\n",
       "      <td>191.285000</td>\n",
       "    </tr>\n",
       "    <tr>\n",
       "      <th>50%</th>\n",
       "      <td>1.000000</td>\n",
       "      <td>89.900000</td>\n",
       "      <td>17.710000</td>\n",
       "      <td>112.760000</td>\n",
       "      <td>5.000000</td>\n",
       "      <td>2018.000000</td>\n",
       "      <td>6.000000</td>\n",
       "      <td>222.000000</td>\n",
       "      <td>2.000000</td>\n",
       "      <td>1.000000</td>\n",
       "      <td>10.000000</td>\n",
       "      <td>0.000000</td>\n",
       "      <td>435.610000</td>\n",
       "    </tr>\n",
       "    <tr>\n",
       "      <th>75%</th>\n",
       "      <td>1.000000</td>\n",
       "      <td>159.900000</td>\n",
       "      <td>26.610000</td>\n",
       "      <td>202.760000</td>\n",
       "      <td>5.000000</td>\n",
       "      <td>2018.000000</td>\n",
       "      <td>8.000000</td>\n",
       "      <td>349.000000</td>\n",
       "      <td>4.000000</td>\n",
       "      <td>1.000000</td>\n",
       "      <td>15.000000</td>\n",
       "      <td>0.000000</td>\n",
       "      <td>799.600000</td>\n",
       "    </tr>\n",
       "    <tr>\n",
       "      <th>max</th>\n",
       "      <td>14.000000</td>\n",
       "      <td>13440.000000</td>\n",
       "      <td>1794.960000</td>\n",
       "      <td>109312.640000</td>\n",
       "      <td>5.000000</td>\n",
       "      <td>2018.000000</td>\n",
       "      <td>12.000000</td>\n",
       "      <td>699.000000</td>\n",
       "      <td>24.000000</td>\n",
       "      <td>13.500000</td>\n",
       "      <td>208.000000</td>\n",
       "      <td>188.000000</td>\n",
       "      <td>8680.360000</td>\n",
       "    </tr>\n",
       "  </tbody>\n",
       "</table>\n",
       "</div>"
      ],
      "text/plain": [
       "          nb_orders   Total_price  total_freight    Total_spent  review_score  \\\n",
       "count  91035.000000  91035.000000   91035.000000   91035.000000  91035.000000   \n",
       "mean       1.032779    148.367666      24.742795     212.380817      4.154911   \n",
       "std        0.205922    244.023009      27.085892     632.450459      1.278866   \n",
       "min        1.000000      0.850000       0.000000       9.590000      1.000000   \n",
       "25%        1.000000     48.900000      14.100000      63.740000      4.000000   \n",
       "50%        1.000000     89.900000      17.710000     112.760000      5.000000   \n",
       "75%        1.000000    159.900000      26.610000     202.760000      5.000000   \n",
       "max       14.000000  13440.000000    1794.960000  109312.640000      5.000000   \n",
       "\n",
       "       purchase_year  purchase_month  Recency_days  mean_installments  \\\n",
       "count   91035.000000    91035.000000  91035.000000       91035.000000   \n",
       "mean     2017.548511        6.037375    240.741934           2.901808   \n",
       "std         0.501487        3.205117    152.643978           2.677991   \n",
       "min      2016.000000        1.000000      4.000000           0.000000   \n",
       "25%      2017.000000        3.000000    117.000000           1.000000   \n",
       "50%      2018.000000        6.000000    222.000000           2.000000   \n",
       "75%      2018.000000        8.000000    349.000000           4.000000   \n",
       "max      2018.000000       12.000000    699.000000          24.000000   \n",
       "\n",
       "       payment_sequential  delivery_days  delayed_delivery  distance(km)  \n",
       "count        91035.000000   91035.000000      91035.000000  91035.000000  \n",
       "mean             1.022655      12.050488          0.702661    602.557026  \n",
       "std              0.183189       9.457706          4.574737    593.863139  \n",
       "min              1.000000       0.000000          0.000000      0.000000  \n",
       "25%              1.000000       6.000000          0.000000    191.285000  \n",
       "50%              1.000000      10.000000          0.000000    435.610000  \n",
       "75%              1.000000      15.000000          0.000000    799.600000  \n",
       "max             13.500000     208.000000        188.000000   8680.360000  "
      ]
     },
     "execution_count": 73,
     "metadata": {},
     "output_type": "execute_result"
    }
   ],
   "source": [
    "# Statistical summary of numeric features\n",
    "Client_Final.describe()"
   ]
  },
  {
   "cell_type": "code",
   "execution_count": 74,
   "id": "ef41a416",
   "metadata": {},
   "outputs": [
    {
     "data": {
      "text/plain": [
       "0"
      ]
     },
     "execution_count": 74,
     "metadata": {},
     "output_type": "execute_result"
    }
   ],
   "source": [
    "# Duplicated order_id\n",
    "Client_Final.duplicated(subset=['customer_unique_id']).sum()"
   ]
  },
  {
   "cell_type": "code",
   "execution_count": 75,
   "id": "fb696b1e",
   "metadata": {},
   "outputs": [
    {
     "data": {
      "text/plain": [
       "customer_unique_id    0\n",
       "nb_orders             0\n",
       "Total_price           0\n",
       "total_freight         0\n",
       "Total_spent           0\n",
       "review_score          0\n",
       "purchase_year         0\n",
       "purchase_month        0\n",
       "Recency_days          0\n",
       "mean_installments     0\n",
       "payment_sequential    0\n",
       "delivery_days         0\n",
       "delayed_delivery      0\n",
       "distance(km)          0\n",
       "dtype: int64"
      ]
     },
     "execution_count": 75,
     "metadata": {},
     "output_type": "execute_result"
    }
   ],
   "source": [
    "# Check for missing values\n",
    "Client_Final.isnull().sum()"
   ]
  },
  {
   "cell_type": "markdown",
   "id": "09311d82",
   "metadata": {},
   "source": [
    "## 5.0 Save files for modelings\n",
    " - save the command files for customers' segmentation and simulation of cluster stability, respectively"
   ]
  },
  {
   "cell_type": "code",
   "execution_count": 76,
   "id": "8f45a374",
   "metadata": {},
   "outputs": [],
   "source": [
    "# Export and save the order and client dataframes to csv file for cluster analysis and modeling\n",
    "Client_Final.to_csv(\"Client_df.csv\", index = False)\n",
    "Command_final.to_csv(\"Command_df.csv\", index = False)\n",
    "Client_df.to_csv(\"Command_df2.csv\", index = False)"
   ]
  }
 ],
 "metadata": {
  "kernelspec": {
   "display_name": "Python 3 (ipykernel)",
   "language": "python",
   "name": "python3"
  },
  "language_info": {
   "codemirror_mode": {
    "name": "ipython",
    "version": 3
   },
   "file_extension": ".py",
   "mimetype": "text/x-python",
   "name": "python",
   "nbconvert_exporter": "python",
   "pygments_lexer": "ipython3",
   "version": "3.9.15"
  }
 },
 "nbformat": 4,
 "nbformat_minor": 5
}

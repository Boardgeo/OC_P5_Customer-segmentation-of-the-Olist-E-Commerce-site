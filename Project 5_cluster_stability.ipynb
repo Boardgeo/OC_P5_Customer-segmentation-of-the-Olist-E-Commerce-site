{
 "cells": [
  {
   "cell_type": "markdown",
   "id": "8e492934",
   "metadata": {},
   "source": [
    "# Customer segmentation of the Olist E-Commerce site"
   ]
  },
  {
   "cell_type": "markdown",
   "id": "3466ab00",
   "metadata": {},
   "source": [
    "## Context\n",
    " - Olist is the largest e-commerce platform in Brazilian online marketplaces that connects and offers a solution for buying and selling on online. \n",
    " - Olist wants to obtain a segmentation of its customers that their marketing team can use in their daily communication campaigns. \n",
    " - The dataset provided by has information of ~100k orders from 2016 to 2018 made at multiple marketplaces. "
   ]
  },
  {
   "cell_type": "markdown",
   "id": "79b1a4f9",
   "metadata": {},
   "source": [
    "## Goal:\n",
    " - To understand the different types of users through their behavior and anonymized personal data."
   ]
  },
  {
   "cell_type": "markdown",
   "id": "531610e8",
   "metadata": {},
   "source": [
    "## Objectives:\n",
    " My mission is to to help Olist teams understand the different types of users. Thus, I will use unsupervised methods to:\n",
    " - provide an actionable description of segmentation and its underlying logic for optimal use. \n",
    " - provide an analysis of the stability of the segments over time in order to establish a maintenance contract.\n",
    " - group together customers with similar profiles that can be used by the marketing team to better communicate."
   ]
  },
  {
   "cell_type": "markdown",
   "id": "88e6531d",
   "metadata": {},
   "source": [
    "### Part 3\n",
    " - **Segment stability and contract maintenance**\n",
    "  - In order to establish a maintenance contract for the customer segmentation algorithm, we need to test its stability over time and see, for example, when customers change clusters. To do this, we need to recalculate all the features according to a given period. "
   ]
  },
  {
   "cell_type": "markdown",
   "id": "8419e4c5",
   "metadata": {},
   "source": [
    "## 1.0 Import Libraries"
   ]
  },
  {
   "cell_type": "code",
   "execution_count": 1,
   "id": "a4f65bd2",
   "metadata": {},
   "outputs": [],
   "source": [
    "import pandas as pd # for data loading, manipulation, and exploration\n",
    "import numpy as np # for linear algebra/vector arithmetic\n",
    "from datetime import datetime as dt # Handling dates and timestamps\n",
    "from sklearn.metrics.cluster import adjusted_rand_score\n",
    "from sklearn.preprocessing import StandardScaler, MinMaxScaler, RobustScaler\n",
    "from sklearn.pipeline import make_pipeline, Pipeline\n",
    "from sklearn.compose import ColumnTransformer\n",
    "from sklearn.cluster import KMeans\n",
    "from sklearn import metrics, cluster\n",
    "\n",
    "# statistical data visualization\n",
    "import matplotlib.pyplot as plt \n",
    "import seaborn as sns \n",
    "from matplotlib.ticker import (MultipleLocator,FormatStrFormatter, AutoMinorLocator)\n",
    "\n",
    "import warnings\n",
    "warnings.filterwarnings('ignore')"
   ]
  },
  {
   "cell_type": "markdown",
   "id": "db4b582e",
   "metadata": {},
   "source": [
    "### 2.0 Load dataset"
   ]
  },
  {
   "cell_type": "code",
   "execution_count": 2,
   "id": "7313b219",
   "metadata": {},
   "outputs": [
    {
     "data": {
      "text/html": [
       "<div>\n",
       "<style scoped>\n",
       "    .dataframe tbody tr th:only-of-type {\n",
       "        vertical-align: middle;\n",
       "    }\n",
       "\n",
       "    .dataframe tbody tr th {\n",
       "        vertical-align: top;\n",
       "    }\n",
       "\n",
       "    .dataframe thead th {\n",
       "        text-align: right;\n",
       "    }\n",
       "</style>\n",
       "<table border=\"1\" class=\"dataframe\">\n",
       "  <thead>\n",
       "    <tr style=\"text-align: right;\">\n",
       "      <th></th>\n",
       "      <th>customer_unique_id</th>\n",
       "      <th>order_id</th>\n",
       "      <th>price</th>\n",
       "      <th>freight_value</th>\n",
       "      <th>payment_value</th>\n",
       "      <th>payment_installments</th>\n",
       "      <th>payment_sequential</th>\n",
       "      <th>review_score</th>\n",
       "      <th>purchase_year</th>\n",
       "      <th>purchase_month</th>\n",
       "      <th>last_purchase</th>\n",
       "      <th>delivery_days</th>\n",
       "      <th>delayed_delivery</th>\n",
       "      <th>distance(km)</th>\n",
       "    </tr>\n",
       "  </thead>\n",
       "  <tbody>\n",
       "    <tr>\n",
       "      <th>0</th>\n",
       "      <td>861eff4711a542e4b93843c6dd7febb0</td>\n",
       "      <td>00e7ee1b050b8499577073aeb2a297a1</td>\n",
       "      <td>124.99</td>\n",
       "      <td>21.88</td>\n",
       "      <td>146.87</td>\n",
       "      <td>2.0</td>\n",
       "      <td>1.0</td>\n",
       "      <td>4.0</td>\n",
       "      <td>2017.0</td>\n",
       "      <td>5.0</td>\n",
       "      <td>474</td>\n",
       "      <td>8.0</td>\n",
       "      <td>0.0</td>\n",
       "      <td>348.87</td>\n",
       "    </tr>\n",
       "    <tr>\n",
       "      <th>1</th>\n",
       "      <td>290c77bc529b7ac935b93aa66c333dc3</td>\n",
       "      <td>29150127e6685892b6eab3eec79f59c7</td>\n",
       "      <td>289.00</td>\n",
       "      <td>46.48</td>\n",
       "      <td>335.48</td>\n",
       "      <td>8.0</td>\n",
       "      <td>1.0</td>\n",
       "      <td>5.0</td>\n",
       "      <td>2018.0</td>\n",
       "      <td>1.0</td>\n",
       "      <td>233</td>\n",
       "      <td>16.0</td>\n",
       "      <td>0.0</td>\n",
       "      <td>413.95</td>\n",
       "    </tr>\n",
       "    <tr>\n",
       "      <th>2</th>\n",
       "      <td>060e732b5b29e8181a18229c7b0b2b5e</td>\n",
       "      <td>b2059ed67ce144a36e2aa97d2c9e9ad2</td>\n",
       "      <td>139.94</td>\n",
       "      <td>17.79</td>\n",
       "      <td>157.73</td>\n",
       "      <td>7.0</td>\n",
       "      <td>1.0</td>\n",
       "      <td>5.0</td>\n",
       "      <td>2018.0</td>\n",
       "      <td>5.0</td>\n",
       "      <td>106</td>\n",
       "      <td>26.0</td>\n",
       "      <td>1.0</td>\n",
       "      <td>29.97</td>\n",
       "    </tr>\n",
       "    <tr>\n",
       "      <th>3</th>\n",
       "      <td>259dac757896d24d7702b9acbbff3f3c</td>\n",
       "      <td>951670f92359f4fe4a63112aa7306eba</td>\n",
       "      <td>149.94</td>\n",
       "      <td>23.36</td>\n",
       "      <td>173.30</td>\n",
       "      <td>1.0</td>\n",
       "      <td>1.0</td>\n",
       "      <td>5.0</td>\n",
       "      <td>2018.0</td>\n",
       "      <td>3.0</td>\n",
       "      <td>173</td>\n",
       "      <td>14.0</td>\n",
       "      <td>0.0</td>\n",
       "      <td>18.57</td>\n",
       "    </tr>\n",
       "    <tr>\n",
       "      <th>4</th>\n",
       "      <td>345ecd01c38d18a9036ed96c73b8d066</td>\n",
       "      <td>6b7d50bd145f6fc7f33cebabd7e49d0f</td>\n",
       "      <td>230.00</td>\n",
       "      <td>22.25</td>\n",
       "      <td>252.25</td>\n",
       "      <td>8.0</td>\n",
       "      <td>1.0</td>\n",
       "      <td>5.0</td>\n",
       "      <td>2018.0</td>\n",
       "      <td>7.0</td>\n",
       "      <td>35</td>\n",
       "      <td>11.0</td>\n",
       "      <td>0.0</td>\n",
       "      <td>220.11</td>\n",
       "    </tr>\n",
       "  </tbody>\n",
       "</table>\n",
       "</div>"
      ],
      "text/plain": [
       "                 customer_unique_id                          order_id   price  \\\n",
       "0  861eff4711a542e4b93843c6dd7febb0  00e7ee1b050b8499577073aeb2a297a1  124.99   \n",
       "1  290c77bc529b7ac935b93aa66c333dc3  29150127e6685892b6eab3eec79f59c7  289.00   \n",
       "2  060e732b5b29e8181a18229c7b0b2b5e  b2059ed67ce144a36e2aa97d2c9e9ad2  139.94   \n",
       "3  259dac757896d24d7702b9acbbff3f3c  951670f92359f4fe4a63112aa7306eba  149.94   \n",
       "4  345ecd01c38d18a9036ed96c73b8d066  6b7d50bd145f6fc7f33cebabd7e49d0f  230.00   \n",
       "\n",
       "   freight_value  payment_value  payment_installments  payment_sequential  \\\n",
       "0          21.88         146.87                   2.0                 1.0   \n",
       "1          46.48         335.48                   8.0                 1.0   \n",
       "2          17.79         157.73                   7.0                 1.0   \n",
       "3          23.36         173.30                   1.0                 1.0   \n",
       "4          22.25         252.25                   8.0                 1.0   \n",
       "\n",
       "   review_score  purchase_year  purchase_month  last_purchase  delivery_days  \\\n",
       "0           4.0         2017.0             5.0            474            8.0   \n",
       "1           5.0         2018.0             1.0            233           16.0   \n",
       "2           5.0         2018.0             5.0            106           26.0   \n",
       "3           5.0         2018.0             3.0            173           14.0   \n",
       "4           5.0         2018.0             7.0             35           11.0   \n",
       "\n",
       "   delayed_delivery  distance(km)  \n",
       "0               0.0        348.87  \n",
       "1               0.0        413.95  \n",
       "2               1.0         29.97  \n",
       "3               0.0         18.57  \n",
       "4               0.0        220.11  "
      ]
     },
     "execution_count": 2,
     "metadata": {},
     "output_type": "execute_result"
    }
   ],
   "source": [
    "# import Client_dataset\n",
    "Data = pd.read_csv(\"Command_df2.csv\")\n",
    "\n",
    "# read the dataset\n",
    "Data.head(5)"
   ]
  },
  {
   "cell_type": "code",
   "execution_count": 3,
   "id": "945022e1",
   "metadata": {},
   "outputs": [
    {
     "name": "stdout",
     "output_type": "stream",
     "text": [
      "<class 'pandas.core.frame.DataFrame'>\n",
      "RangeIndex: 94019 entries, 0 to 94018\n",
      "Data columns (total 14 columns):\n",
      " #   Column                Non-Null Count  Dtype  \n",
      "---  ------                --------------  -----  \n",
      " 0   customer_unique_id    94019 non-null  object \n",
      " 1   order_id              94019 non-null  object \n",
      " 2   price                 94019 non-null  float64\n",
      " 3   freight_value         94019 non-null  float64\n",
      " 4   payment_value         94019 non-null  float64\n",
      " 5   payment_installments  94019 non-null  float64\n",
      " 6   payment_sequential    94019 non-null  float64\n",
      " 7   review_score          94019 non-null  float64\n",
      " 8   purchase_year         94019 non-null  float64\n",
      " 9   purchase_month        94019 non-null  float64\n",
      " 10  last_purchase         94019 non-null  int64  \n",
      " 11  delivery_days         94019 non-null  float64\n",
      " 12  delayed_delivery      94019 non-null  float64\n",
      " 13  distance(km)          94019 non-null  float64\n",
      "dtypes: float64(11), int64(1), object(2)\n",
      "memory usage: 10.0+ MB\n"
     ]
    }
   ],
   "source": [
    "Data.info()"
   ]
  },
  {
   "cell_type": "markdown",
   "id": "128730b3",
   "metadata": {},
   "source": [
    "### 3.0 Create data files and build models"
   ]
  },
  {
   "cell_type": "markdown",
   "id": "f0ff62ac",
   "metadata": {},
   "source": [
    " - To determine when customers change clusters, we will iterate the K-Means over the whole period with an interval of 15 days and calculate the ARI score, taking care to compare the same customers (those of the initial 12 months). \n",
    " \n",
    "\n",
    " - Here, I iterate the K-Means cluster two times using at an initial periods of December 31, 2017 and April, 30 2018, first on on the RFM features and second on the RFM + other features used for the clustering and segmentation.\n",
    " \n",
    " \n",
    " - I used RobustScaler to manage skew features"
   ]
  },
  {
   "cell_type": "markdown",
   "id": "6b0ea8eb",
   "metadata": {},
   "source": [
    "#### 3.1 Customers RFM file"
   ]
  },
  {
   "cell_type": "code",
   "execution_count": 4,
   "id": "94967291",
   "metadata": {},
   "outputs": [
    {
     "data": {
      "text/html": [
       "<div>\n",
       "<style scoped>\n",
       "    .dataframe tbody tr th:only-of-type {\n",
       "        vertical-align: middle;\n",
       "    }\n",
       "\n",
       "    .dataframe tbody tr th {\n",
       "        vertical-align: top;\n",
       "    }\n",
       "\n",
       "    .dataframe thead th {\n",
       "        text-align: right;\n",
       "    }\n",
       "</style>\n",
       "<table border=\"1\" class=\"dataframe\">\n",
       "  <thead>\n",
       "    <tr style=\"text-align: right;\">\n",
       "      <th></th>\n",
       "      <th>customer_unique_id</th>\n",
       "      <th>Frequency</th>\n",
       "      <th>Monetary</th>\n",
       "      <th>Recency</th>\n",
       "      <th>purchase_month</th>\n",
       "      <th>purchase_year</th>\n",
       "    </tr>\n",
       "  </thead>\n",
       "  <tbody>\n",
       "    <tr>\n",
       "      <th>0</th>\n",
       "      <td>861eff4711a542e4b93843c6dd7febb0</td>\n",
       "      <td>00e7ee1b050b8499577073aeb2a297a1</td>\n",
       "      <td>146.87</td>\n",
       "      <td>474</td>\n",
       "      <td>5.0</td>\n",
       "      <td>2017.0</td>\n",
       "    </tr>\n",
       "    <tr>\n",
       "      <th>1</th>\n",
       "      <td>290c77bc529b7ac935b93aa66c333dc3</td>\n",
       "      <td>29150127e6685892b6eab3eec79f59c7</td>\n",
       "      <td>335.48</td>\n",
       "      <td>233</td>\n",
       "      <td>1.0</td>\n",
       "      <td>2018.0</td>\n",
       "    </tr>\n",
       "    <tr>\n",
       "      <th>2</th>\n",
       "      <td>060e732b5b29e8181a18229c7b0b2b5e</td>\n",
       "      <td>b2059ed67ce144a36e2aa97d2c9e9ad2</td>\n",
       "      <td>157.73</td>\n",
       "      <td>106</td>\n",
       "      <td>5.0</td>\n",
       "      <td>2018.0</td>\n",
       "    </tr>\n",
       "    <tr>\n",
       "      <th>3</th>\n",
       "      <td>259dac757896d24d7702b9acbbff3f3c</td>\n",
       "      <td>951670f92359f4fe4a63112aa7306eba</td>\n",
       "      <td>173.30</td>\n",
       "      <td>173</td>\n",
       "      <td>3.0</td>\n",
       "      <td>2018.0</td>\n",
       "    </tr>\n",
       "    <tr>\n",
       "      <th>4</th>\n",
       "      <td>345ecd01c38d18a9036ed96c73b8d066</td>\n",
       "      <td>6b7d50bd145f6fc7f33cebabd7e49d0f</td>\n",
       "      <td>252.25</td>\n",
       "      <td>35</td>\n",
       "      <td>7.0</td>\n",
       "      <td>2018.0</td>\n",
       "    </tr>\n",
       "    <tr>\n",
       "      <th>...</th>\n",
       "      <td>...</td>\n",
       "      <td>...</td>\n",
       "      <td>...</td>\n",
       "      <td>...</td>\n",
       "      <td>...</td>\n",
       "      <td>...</td>\n",
       "    </tr>\n",
       "    <tr>\n",
       "      <th>94014</th>\n",
       "      <td>1a29b476fee25c95fbafc67c5ac95cf8</td>\n",
       "      <td>6760e20addcf0121e9d58f2f1ff14298</td>\n",
       "      <td>88.78</td>\n",
       "      <td>148</td>\n",
       "      <td>4.0</td>\n",
       "      <td>2018.0</td>\n",
       "    </tr>\n",
       "    <tr>\n",
       "      <th>94015</th>\n",
       "      <td>d52a67c98be1cf6a5c84435bd38d095d</td>\n",
       "      <td>9ec0c8947d973db4f4e8dcf1fbfa8f1b</td>\n",
       "      <td>129.06</td>\n",
       "      <td>152</td>\n",
       "      <td>4.0</td>\n",
       "      <td>2018.0</td>\n",
       "    </tr>\n",
       "    <tr>\n",
       "      <th>94016</th>\n",
       "      <td>e9f50caf99f032f0bf3c55141f019d99</td>\n",
       "      <td>fed4434add09a6f332ea398efd656a5c</td>\n",
       "      <td>56.04</td>\n",
       "      <td>147</td>\n",
       "      <td>4.0</td>\n",
       "      <td>2018.0</td>\n",
       "    </tr>\n",
       "    <tr>\n",
       "      <th>94017</th>\n",
       "      <td>73c2643a0a458b49f58cea58833b192e</td>\n",
       "      <td>e31ec91cea1ecf97797787471f98a8c2</td>\n",
       "      <td>711.07</td>\n",
       "      <td>303</td>\n",
       "      <td>11.0</td>\n",
       "      <td>2017.0</td>\n",
       "    </tr>\n",
       "    <tr>\n",
       "      <th>94018</th>\n",
       "      <td>84732c5050c01db9b23e19ba39899398</td>\n",
       "      <td>28db69209a75e59f20ccbb5c36a20b90</td>\n",
       "      <td>21.77</td>\n",
       "      <td>257</td>\n",
       "      <td>12.0</td>\n",
       "      <td>2017.0</td>\n",
       "    </tr>\n",
       "  </tbody>\n",
       "</table>\n",
       "<p>94019 rows × 6 columns</p>\n",
       "</div>"
      ],
      "text/plain": [
       "                     customer_unique_id                         Frequency  \\\n",
       "0      861eff4711a542e4b93843c6dd7febb0  00e7ee1b050b8499577073aeb2a297a1   \n",
       "1      290c77bc529b7ac935b93aa66c333dc3  29150127e6685892b6eab3eec79f59c7   \n",
       "2      060e732b5b29e8181a18229c7b0b2b5e  b2059ed67ce144a36e2aa97d2c9e9ad2   \n",
       "3      259dac757896d24d7702b9acbbff3f3c  951670f92359f4fe4a63112aa7306eba   \n",
       "4      345ecd01c38d18a9036ed96c73b8d066  6b7d50bd145f6fc7f33cebabd7e49d0f   \n",
       "...                                 ...                               ...   \n",
       "94014  1a29b476fee25c95fbafc67c5ac95cf8  6760e20addcf0121e9d58f2f1ff14298   \n",
       "94015  d52a67c98be1cf6a5c84435bd38d095d  9ec0c8947d973db4f4e8dcf1fbfa8f1b   \n",
       "94016  e9f50caf99f032f0bf3c55141f019d99  fed4434add09a6f332ea398efd656a5c   \n",
       "94017  73c2643a0a458b49f58cea58833b192e  e31ec91cea1ecf97797787471f98a8c2   \n",
       "94018  84732c5050c01db9b23e19ba39899398  28db69209a75e59f20ccbb5c36a20b90   \n",
       "\n",
       "       Monetary  Recency  purchase_month  purchase_year  \n",
       "0        146.87      474             5.0         2017.0  \n",
       "1        335.48      233             1.0         2018.0  \n",
       "2        157.73      106             5.0         2018.0  \n",
       "3        173.30      173             3.0         2018.0  \n",
       "4        252.25       35             7.0         2018.0  \n",
       "...         ...      ...             ...            ...  \n",
       "94014     88.78      148             4.0         2018.0  \n",
       "94015    129.06      152             4.0         2018.0  \n",
       "94016     56.04      147             4.0         2018.0  \n",
       "94017    711.07      303            11.0         2017.0  \n",
       "94018     21.77      257            12.0         2017.0  \n",
       "\n",
       "[94019 rows x 6 columns]"
      ]
     },
     "execution_count": 4,
     "metadata": {},
     "output_type": "execute_result"
    }
   ],
   "source": [
    "Data_RFM = Data[['customer_unique_id','order_id', 'payment_value', 'last_purchase', 'purchase_month', 'purchase_year']]\n",
    "\n",
    "#Rename columns\n",
    "Data_RFM.rename(columns={'last_purchase':'Recency', 'order_id': 'Frequency', 'payment_value': 'Monetary'}, inplace=True)\n",
    "Data_RFM"
   ]
  },
  {
   "cell_type": "markdown",
   "id": "33613def",
   "metadata": {},
   "source": [
    "#### First Simulation\n",
    " - 4 clusters for RFM features"
   ]
  },
  {
   "cell_type": "markdown",
   "id": "18cef314",
   "metadata": {},
   "source": [
    "***at initial date (T0)***\n",
    "- Use Jan 01 to Dec 31 2017 as the initial file"
   ]
  },
  {
   "cell_type": "code",
   "execution_count": 5,
   "id": "fecfbbaa",
   "metadata": {},
   "outputs": [],
   "source": [
    "# Select all orders in 2017 as initial client_file\n",
    "F_start = Data_RFM[Data_RFM['purchase_year'] == 2017.0]\n",
    "\n",
    "F0 = F_start.groupby('customer_unique_id').agg({'Recency':'min', 'Frequency':'count', 'Monetary': 'sum'}).reset_index()\n",
    "F0 = F0.drop('customer_unique_id', axis = 1)\n",
    "\n",
    "# Standardize features, instantiate and fit the model the initial period on 4 clusters\n",
    "numerical_features = list(F0.columns)\n",
    "preprocessor = ColumnTransformer([('scaler', RobustScaler(), numerical_features)])\n",
    "Km = KMeans(n_clusters = 4, init = 'k-means++', n_init = 10, max_iter = 500, random_state=None, verbose=0)\n",
    "Km_pipe = Pipeline([(\"preprocessor\", preprocessor), (\"kmeans\", Km)])\n",
    "\n",
    "M0 = Km_pipe.fit(F0)\n",
    "#fit the model\n",
    "C0 = M0.fit(F0)"
   ]
  },
  {
   "cell_type": "markdown",
   "id": "c4318df6",
   "metadata": {},
   "source": [
    "***at T1 = T0 + 15 days (15 days period)***"
   ]
  },
  {
   "cell_type": "code",
   "execution_count": 6,
   "id": "1154e253",
   "metadata": {},
   "outputs": [
    {
     "data": {
      "text/plain": [
       "0.9167474440747094"
      ]
     },
     "execution_count": 6,
     "metadata": {},
     "output_type": "execute_result"
    }
   ],
   "source": [
    "# Using a 15 days interval to create each files, T1 = T0 + 15 days = T1(Recency) - 15\n",
    "\n",
    "F0_max = F0['Recency'].max()\n",
    "dT1 = 15\n",
    "dF1 = F0['Recency'].min() - dT1 # negative because recency decreases in days with increasing date\n",
    "F_T1= Data_RFM[(Data_RFM['Recency'] >= dF1) & (Data_RFM['Recency'] <= F0_max)]\n",
    "F1 = F_T1.groupby('customer_unique_id').agg({'Recency':'min', 'Frequency':'count', 'Monetary': 'sum'}).reset_index()\n",
    "F1.drop('customer_unique_id', axis = 1, inplace = True)\n",
    "\n",
    "#Instantiate and fit the model the initial period \n",
    "# Standardize features, instantiate and fit the model the initial period on 4 clusters\n",
    "numerical_features = list(F1.columns)\n",
    "preprocessor = ColumnTransformer([('scaler', RobustScaler(), numerical_features)])\n",
    "Km = KMeans(n_clusters = 4, init = 'k-means++', n_init = 10, max_iter = 500, random_state=None, verbose=0)\n",
    "Km_pipe = Pipeline([(\"preprocessor\", preprocessor), (\"kmeans\", Km)])\n",
    "\n",
    "# Fit the model\n",
    "M1= Km_pipe.fit(F1)\n",
    "C1 = M1.fit(F1)\n",
    "\n",
    "#get the initial clusters\n",
    "C1_init = M0.predict(F1) \n",
    "C1_pred = M1.predict(F1)\n",
    "ari_pred = adjusted_rand_score(C1_init, C1_pred)\n",
    "ari_pred"
   ]
  },
  {
   "cell_type": "markdown",
   "id": "33d9157d",
   "metadata": {},
   "source": [
    "***at T2 = T1 + 15 days (15 days period)***"
   ]
  },
  {
   "cell_type": "code",
   "execution_count": 7,
   "id": "05b9034a",
   "metadata": {},
   "outputs": [
    {
     "data": {
      "text/plain": [
       "0.9890792773033719"
      ]
     },
     "execution_count": 7,
     "metadata": {},
     "output_type": "execute_result"
    }
   ],
   "source": [
    "# Using a 15 days interval to create each files, T2 = T1 + 15 days = T1(Recency) - 15\n",
    "\n",
    "#F0_i = F0['Recency'].max()\n",
    "dT2 = 30\n",
    "dF2 = F0['Recency'].min() - dT2\n",
    "F_T2= Data_RFM[(Data_RFM['Recency'] >= dF2) & (Data_RFM['Recency'] <= F0_max)]\n",
    "F2 = F_T2.groupby('customer_unique_id').agg({'Recency':'min', 'Frequency':'count', 'Monetary': 'sum'}).reset_index()\n",
    "F2.drop('customer_unique_id', axis = 1, inplace = True)\n",
    "\n",
    "#Instantiate and fit the model the initial period \n",
    "# Standardize features, instantiate and fit the model the initial period on 4 clusters\n",
    "numerical_features = list(F2.columns)\n",
    "preprocessor = ColumnTransformer([('scaler', RobustScaler(), numerical_features)])\n",
    "Km = KMeans(n_clusters = 4, init = 'k-means++', n_init = 10, max_iter = 500, random_state=None, verbose=0)\n",
    "Km_pipe = Pipeline([(\"preprocessor\", preprocessor), (\"kmeans\", Km)])\n",
    "\n",
    "# Fit the model\n",
    "M2= Km_pipe.fit(F2)\n",
    "C2 = M2.fit(F2)\n",
    "\n",
    "#get the initial clusters\n",
    "C2_init = M0.predict(F2) #M0.named_steps['kmeans'].labels_\n",
    "C2_pred = M2.predict(F2)\n",
    "ari_pred = adjusted_rand_score(C2_init, C2_pred)\n",
    "ari_pred"
   ]
  },
  {
   "cell_type": "markdown",
   "id": "43faa26b",
   "metadata": {},
   "source": [
    "at T3 = T2 + 15 days (15 days period)"
   ]
  },
  {
   "cell_type": "code",
   "execution_count": 8,
   "id": "f4698958",
   "metadata": {},
   "outputs": [
    {
     "data": {
      "text/plain": [
       "0.9982598284926082"
      ]
     },
     "execution_count": 8,
     "metadata": {},
     "output_type": "execute_result"
    }
   ],
   "source": [
    "F0_max = F0['Recency'].max()\n",
    "dT3 = 45\n",
    "dF3 = F0['Recency'].min() - dT3\n",
    "F_T3 = Data_RFM[(Data_RFM['Recency'] >= dF3) & (Data_RFM['Recency'] <= F0_max)]\n",
    "F3 = F_T3.groupby('customer_unique_id').agg({'Recency':'min', 'Frequency':'count', 'Monetary': 'sum'}).reset_index()\n",
    "F3 = F3.drop('customer_unique_id', axis = 1)\n",
    "    \n",
    "numerical_features = list(F3.columns)\n",
    "preprocessor = ColumnTransformer([('scaler', RobustScaler(), numerical_features)])\n",
    "\n",
    "# create Kmeans model\n",
    "Km = KMeans(n_clusters = 4, init = 'k-means++', n_init = 10, max_iter = 500, random_state=None, verbose=0)\n",
    "\n",
    "# make a pipeline chaining the column transformer and Kmeans\n",
    "Km_pipe = Pipeline([(\"preprocessor\", preprocessor), (\"kmeans\", Km)])\n",
    "    \n",
    "    \n",
    "M3 = Km_pipe.fit(F3)\n",
    "C3 = M3.fit(F3) \n",
    "    \n",
    "C3_init = M0.predict(F3)\n",
    "C3_pred = M3.predict(F3)\n",
    "ari_pred = adjusted_rand_score(C3_init, C3_pred)\n",
    "ari_pred"
   ]
  },
  {
   "cell_type": "markdown",
   "id": "4a6f7220",
   "metadata": {},
   "source": [
    "***Total period (in days) covered from January  to August 2018***\n",
    "   - T0 + n_days"
   ]
  },
  {
   "cell_type": "code",
   "execution_count": 9,
   "id": "1c8e8cbf",
   "metadata": {},
   "outputs": [],
   "source": [
    "def Simulation_RFM(period):\n",
    "    F0_max = F0['Recency'].max()\n",
    "    start = F0['Recency'].min()\n",
    "    Fi = Data_RFM[(Data_RFM['Recency'] >= (start - period)) & (Data_RFM['Recency'] <= F0_max)]\n",
    "    Fi = Fi.groupby('customer_unique_id').agg({'Recency':'min', 'Frequency':'count', 'Monetary': 'sum'}).reset_index()\n",
    "    Fi = Fi.drop('customer_unique_id', axis = 1)\n",
    "    \n",
    "    numerical_features = list(Fi.columns)\n",
    "    preprocessor = ColumnTransformer([('scaler', RobustScaler(), numerical_features)])\n",
    "    Km = KMeans(n_clusters = 4, init = 'k-means++', n_init = 10, max_iter = 500, random_state=None, verbose=0)\n",
    "    Km_pipe = Pipeline([(\"preprocessor\", preprocessor), (\"kmeans\", Km)])\n",
    "    \n",
    "    \n",
    "    Mi = Km_pipe.fit(Fi)\n",
    "    Ci = Mi.fit(Fi) \n",
    "    \n",
    "    Ci_init = M0.predict(Fi)\n",
    "    Ci_pred = Mi.predict(Fi)\n",
    "    \n",
    "    # calculate ARI score\n",
    "    ari_pred = adjusted_rand_score(Ci_init, Ci_pred)\n",
    "    return ari_pred      "
   ]
  },
  {
   "cell_type": "markdown",
   "id": "4d19385c",
   "metadata": {},
   "source": [
    "***Period of coverage (January to August 2018)***"
   ]
  },
  {
   "cell_type": "code",
   "execution_count": 10,
   "id": "fc3e5caa",
   "metadata": {},
   "outputs": [
    {
     "name": "stdout",
     "output_type": "stream",
     "text": [
      "Total number of days covered from January to August 2018 is: 241 days\n"
     ]
    }
   ],
   "source": [
    "# from Jan 1 to August 2018\n",
    "F_2018 = Data_RFM[Data_RFM['purchase_year'] == 2018.0] # select 2018 customer files\n",
    "period_2018 = F_2018['Recency'].max() - F_2018['Recency'].min()\n",
    "print(f\"Total number of days covered from January to August 2018 is: {period_2018} days\")"
   ]
  },
  {
   "cell_type": "code",
   "execution_count": 11,
   "id": "1b737721",
   "metadata": {},
   "outputs": [
    {
     "data": {
      "image/png": "[encoded data removed]",
      "text/plain": [
       "<Figure size 576x432 with 1 Axes>"
      ]
     },
     "metadata": {},
     "output_type": "display_data"
    }
   ],
   "source": [
    "period = np.arange(15, 255, 15) # 15 days interval\n",
    "ari_score = []\n",
    "\n",
    "for x in period:\n",
    "    ari_pred = Simulation_RFM(x)\n",
    "    ari_score.append([x, ari_pred])\n",
    "\n",
    "ari_score_df = pd.DataFrame(ari_score, columns=[\"period\", \"ARI\"])\n",
    "\n",
    "sns.set_style('darkgrid')\n",
    "plt.figure(figsize=(8,6))\n",
    "sns.lineplot(data=ari_score_df, x=\"period\", y=\"ARI\")\n",
    "#plt.plot(period,ari_pred)\n",
    "plt.xlabel('Number of days')\n",
    "plt.title(\"Evolution of ARI - Temporal Cluster Stability\")\n",
    "plt.ylabel('ARI')\n",
    "plt.ylim(0.5,1.1, 0.1)\n",
    "plt.show()"
   ]
  },
  {
   "cell_type": "markdown",
   "id": "d1ed3673",
   "metadata": {},
   "source": [
    "#### Second Simulation\n",
    "- to further explore the temporal stability of the cluster at another initial period"
   ]
  },
  {
   "cell_type": "markdown",
   "id": "f62b0334",
   "metadata": {},
   "source": [
    "***at initial date (T0) of April, 30 2018***"
   ]
  },
  {
   "cell_type": "code",
   "execution_count": 12,
   "id": "a3525825",
   "metadata": {},
   "outputs": [
    {
     "data": {
      "text/html": [
       "<div>\n",
       "<style scoped>\n",
       "    .dataframe tbody tr th:only-of-type {\n",
       "        vertical-align: middle;\n",
       "    }\n",
       "\n",
       "    .dataframe tbody tr th {\n",
       "        vertical-align: top;\n",
       "    }\n",
       "\n",
       "    .dataframe thead th {\n",
       "        text-align: right;\n",
       "    }\n",
       "</style>\n",
       "<table border=\"1\" class=\"dataframe\">\n",
       "  <thead>\n",
       "    <tr style=\"text-align: right;\">\n",
       "      <th></th>\n",
       "      <th>customer_unique_id</th>\n",
       "      <th>Frequency</th>\n",
       "      <th>Monetary</th>\n",
       "      <th>Recency</th>\n",
       "      <th>purchase_month</th>\n",
       "      <th>purchase_year</th>\n",
       "    </tr>\n",
       "  </thead>\n",
       "  <tbody>\n",
       "    <tr>\n",
       "      <th>0</th>\n",
       "      <td>861eff4711a542e4b93843c6dd7febb0</td>\n",
       "      <td>00e7ee1b050b8499577073aeb2a297a1</td>\n",
       "      <td>146.87</td>\n",
       "      <td>474</td>\n",
       "      <td>5.0</td>\n",
       "      <td>2017.0</td>\n",
       "    </tr>\n",
       "    <tr>\n",
       "      <th>1</th>\n",
       "      <td>290c77bc529b7ac935b93aa66c333dc3</td>\n",
       "      <td>29150127e6685892b6eab3eec79f59c7</td>\n",
       "      <td>335.48</td>\n",
       "      <td>233</td>\n",
       "      <td>1.0</td>\n",
       "      <td>2018.0</td>\n",
       "    </tr>\n",
       "    <tr>\n",
       "      <th>3</th>\n",
       "      <td>259dac757896d24d7702b9acbbff3f3c</td>\n",
       "      <td>951670f92359f4fe4a63112aa7306eba</td>\n",
       "      <td>173.30</td>\n",
       "      <td>173</td>\n",
       "      <td>3.0</td>\n",
       "      <td>2018.0</td>\n",
       "    </tr>\n",
       "    <tr>\n",
       "      <th>5</th>\n",
       "      <td>4c93744516667ad3b8f1fb645a3116a4</td>\n",
       "      <td>5741ea1f91b5fbab2bd2dc653a5b5099</td>\n",
       "      <td>282.21</td>\n",
       "      <td>353</td>\n",
       "      <td>9.0</td>\n",
       "      <td>2017.0</td>\n",
       "    </tr>\n",
       "    <tr>\n",
       "      <th>6</th>\n",
       "      <td>addec96d2e059c80c30fe6871d30d177</td>\n",
       "      <td>36e694cf4cbc2a4803200c35e84abdc4</td>\n",
       "      <td>22.77</td>\n",
       "      <td>195</td>\n",
       "      <td>2.0</td>\n",
       "      <td>2018.0</td>\n",
       "    </tr>\n",
       "  </tbody>\n",
       "</table>\n",
       "</div>"
      ],
      "text/plain": [
       "                 customer_unique_id                         Frequency  \\\n",
       "0  861eff4711a542e4b93843c6dd7febb0  00e7ee1b050b8499577073aeb2a297a1   \n",
       "1  290c77bc529b7ac935b93aa66c333dc3  29150127e6685892b6eab3eec79f59c7   \n",
       "3  259dac757896d24d7702b9acbbff3f3c  951670f92359f4fe4a63112aa7306eba   \n",
       "5  4c93744516667ad3b8f1fb645a3116a4  5741ea1f91b5fbab2bd2dc653a5b5099   \n",
       "6  addec96d2e059c80c30fe6871d30d177  36e694cf4cbc2a4803200c35e84abdc4   \n",
       "\n",
       "   Monetary  Recency  purchase_month  purchase_year  \n",
       "0    146.87      474             5.0         2017.0  \n",
       "1    335.48      233             1.0         2018.0  \n",
       "3    173.30      173             3.0         2018.0  \n",
       "5    282.21      353             9.0         2017.0  \n",
       "6     22.77      195             2.0         2018.0  "
      ]
     },
     "execution_count": 12,
     "metadata": {},
     "output_type": "execute_result"
    }
   ],
   "source": [
    "Data_RFM_2 = Data_RFM[Data_RFM['purchase_year'] > 2016.0]\n",
    "F_SS = Data_RFM_2[~((Data_RFM_2['purchase_year'] == 2018.0) & (Data_RFM_2['purchase_month'] > 4.0))]\n",
    "#F_SS = F_SS[F_SS['purchase_year'] > 2016.0] #  - 2017 to April 30, 2018 files\n",
    "F_SS.head()"
   ]
  },
  {
   "cell_type": "code",
   "execution_count": 13,
   "id": "2528c0f6",
   "metadata": {},
   "outputs": [
    {
     "data": {
      "text/plain": [
       "125"
      ]
     },
     "execution_count": 13,
     "metadata": {},
     "output_type": "execute_result"
    }
   ],
   "source": [
    "F_SS['Recency'].min()"
   ]
  },
  {
   "cell_type": "code",
   "execution_count": 14,
   "id": "02533511",
   "metadata": {},
   "outputs": [
    {
     "data": {
      "text/plain": [
       "605"
      ]
     },
     "execution_count": 14,
     "metadata": {},
     "output_type": "execute_result"
    }
   ],
   "source": [
    "F_SS['Recency'].max()"
   ]
  },
  {
   "cell_type": "code",
   "execution_count": 15,
   "id": "7a0387fb",
   "metadata": {},
   "outputs": [],
   "source": [
    "F0_2 = F_SS.groupby('customer_unique_id').agg({'Recency':'min', 'Frequency':'count', 'Monetary': 'sum'}).reset_index()\n",
    "F0_2.drop('customer_unique_id', axis = 1, inplace = True)\n",
    "\n",
    "# Standardize features, instantiate and fit the model the initial period on 4 clusters\n",
    "numerical_features = list(F0_2.columns)\n",
    "preprocessor = ColumnTransformer([('scaler', RobustScaler(), numerical_features)])\n",
    "Km = KMeans(n_clusters = 4, init = 'k-means++', n_init = 10, max_iter = 500, random_state=None, verbose=0)\n",
    "Km_pipe = Pipeline([(\"preprocessor\", preprocessor), (\"kmeans\", Km)])\n",
    "\n",
    "M0_2 = Km_pipe.fit(F0_2)\n",
    "#fit the model\n",
    "C0_2 = M0.fit(F0_2)"
   ]
  },
  {
   "cell_type": "markdown",
   "id": "005b035f",
   "metadata": {},
   "source": [
    "***T1 = T0 + 15***"
   ]
  },
  {
   "cell_type": "code",
   "execution_count": 16,
   "id": "de277d88",
   "metadata": {},
   "outputs": [
    {
     "data": {
      "text/plain": [
       "0.9976990559073033"
      ]
     },
     "execution_count": 16,
     "metadata": {},
     "output_type": "execute_result"
    }
   ],
   "source": [
    "F02_max = F_SS['Recency'].max()\n",
    "dT1 = 15\n",
    "dF1_SS = F0['Recency'].min()-dT1\n",
    "F_T1SS= Data_RFM_2[(Data_RFM_2['Recency'] >= dF1_SS) & (Data_RFM_2['Recency'] <= F02_max)]\n",
    "F1 = F_T1SS.groupby('customer_unique_id').agg({'Recency':'min', 'Frequency':'count', 'Monetary': 'sum'}).reset_index()\n",
    "F1.drop('customer_unique_id', axis = 1, inplace = True)\n",
    "\n",
    "#Instantiate and fit the model the initial period \n",
    "# Standardize features, instantiate and fit the model the initial period on 4 clusters\n",
    "numerical_features = list(F1.columns)\n",
    "preprocessor = ColumnTransformer([('scaler', RobustScaler(), numerical_features)])\n",
    "Km = KMeans(n_clusters = 4, init = 'k-means++', n_init = 10, max_iter = 500, random_state=None, verbose=0)\n",
    "Km_pipe = Pipeline([(\"preprocessor\", preprocessor), (\"kmeans\", Km)])\n",
    "\n",
    "# Fit the model\n",
    "M1= Km_pipe.fit(F1)\n",
    "C1 = M1.fit(F1)\n",
    "#get the initial clusters\n",
    "C1_init = M0.predict(F1) #M0.named_steps['kmeans'].labels_\n",
    "C1_pred = M1.predict(F1)\n",
    "ari_pred = adjusted_rand_score(C1_init, C1_pred)\n",
    "ari_pred"
   ]
  },
  {
   "cell_type": "markdown",
   "id": "c8e82605",
   "metadata": {},
   "source": [
    "***T2 = T1 + 15***"
   ]
  },
  {
   "cell_type": "code",
   "execution_count": 17,
   "id": "96e16ed0",
   "metadata": {},
   "outputs": [
    {
     "data": {
      "text/plain": [
       "0.9144891032747069"
      ]
     },
     "execution_count": 17,
     "metadata": {},
     "output_type": "execute_result"
    }
   ],
   "source": [
    "#F0_i = F0['Recency'].max()\n",
    "dT_SS = 30\n",
    "dF2_SS = F0['Recency'].min()-dT_SS\n",
    "F2= Data_RFM_2[(Data_RFM_2['Recency'] >= dF2_SS) & (Data_RFM_2['Recency'] <= F02_max)]\n",
    "F2 = F2.groupby('customer_unique_id').agg({'Recency':'min', 'Frequency':'count', 'Monetary': 'sum'}).reset_index()\n",
    "F2.drop('customer_unique_id', axis = 1, inplace = True)\n",
    "\n",
    "#Instantiate and fit the model the initial period \n",
    "# Standardize features, instantiate and fit the model the initial period on 4 clusters\n",
    "numerical_features = list(F2.columns)\n",
    "preprocessor = ColumnTransformer([('scaler', RobustScaler(), numerical_features)])\n",
    "Km = KMeans(n_clusters = 4, init = 'k-means++', n_init = 10, max_iter = 500, random_state=None, verbose=0)\n",
    "Km_pipe = Pipeline([(\"preprocessor\", preprocessor), (\"kmeans\", Km)])\n",
    "\n",
    "# Fit the model\n",
    "M2= Km_pipe.fit(F2)\n",
    "C2 = M2.fit(F2)\n",
    "\n",
    "#get the initial clusters\n",
    "C2_init = M0.predict(F2) #M0.named_steps['kmeans'].labels_\n",
    "C2_pred = M2.predict(F2)\n",
    "ari_pred = adjusted_rand_score(C2_init, C2_pred)\n",
    "ari_pred"
   ]
  },
  {
   "cell_type": "code",
   "execution_count": 18,
   "id": "f297553c",
   "metadata": {},
   "outputs": [],
   "source": [
    "def Simulation_RFM(period):\n",
    "    F02_max = F0['Recency'].max()\n",
    "    start = F0['Recency'].min()\n",
    "    Fi = Data_RFM_2[(Data_RFM_2['Recency'] >= (start-period)) & (Data_RFM_2['Recency'] <= F02_max)]\n",
    "    Fi = Fi.groupby('customer_unique_id').agg({'Recency':'min', 'Frequency':'count', 'Monetary': 'sum'}).reset_index()\n",
    "    Fi = Fi.drop('customer_unique_id', axis = 1)\n",
    "    \n",
    "    numerical_features = list(Fi.columns)\n",
    "    preprocessor = ColumnTransformer([('scaler', RobustScaler(), numerical_features)])\n",
    "    Km = KMeans(n_clusters = 4, init = 'k-means++', n_init = 10, max_iter = 500, random_state=None, verbose=0)\n",
    "    Km_pipe = Pipeline([(\"preprocessor\", preprocessor), (\"kmeans\", Km)])\n",
    "    \n",
    "    \n",
    "    Mi = Km_pipe.fit(Fi)\n",
    "    Ci = Mi.fit(Fi) \n",
    "    \n",
    "    Ci_init = M0.predict(Fi)\n",
    "    Ci_pred = Mi.predict(Fi)\n",
    "    \n",
    "    ari_pred = adjusted_rand_score(Ci_init, Ci_pred)\n",
    "    return ari_pred      "
   ]
  },
  {
   "cell_type": "code",
   "execution_count": 19,
   "id": "e40ee91a",
   "metadata": {},
   "outputs": [
    {
     "name": "stdout",
     "output_type": "stream",
     "text": [
      "Total number of days covered from May to August 2018 is: 121 days\n"
     ]
    }
   ],
   "source": [
    "# from May 1 to August 2018\n",
    "period_May = F_2018[F_2018['purchase_month'] >4]\n",
    "days = period_May['Recency'].max() - period_May['Recency'].min()\n",
    "print(f\"Total number of days covered from May to August 2018 is: {days} days\")"
   ]
  },
  {
   "cell_type": "code",
   "execution_count": 20,
   "id": "84dd3cc8",
   "metadata": {},
   "outputs": [
    {
     "data": {
      "image/png": "[encoded data removed]",
      "text/plain": [
       "<Figure size 576x432 with 1 Axes>"
      ]
     },
     "metadata": {},
     "output_type": "display_data"
    }
   ],
   "source": [
    "period = np.arange(15, 121, 15) # 15 days interval\n",
    "ari_score = []\n",
    "\n",
    "for x in period:\n",
    "    ari_pred = Simulation_RFM(x)\n",
    "    ari_score.append([x, ari_pred])\n",
    "\n",
    "ari_score_df = pd.DataFrame(ari_score, columns=[\"period\", \"ARI\"])\n",
    "\n",
    "sns.set_style('darkgrid')\n",
    "plt.figure(figsize=(8,6))\n",
    "sns.lineplot(data=ari_score_df, x=\"period\", y=\"ARI\")\n",
    "plt.xlabel('Number of days')\n",
    "plt.title(\"Evolution of ARI - Temporal Cluster Stability\")\n",
    "plt.ylabel('ARI')\n",
    "plt.ylim(0.5,1.1, 0.1)\n",
    "plt.show()"
   ]
  },
  {
   "cell_type": "markdown",
   "id": "fdb3defc",
   "metadata": {},
   "source": [
    "### 3.2 Customers RFM + other features \n",
    " - applying 5 clusters"
   ]
  },
  {
   "cell_type": "code",
   "execution_count": 21,
   "id": "6049720f",
   "metadata": {},
   "outputs": [
    {
     "data": {
      "text/html": [
       "<div>\n",
       "<style scoped>\n",
       "    .dataframe tbody tr th:only-of-type {\n",
       "        vertical-align: middle;\n",
       "    }\n",
       "\n",
       "    .dataframe tbody tr th {\n",
       "        vertical-align: top;\n",
       "    }\n",
       "\n",
       "    .dataframe thead th {\n",
       "        text-align: right;\n",
       "    }\n",
       "</style>\n",
       "<table border=\"1\" class=\"dataframe\">\n",
       "  <thead>\n",
       "    <tr style=\"text-align: right;\">\n",
       "      <th></th>\n",
       "      <th>customer_unique_id</th>\n",
       "      <th>order_id</th>\n",
       "      <th>payment_value</th>\n",
       "      <th>payment_installments</th>\n",
       "      <th>review_score</th>\n",
       "      <th>purchase_year</th>\n",
       "      <th>purchase_month</th>\n",
       "      <th>last_purchase</th>\n",
       "      <th>delivery_days</th>\n",
       "      <th>distance(km)</th>\n",
       "    </tr>\n",
       "  </thead>\n",
       "  <tbody>\n",
       "    <tr>\n",
       "      <th>0</th>\n",
       "      <td>861eff4711a542e4b93843c6dd7febb0</td>\n",
       "      <td>00e7ee1b050b8499577073aeb2a297a1</td>\n",
       "      <td>146.87</td>\n",
       "      <td>2.0</td>\n",
       "      <td>4.0</td>\n",
       "      <td>2017.0</td>\n",
       "      <td>5.0</td>\n",
       "      <td>474</td>\n",
       "      <td>8.0</td>\n",
       "      <td>348.87</td>\n",
       "    </tr>\n",
       "    <tr>\n",
       "      <th>1</th>\n",
       "      <td>290c77bc529b7ac935b93aa66c333dc3</td>\n",
       "      <td>29150127e6685892b6eab3eec79f59c7</td>\n",
       "      <td>335.48</td>\n",
       "      <td>8.0</td>\n",
       "      <td>5.0</td>\n",
       "      <td>2018.0</td>\n",
       "      <td>1.0</td>\n",
       "      <td>233</td>\n",
       "      <td>16.0</td>\n",
       "      <td>413.95</td>\n",
       "    </tr>\n",
       "    <tr>\n",
       "      <th>2</th>\n",
       "      <td>060e732b5b29e8181a18229c7b0b2b5e</td>\n",
       "      <td>b2059ed67ce144a36e2aa97d2c9e9ad2</td>\n",
       "      <td>157.73</td>\n",
       "      <td>7.0</td>\n",
       "      <td>5.0</td>\n",
       "      <td>2018.0</td>\n",
       "      <td>5.0</td>\n",
       "      <td>106</td>\n",
       "      <td>26.0</td>\n",
       "      <td>29.97</td>\n",
       "    </tr>\n",
       "    <tr>\n",
       "      <th>3</th>\n",
       "      <td>259dac757896d24d7702b9acbbff3f3c</td>\n",
       "      <td>951670f92359f4fe4a63112aa7306eba</td>\n",
       "      <td>173.30</td>\n",
       "      <td>1.0</td>\n",
       "      <td>5.0</td>\n",
       "      <td>2018.0</td>\n",
       "      <td>3.0</td>\n",
       "      <td>173</td>\n",
       "      <td>14.0</td>\n",
       "      <td>18.57</td>\n",
       "    </tr>\n",
       "    <tr>\n",
       "      <th>4</th>\n",
       "      <td>345ecd01c38d18a9036ed96c73b8d066</td>\n",
       "      <td>6b7d50bd145f6fc7f33cebabd7e49d0f</td>\n",
       "      <td>252.25</td>\n",
       "      <td>8.0</td>\n",
       "      <td>5.0</td>\n",
       "      <td>2018.0</td>\n",
       "      <td>7.0</td>\n",
       "      <td>35</td>\n",
       "      <td>11.0</td>\n",
       "      <td>220.11</td>\n",
       "    </tr>\n",
       "  </tbody>\n",
       "</table>\n",
       "</div>"
      ],
      "text/plain": [
       "                 customer_unique_id                          order_id  \\\n",
       "0  861eff4711a542e4b93843c6dd7febb0  00e7ee1b050b8499577073aeb2a297a1   \n",
       "1  290c77bc529b7ac935b93aa66c333dc3  29150127e6685892b6eab3eec79f59c7   \n",
       "2  060e732b5b29e8181a18229c7b0b2b5e  b2059ed67ce144a36e2aa97d2c9e9ad2   \n",
       "3  259dac757896d24d7702b9acbbff3f3c  951670f92359f4fe4a63112aa7306eba   \n",
       "4  345ecd01c38d18a9036ed96c73b8d066  6b7d50bd145f6fc7f33cebabd7e49d0f   \n",
       "\n",
       "   payment_value  payment_installments  review_score  purchase_year  \\\n",
       "0         146.87                   2.0           4.0         2017.0   \n",
       "1         335.48                   8.0           5.0         2018.0   \n",
       "2         157.73                   7.0           5.0         2018.0   \n",
       "3         173.30                   1.0           5.0         2018.0   \n",
       "4         252.25                   8.0           5.0         2018.0   \n",
       "\n",
       "   purchase_month  last_purchase  delivery_days  distance(km)  \n",
       "0             5.0            474            8.0        348.87  \n",
       "1             1.0            233           16.0        413.95  \n",
       "2             5.0            106           26.0         29.97  \n",
       "3             3.0            173           14.0         18.57  \n",
       "4             7.0             35           11.0        220.11  "
      ]
     },
     "execution_count": 21,
     "metadata": {},
     "output_type": "execute_result"
    }
   ],
   "source": [
    "# Get data\n",
    "lst = ['price', 'freight_value', 'delayed_delivery', 'payment_sequential']\n",
    "Data_features = Data.drop(lst, axis = 1)\n",
    "Data_features.head()"
   ]
  },
  {
   "cell_type": "markdown",
   "id": "b81cc284",
   "metadata": {},
   "source": [
    "#### First Simulation"
   ]
  },
  {
   "cell_type": "markdown",
   "id": "becf289c",
   "metadata": {},
   "source": [
    "***at Initial T = 0 (December 31, 2017)***"
   ]
  },
  {
   "cell_type": "code",
   "execution_count": 22,
   "id": "9abeb962",
   "metadata": {},
   "outputs": [
    {
     "data": {
      "text/html": [
       "<div>\n",
       "<style scoped>\n",
       "    .dataframe tbody tr th:only-of-type {\n",
       "        vertical-align: middle;\n",
       "    }\n",
       "\n",
       "    .dataframe tbody tr th {\n",
       "        vertical-align: top;\n",
       "    }\n",
       "\n",
       "    .dataframe thead th {\n",
       "        text-align: right;\n",
       "    }\n",
       "</style>\n",
       "<table border=\"1\" class=\"dataframe\">\n",
       "  <thead>\n",
       "    <tr style=\"text-align: right;\">\n",
       "      <th></th>\n",
       "      <th>customer_unique_id</th>\n",
       "      <th>order_id</th>\n",
       "      <th>payment_value</th>\n",
       "      <th>payment_installments</th>\n",
       "      <th>review_score</th>\n",
       "      <th>purchase_year</th>\n",
       "      <th>purchase_month</th>\n",
       "      <th>last_purchase</th>\n",
       "      <th>delivery_days</th>\n",
       "      <th>distance(km)</th>\n",
       "    </tr>\n",
       "  </thead>\n",
       "  <tbody>\n",
       "    <tr>\n",
       "      <th>0</th>\n",
       "      <td>861eff4711a542e4b93843c6dd7febb0</td>\n",
       "      <td>00e7ee1b050b8499577073aeb2a297a1</td>\n",
       "      <td>146.87</td>\n",
       "      <td>2.0</td>\n",
       "      <td>4.0</td>\n",
       "      <td>2017.0</td>\n",
       "      <td>5.0</td>\n",
       "      <td>474</td>\n",
       "      <td>8.0</td>\n",
       "      <td>348.87</td>\n",
       "    </tr>\n",
       "    <tr>\n",
       "      <th>5</th>\n",
       "      <td>4c93744516667ad3b8f1fb645a3116a4</td>\n",
       "      <td>5741ea1f91b5fbab2bd2dc653a5b5099</td>\n",
       "      <td>282.21</td>\n",
       "      <td>1.0</td>\n",
       "      <td>5.0</td>\n",
       "      <td>2017.0</td>\n",
       "      <td>9.0</td>\n",
       "      <td>353</td>\n",
       "      <td>13.0</td>\n",
       "      <td>409.47</td>\n",
       "    </tr>\n",
       "    <tr>\n",
       "      <th>9</th>\n",
       "      <td>2a7745e1ed516b289ed9b29c7d0539a5</td>\n",
       "      <td>8428e578bb1cf839ae26a6b7615502b9</td>\n",
       "      <td>40.40</td>\n",
       "      <td>1.0</td>\n",
       "      <td>5.0</td>\n",
       "      <td>2017.0</td>\n",
       "      <td>11.0</td>\n",
       "      <td>279</td>\n",
       "      <td>11.0</td>\n",
       "      <td>775.66</td>\n",
       "    </tr>\n",
       "    <tr>\n",
       "      <th>11</th>\n",
       "      <td>918dc87cd72cd9f6ed4bd442ed785235</td>\n",
       "      <td>83d8f70418eefd96f37b483dff430305</td>\n",
       "      <td>117.31</td>\n",
       "      <td>1.0</td>\n",
       "      <td>4.0</td>\n",
       "      <td>2017.0</td>\n",
       "      <td>9.0</td>\n",
       "      <td>358</td>\n",
       "      <td>11.0</td>\n",
       "      <td>227.38</td>\n",
       "    </tr>\n",
       "    <tr>\n",
       "      <th>17</th>\n",
       "      <td>3e6fd6b2f0d499456a6a6820a40f2d79</td>\n",
       "      <td>ab797176e01c2fa3d13aa1fe3e63d9ee</td>\n",
       "      <td>54.62</td>\n",
       "      <td>5.0</td>\n",
       "      <td>4.0</td>\n",
       "      <td>2017.0</td>\n",
       "      <td>11.0</td>\n",
       "      <td>305</td>\n",
       "      <td>30.0</td>\n",
       "      <td>2237.65</td>\n",
       "    </tr>\n",
       "  </tbody>\n",
       "</table>\n",
       "</div>"
      ],
      "text/plain": [
       "                  customer_unique_id                          order_id  \\\n",
       "0   861eff4711a542e4b93843c6dd7febb0  00e7ee1b050b8499577073aeb2a297a1   \n",
       "5   4c93744516667ad3b8f1fb645a3116a4  5741ea1f91b5fbab2bd2dc653a5b5099   \n",
       "9   2a7745e1ed516b289ed9b29c7d0539a5  8428e578bb1cf839ae26a6b7615502b9   \n",
       "11  918dc87cd72cd9f6ed4bd442ed785235  83d8f70418eefd96f37b483dff430305   \n",
       "17  3e6fd6b2f0d499456a6a6820a40f2d79  ab797176e01c2fa3d13aa1fe3e63d9ee   \n",
       "\n",
       "    payment_value  payment_installments  review_score  purchase_year  \\\n",
       "0          146.87                   2.0           4.0         2017.0   \n",
       "5          282.21                   1.0           5.0         2017.0   \n",
       "9           40.40                   1.0           5.0         2017.0   \n",
       "11         117.31                   1.0           4.0         2017.0   \n",
       "17          54.62                   5.0           4.0         2017.0   \n",
       "\n",
       "    purchase_month  last_purchase  delivery_days  distance(km)  \n",
       "0              5.0            474            8.0        348.87  \n",
       "5              9.0            353           13.0        409.47  \n",
       "9             11.0            279           11.0        775.66  \n",
       "11             9.0            358           11.0        227.38  \n",
       "17            11.0            305           30.0       2237.65  "
      ]
     },
     "execution_count": 22,
     "metadata": {},
     "output_type": "execute_result"
    }
   ],
   "source": [
    "DF_F0 = Data_features[Data_features['purchase_year'] == 2017.0]\n",
    "DF_F0.head()"
   ]
  },
  {
   "cell_type": "code",
   "execution_count": 23,
   "id": "b428e519",
   "metadata": {},
   "outputs": [],
   "source": [
    "#Select all orders in 2017 as initial client_file\n",
    "F0 = DF_F0.groupby('customer_unique_id').agg({'order_id':'count', 'payment_value': 'sum','review_score': 'mean', \n",
    "                        'last_purchase':'min', 'payment_installments':'mean', 'delivery_days':'mean', \n",
    "                                           'distance(km)':'mean'}).reset_index()\n",
    "F0.drop('customer_unique_id', axis = 1, inplace = True)\n",
    "\n",
    "#Instantiate and fit the model the initial period on 5 clusters\n",
    "numerical_features = list(F0.columns)\n",
    "preprocessor = ColumnTransformer([('scaler', RobustScaler(), numerical_features)])\n",
    "Km = KMeans(n_clusters = 5, init = 'k-means++', n_init = 10, max_iter = 500, random_state=None, verbose=0)\n",
    "Km_pipe = Pipeline([(\"preprocessor\", preprocessor), (\"kmeans\", Km)])\n",
    "\n",
    "M0 = Km_pipe.fit(F0)\n",
    "#fit the model\n",
    "C0 = M0.fit(F0)"
   ]
  },
  {
   "cell_type": "markdown",
   "id": "d9a45406",
   "metadata": {},
   "source": [
    "***at T1 = T0+15 days***"
   ]
  },
  {
   "cell_type": "code",
   "execution_count": 24,
   "id": "bc8f00de",
   "metadata": {},
   "outputs": [
    {
     "data": {
      "text/plain": [
       "0.9981684281824182"
      ]
     },
     "execution_count": 24,
     "metadata": {},
     "output_type": "execute_result"
    }
   ],
   "source": [
    "# Using a 15 days interval to create each files, T1 = T0 + 15 days = T1(Recency) - 15\n",
    "\n",
    "F0_max2 = F0['last_purchase'].max()\n",
    "dT_1 = 15\n",
    "dF_1 = F0['last_purchase'].min()-dT_1\n",
    "F_T1= Data_features[(Data_features['last_purchase'] >= dF_1) & (Data_features['last_purchase'] <= F0_max2)]\n",
    "F1 = F_T1.groupby('customer_unique_id').agg({'order_id':'count', 'payment_value': 'sum','review_score': 'mean', \n",
    "                        'last_purchase':'min', 'payment_installments':'mean', 'delivery_days':'mean', \n",
    "                                           'distance(km)':'mean'}).reset_index()\n",
    "\n",
    "F1.drop('customer_unique_id', axis = 1, inplace = True)\n",
    "\n",
    "#Instantiate and fit the model the initial period \n",
    "numerical_features = list(F1.columns)\n",
    "preprocessor = ColumnTransformer([('scaler', RobustScaler(), numerical_features)])\n",
    "Km = KMeans(n_clusters = 5, init = 'k-means++', n_init = 10, max_iter = 500, random_state=None, verbose=0)\n",
    "Km_pipe = Pipeline([(\"preprocessor\", preprocessor), (\"kmeans\", Km)])\n",
    "\n",
    "# Fit the model\n",
    "M1= Km_pipe.fit(F1)\n",
    "C1 = M1.fit(F1)\n",
    "\n",
    "#get the initial clusters\n",
    "C1_init = M0.predict(F1) #M0.named_steps['kmeans'].labels_\n",
    "C1_pred = M1.predict(F1)\n",
    "ari_pred = adjusted_rand_score(C1_init, C1_pred)\n",
    "ari_pred"
   ]
  },
  {
   "cell_type": "markdown",
   "id": "0b05e1e7",
   "metadata": {},
   "source": [
    "***at T2 = T1 + 15 days (15 days period)***"
   ]
  },
  {
   "cell_type": "code",
   "execution_count": 25,
   "id": "589f6d15",
   "metadata": {},
   "outputs": [
    {
     "data": {
      "text/plain": [
       "0.9963751208453178"
      ]
     },
     "execution_count": 25,
     "metadata": {},
     "output_type": "execute_result"
    }
   ],
   "source": [
    "F0_max2 = F0['last_purchase'].max()\n",
    "dT2 = 30\n",
    "dF2 = F0['last_purchase'].min()-dT2\n",
    "F_T2= Data_features[(Data_features['last_purchase'] >= dF2) & (Data_features['last_purchase'] <= F0_max2)]\n",
    "F2 = F_T2.groupby('customer_unique_id').agg({'order_id':'count', 'payment_value': 'sum','review_score': 'mean', \n",
    "                        'last_purchase':'min', 'payment_installments':'mean', 'delivery_days':'mean', \n",
    "                                           'distance(km)':'mean'}).reset_index()\n",
    "F2.drop('customer_unique_id', axis = 1, inplace = True)\n",
    "\n",
    "#Instantiate and fit the model the initial period \n",
    "numerical_features = list(F2.columns)\n",
    "preprocessor = ColumnTransformer([('scaler', RobustScaler(), numerical_features)])\n",
    "Km = KMeans(n_clusters = 5, init = 'k-means++', n_init = 10, max_iter = 500, random_state=None, verbose=0)\n",
    "Km_pipe = Pipeline([(\"preprocessor\", preprocessor), (\"kmeans\", Km)])\n",
    "\n",
    "# Fit the model\n",
    "M2= Km_pipe.fit(F2)\n",
    "C2 = M2.fit(F2)\n",
    "\n",
    "#get the initial clusters\n",
    "C2_init = M0.predict(F2) #M0.named_steps['kmeans'].labels_\n",
    "C2_pred = M2.predict(F2)\n",
    "ari_pred = adjusted_rand_score(C2_init, C2_pred)\n",
    "ari_pred"
   ]
  },
  {
   "cell_type": "markdown",
   "id": "795fe5c2",
   "metadata": {},
   "source": [
    "***at Ti = T0 + n days***"
   ]
  },
  {
   "cell_type": "code",
   "execution_count": 26,
   "id": "f10ae16b",
   "metadata": {},
   "outputs": [
    {
     "data": {
      "image/png": "[encoded data removed]",
      "text/plain": [
       "<Figure size 800x600 with 1 Axes>"
      ]
     },
     "metadata": {},
     "output_type": "display_data"
    }
   ],
   "source": [
    "def Simulation_Others(period):\n",
    "    F0_maxi = F0['last_purchase'].max()\n",
    "    start = F0['last_purchase'].min()\n",
    "    Fi = Data_features[(Data_features['last_purchase'] >= (start-period)) & (Data_features['last_purchase'] <= F0_maxi)]\n",
    "    Fi = Fi.groupby('customer_unique_id').agg({'order_id':'count', 'payment_value': 'sum','review_score': 'mean', \n",
    "                        'last_purchase':'min', 'payment_installments':'mean', 'delivery_days':'mean', \n",
    "                                               'distance(km)':'mean'}).reset_index()\n",
    "    Fi = Fi.drop('customer_unique_id', axis = 1)\n",
    "    \n",
    "    numerical_features = list(F0.columns)\n",
    "    preprocessor = ColumnTransformer([('scaler', RobustScaler(), numerical_features)])\n",
    "    Km = KMeans(n_clusters = 5, init = 'k-means++', n_init = 10, max_iter = 500, random_state=None, verbose=0)\n",
    "    Km_pipe = Pipeline([(\"preprocessor\", preprocessor), (\"kmeans\", Km)])\n",
    "\n",
    "        \n",
    "    Mi = Km_pipe.fit(Fi)\n",
    "    Ci = Mi.fit(Fi) \n",
    "    \n",
    "    Ci_init = M0.predict(Fi)\n",
    "    Ci_pred = Mi.predict(Fi)\n",
    "    \n",
    "    ari_pred = adjusted_rand_score(Ci_init, Ci_pred)\n",
    "    return ari_pred       \n",
    "\n",
    "# Get ARI and plot against period\n",
    "period = np.arange(15, 255, 15) # 15 days interval\n",
    "ari_score = []\n",
    "\n",
    "for x in period:\n",
    "    ari_pred = Simulation_Others(x)\n",
    "    ari_score.append([x, ari_pred])\n",
    "\n",
    "ari_score_df = pd.DataFrame(ari_score, columns=[\"period\", \"ARI\"])\n",
    "\n",
    "sns.set_style('darkgrid')\n",
    "plt.figure(figsize=(8,6), dpi = 100)\n",
    "sns.lineplot(data=ari_score_df, x=\"period\", y=\"ARI\")\n",
    "plt.xlabel('Number of days')\n",
    "plt.title(\"Evolution of ARI - Temporal Cluster Stability\")\n",
    "plt.ylabel('ARI')\n",
    "#plt.ylim(0.5,1.1, 0.1)\n",
    "plt.show()"
   ]
  },
  {
   "cell_type": "markdown",
   "id": "320e9333",
   "metadata": {},
   "source": [
    "#### Second Simulations"
   ]
  },
  {
   "cell_type": "markdown",
   "id": "98e0d62b",
   "metadata": {},
   "source": [
    "at initial date (T0) of April, 30 2018"
   ]
  },
  {
   "cell_type": "code",
   "execution_count": 27,
   "id": "e80e7b61",
   "metadata": {},
   "outputs": [
    {
     "data": {
      "text/html": [
       "<div>\n",
       "<style scoped>\n",
       "    .dataframe tbody tr th:only-of-type {\n",
       "        vertical-align: middle;\n",
       "    }\n",
       "\n",
       "    .dataframe tbody tr th {\n",
       "        vertical-align: top;\n",
       "    }\n",
       "\n",
       "    .dataframe thead th {\n",
       "        text-align: right;\n",
       "    }\n",
       "</style>\n",
       "<table border=\"1\" class=\"dataframe\">\n",
       "  <thead>\n",
       "    <tr style=\"text-align: right;\">\n",
       "      <th></th>\n",
       "      <th>customer_unique_id</th>\n",
       "      <th>order_id</th>\n",
       "      <th>payment_value</th>\n",
       "      <th>payment_installments</th>\n",
       "      <th>review_score</th>\n",
       "      <th>purchase_year</th>\n",
       "      <th>purchase_month</th>\n",
       "      <th>last_purchase</th>\n",
       "      <th>delivery_days</th>\n",
       "      <th>distance(km)</th>\n",
       "    </tr>\n",
       "  </thead>\n",
       "  <tbody>\n",
       "    <tr>\n",
       "      <th>0</th>\n",
       "      <td>861eff4711a542e4b93843c6dd7febb0</td>\n",
       "      <td>00e7ee1b050b8499577073aeb2a297a1</td>\n",
       "      <td>146.87</td>\n",
       "      <td>2.0</td>\n",
       "      <td>4.0</td>\n",
       "      <td>2017.0</td>\n",
       "      <td>5.0</td>\n",
       "      <td>474</td>\n",
       "      <td>8.0</td>\n",
       "      <td>348.87</td>\n",
       "    </tr>\n",
       "    <tr>\n",
       "      <th>1</th>\n",
       "      <td>290c77bc529b7ac935b93aa66c333dc3</td>\n",
       "      <td>29150127e6685892b6eab3eec79f59c7</td>\n",
       "      <td>335.48</td>\n",
       "      <td>8.0</td>\n",
       "      <td>5.0</td>\n",
       "      <td>2018.0</td>\n",
       "      <td>1.0</td>\n",
       "      <td>233</td>\n",
       "      <td>16.0</td>\n",
       "      <td>413.95</td>\n",
       "    </tr>\n",
       "    <tr>\n",
       "      <th>3</th>\n",
       "      <td>259dac757896d24d7702b9acbbff3f3c</td>\n",
       "      <td>951670f92359f4fe4a63112aa7306eba</td>\n",
       "      <td>173.30</td>\n",
       "      <td>1.0</td>\n",
       "      <td>5.0</td>\n",
       "      <td>2018.0</td>\n",
       "      <td>3.0</td>\n",
       "      <td>173</td>\n",
       "      <td>14.0</td>\n",
       "      <td>18.57</td>\n",
       "    </tr>\n",
       "    <tr>\n",
       "      <th>5</th>\n",
       "      <td>4c93744516667ad3b8f1fb645a3116a4</td>\n",
       "      <td>5741ea1f91b5fbab2bd2dc653a5b5099</td>\n",
       "      <td>282.21</td>\n",
       "      <td>1.0</td>\n",
       "      <td>5.0</td>\n",
       "      <td>2017.0</td>\n",
       "      <td>9.0</td>\n",
       "      <td>353</td>\n",
       "      <td>13.0</td>\n",
       "      <td>409.47</td>\n",
       "    </tr>\n",
       "    <tr>\n",
       "      <th>6</th>\n",
       "      <td>addec96d2e059c80c30fe6871d30d177</td>\n",
       "      <td>36e694cf4cbc2a4803200c35e84abdc4</td>\n",
       "      <td>22.77</td>\n",
       "      <td>1.0</td>\n",
       "      <td>5.0</td>\n",
       "      <td>2018.0</td>\n",
       "      <td>2.0</td>\n",
       "      <td>195</td>\n",
       "      <td>1.0</td>\n",
       "      <td>4.27</td>\n",
       "    </tr>\n",
       "  </tbody>\n",
       "</table>\n",
       "</div>"
      ],
      "text/plain": [
       "                 customer_unique_id                          order_id  \\\n",
       "0  861eff4711a542e4b93843c6dd7febb0  00e7ee1b050b8499577073aeb2a297a1   \n",
       "1  290c77bc529b7ac935b93aa66c333dc3  29150127e6685892b6eab3eec79f59c7   \n",
       "3  259dac757896d24d7702b9acbbff3f3c  951670f92359f4fe4a63112aa7306eba   \n",
       "5  4c93744516667ad3b8f1fb645a3116a4  5741ea1f91b5fbab2bd2dc653a5b5099   \n",
       "6  addec96d2e059c80c30fe6871d30d177  36e694cf4cbc2a4803200c35e84abdc4   \n",
       "\n",
       "   payment_value  payment_installments  review_score  purchase_year  \\\n",
       "0         146.87                   2.0           4.0         2017.0   \n",
       "1         335.48                   8.0           5.0         2018.0   \n",
       "3         173.30                   1.0           5.0         2018.0   \n",
       "5         282.21                   1.0           5.0         2017.0   \n",
       "6          22.77                   1.0           5.0         2018.0   \n",
       "\n",
       "   purchase_month  last_purchase  delivery_days  distance(km)  \n",
       "0             5.0            474            8.0        348.87  \n",
       "1             1.0            233           16.0        413.95  \n",
       "3             3.0            173           14.0         18.57  \n",
       "5             9.0            353           13.0        409.47  \n",
       "6             2.0            195            1.0          4.27  "
      ]
     },
     "execution_count": 27,
     "metadata": {},
     "output_type": "execute_result"
    }
   ],
   "source": [
    "# drop 2016 data\n",
    "Data_features_2 = Data_features[Data_features['purchase_year'] > 2016.0]\n",
    "\n",
    " #  - 2017 to April 30, 2018 files\n",
    "feat_df = Data_features_2[~((Data_features_2['purchase_year'] == 2018.0) & (Data_features_2['purchase_month'] > 4.0))]\n",
    " \n",
    "feat_df.head()"
   ]
  },
  {
   "cell_type": "code",
   "execution_count": 28,
   "id": "53ac5c65",
   "metadata": {},
   "outputs": [
    {
     "data": {
      "text/plain": [
       "125"
      ]
     },
     "execution_count": 28,
     "metadata": {},
     "output_type": "execute_result"
    }
   ],
   "source": [
    "feat_df['last_purchase'].min()"
   ]
  },
  {
   "cell_type": "code",
   "execution_count": 29,
   "id": "262cac97",
   "metadata": {},
   "outputs": [
    {
     "data": {
      "text/plain": [
       "605"
      ]
     },
     "execution_count": 29,
     "metadata": {},
     "output_type": "execute_result"
    }
   ],
   "source": [
    "feat_df['last_purchase'].max()"
   ]
  },
  {
   "cell_type": "code",
   "execution_count": 30,
   "id": "e40b1e8d",
   "metadata": {},
   "outputs": [],
   "source": [
    "F0_2S = feat_df.groupby('customer_unique_id').agg({'order_id':'count', 'payment_value': 'sum','review_score': 'mean', \n",
    "                        'last_purchase':'min', 'payment_installments':'mean', 'delivery_days':'mean', \n",
    "                                           'distance(km)':'mean'}).reset_index()\n",
    "F0_2S.drop('customer_unique_id', axis = 1, inplace = True)\n",
    "\n",
    "#Instantiate and fit the model the initial period on 5 clusters\n",
    "numerical_features = list(F0_2S.columns)\n",
    "preprocessor = ColumnTransformer([('scaler', RobustScaler(), numerical_features)])\n",
    "Km = KMeans(n_clusters = 5, init = 'k-means++', n_init = 10, max_iter = 500, random_state=None, verbose=0)\n",
    "Km_pipe = Pipeline([(\"preprocessor\", preprocessor), (\"kmeans\", Km)])\n",
    "\n",
    "M0 = Km_pipe.fit(F0_2S)\n",
    "#fit the model\n",
    "C0 = M0.fit(F0_2S)"
   ]
  },
  {
   "cell_type": "markdown",
   "id": "403fa983",
   "metadata": {},
   "source": [
    "***at T1 = T0+15 days***"
   ]
  },
  {
   "cell_type": "code",
   "execution_count": 31,
   "id": "ac6f8d0e",
   "metadata": {},
   "outputs": [
    {
     "data": {
      "text/plain": [
       "1.0"
      ]
     },
     "execution_count": 31,
     "metadata": {},
     "output_type": "execute_result"
    }
   ],
   "source": [
    "F0_2Smax = F0_2S['last_purchase'].max()\n",
    "dT1 = 15\n",
    "dFT1 = F0_2S['last_purchase'].min() - dT1\n",
    "F1_2S= feat_df[(feat_df['last_purchase'] >= dFT1) & (feat_df['last_purchase'] <= F0_2Smax)]\n",
    "F1T1 = F1_2S.groupby('customer_unique_id').agg({'order_id':'count', 'payment_value': 'sum','review_score': 'mean', \n",
    "                        'last_purchase':'min', 'payment_installments':'mean', \n",
    "            'delivery_days':'mean', 'distance(km)':'mean'}).reset_index()\n",
    "F1T1.drop('customer_unique_id', axis = 1, inplace = True)\n",
    "\n",
    "#Instantiate and fit the model the initial period \n",
    "numerical_features = list(F1T1.columns)\n",
    "preprocessor = ColumnTransformer([('scaler', RobustScaler(), numerical_features)])\n",
    "Km = KMeans(n_clusters = 5, init = 'k-means++', n_init = 10, max_iter = 500, random_state=None, verbose=0)\n",
    "Km_pipe = Pipeline([(\"preprocessor\", preprocessor), (\"kmeans\", Km)])\n",
    "\n",
    "# Fit the model\n",
    "M1= Km_pipe.fit(F1T1)\n",
    "C1 = M1.fit(F1T1)\n",
    "\n",
    "#get the initial clusters\n",
    "C1_init = M0.predict(F1T1) #M0.named_steps['kmeans'].labels_\n",
    "C1_pred = M1.predict(F1T1)\n",
    "ari_pred = adjusted_rand_score(C1_init, C1_pred)\n",
    "ari_pred"
   ]
  },
  {
   "cell_type": "code",
   "execution_count": 32,
   "id": "cc743ef3",
   "metadata": {},
   "outputs": [
    {
     "data": {
      "text/plain": [
       "1.0"
      ]
     },
     "execution_count": 32,
     "metadata": {},
     "output_type": "execute_result"
    }
   ],
   "source": [
    "dT2 = 30\n",
    "dFT2 = F0_2S['last_purchase'].min()-dT2\n",
    "F2_2S= feat_df[(feat_df['last_purchase'] >= dFT2) & (feat_df['last_purchase'] <= F0_2Smax)]\n",
    "F2T2 = F2_2S.groupby('customer_unique_id').agg({'order_id':'count', 'payment_value': 'sum','review_score': 'mean', \n",
    "                        'last_purchase':'min', 'payment_installments':'mean', \n",
    "            'delivery_days':'mean', 'distance(km)':'mean'}).reset_index()\n",
    "F2T2.drop('customer_unique_id', axis = 1, inplace = True)\n",
    "\n",
    "#Instantiate and fit the model the initial period \n",
    "numerical_features = list(F2T2.columns)\n",
    "preprocessor = ColumnTransformer([('scaler', RobustScaler(), numerical_features)])\n",
    "Km = KMeans(n_clusters = 5, init = 'k-means++', n_init = 10, max_iter = 500, random_state=None, verbose=0)\n",
    "Km_pipe = Pipeline([(\"preprocessor\", preprocessor), (\"kmeans\", Km)])\n",
    "\n",
    "\n",
    "# Fit the model\n",
    "M2= Km_pipe.fit(F2T2)\n",
    "C2 = M2.fit(F2T2)\n",
    "\n",
    "#get the initial clusters\n",
    "C2_init = M0.predict(F2T2) #M0.named_steps['kmeans'].labels_\n",
    "C2_pred = M2.predict(F2T2)\n",
    "ari_pred = adjusted_rand_score(C2_init, C2_pred)\n",
    "ari_pred"
   ]
  },
  {
   "cell_type": "code",
   "execution_count": 33,
   "id": "1fa1ae02",
   "metadata": {},
   "outputs": [
    {
     "data": {
      "image/png": "[encoded data removed]",
      "text/plain": [
       "<Figure size 800x600 with 1 Axes>"
      ]
     },
     "metadata": {},
     "output_type": "display_data"
    }
   ],
   "source": [
    "def Simulation_Others2(period):\n",
    "    F0_2max = F0_2S['last_purchase'].max()\n",
    "    start = F0_2S['last_purchase'].min()\n",
    "    Fi_nth = feat_df[(feat_df['last_purchase'] >= (start-period)) & (feat_df['last_purchase'] <= F0_2max)]\n",
    "    Fi_2S = Fi_nth.groupby('customer_unique_id').agg({'order_id':'count', 'payment_value': 'sum','review_score': 'mean', \n",
    "                        'last_purchase':'min', 'payment_installments':'mean', 'delivery_days':'mean', \n",
    "                                               'distance(km)':'mean'}).reset_index()\n",
    "    Fi_2S = Fi_2S.drop('customer_unique_id', axis = 1)\n",
    "    \n",
    "    numerical_features = list(Fi_2S.columns)\n",
    "    preprocessor = ColumnTransformer([('scaler', RobustScaler(), numerical_features)])\n",
    "    Km = KMeans(n_clusters = 5, init = 'k-means++', n_init = 10, max_iter = 500, random_state=None, verbose=0)\n",
    "    Km_pipe = Pipeline([(\"preprocessor\", preprocessor), (\"kmeans\", Km)])\n",
    "\n",
    "        \n",
    "    Mi = Km_pipe.fit(Fi_2S)\n",
    "    Ci = Mi.fit(Fi_2S) \n",
    "    \n",
    "    Ci_init = M0.predict(Fi_2S)\n",
    "    Ci_pred = Mi.predict(Fi_2S)\n",
    "    \n",
    "    ari_pred = adjusted_rand_score(Ci_init, Ci_pred)\n",
    "    return ari_pred       \n",
    "\n",
    "# Get ARI and plot against period\n",
    "period = np.arange(15, 121, 15) # 15 days interval\n",
    "ari_score = []\n",
    "\n",
    "for x in period:\n",
    "    ari_pred = Simulation_Others2(x)\n",
    "    ari_score.append([x, ari_pred])\n",
    "\n",
    "ari_score_df = pd.DataFrame(ari_score, columns=[\"period\", \"ARI\"])\n",
    "\n",
    "sns.set_style('darkgrid')\n",
    "plt.figure(figsize=(8,6), dpi = 100)\n",
    "sns.lineplot(data=ari_score_df, x=\"period\", y=\"ARI\")\n",
    "plt.xlabel('Number of days')\n",
    "plt.title(\"Evolution of ARI - Temporal Cluster Stability\")\n",
    "plt.ylabel('ARI')\n",
    "#plt.ylim(0.5,1.1, 0.1)\n",
    "plt.show()"
   ]
  },
  {
   "cell_type": "code",
   "execution_count": 34,
   "id": "130131af",
   "metadata": {},
   "outputs": [
    {
     "data": {
      "text/html": [
       "<div>\n",
       "<style scoped>\n",
       "    .dataframe tbody tr th:only-of-type {\n",
       "        vertical-align: middle;\n",
       "    }\n",
       "\n",
       "    .dataframe tbody tr th {\n",
       "        vertical-align: top;\n",
       "    }\n",
       "\n",
       "    .dataframe thead th {\n",
       "        text-align: right;\n",
       "    }\n",
       "</style>\n",
       "<table border=\"1\" class=\"dataframe\">\n",
       "  <thead>\n",
       "    <tr style=\"text-align: right;\">\n",
       "      <th></th>\n",
       "      <th>period</th>\n",
       "      <th>ARI</th>\n",
       "    </tr>\n",
       "  </thead>\n",
       "  <tbody>\n",
       "    <tr>\n",
       "      <th>0</th>\n",
       "      <td>15</td>\n",
       "      <td>0.935520</td>\n",
       "    </tr>\n",
       "    <tr>\n",
       "      <th>1</th>\n",
       "      <td>30</td>\n",
       "      <td>0.909970</td>\n",
       "    </tr>\n",
       "    <tr>\n",
       "      <th>2</th>\n",
       "      <td>45</td>\n",
       "      <td>1.000000</td>\n",
       "    </tr>\n",
       "    <tr>\n",
       "      <th>3</th>\n",
       "      <td>60</td>\n",
       "      <td>0.999713</td>\n",
       "    </tr>\n",
       "    <tr>\n",
       "      <th>4</th>\n",
       "      <td>75</td>\n",
       "      <td>1.000000</td>\n",
       "    </tr>\n",
       "    <tr>\n",
       "      <th>5</th>\n",
       "      <td>90</td>\n",
       "      <td>0.999713</td>\n",
       "    </tr>\n",
       "    <tr>\n",
       "      <th>6</th>\n",
       "      <td>105</td>\n",
       "      <td>1.000000</td>\n",
       "    </tr>\n",
       "    <tr>\n",
       "      <th>7</th>\n",
       "      <td>120</td>\n",
       "      <td>1.000000</td>\n",
       "    </tr>\n",
       "  </tbody>\n",
       "</table>\n",
       "</div>"
      ],
      "text/plain": [
       "   period       ARI\n",
       "0      15  0.935520\n",
       "1      30  0.909970\n",
       "2      45  1.000000\n",
       "3      60  0.999713\n",
       "4      75  1.000000\n",
       "5      90  0.999713\n",
       "6     105  1.000000\n",
       "7     120  1.000000"
      ]
     },
     "execution_count": 34,
     "metadata": {},
     "output_type": "execute_result"
    }
   ],
   "source": [
    "ari_score_df"
   ]
  },
  {
   "cell_type": "markdown",
   "id": "73ab8390",
   "metadata": {},
   "source": [
    "***Conclusion***\n",
    " - The plots of the ARI scores obtained on the iterations per 15 days period show varying points of inflexions on the RFM and RFM + other features. The clusters are relatively stable in most of the plots (ARI > 0.8), except in the last plot where we notice a strong point of inflexion (ARI < 0.8) after 60 days (2 months) of the initial clients of April 31, 2018 on the RFM+other feature plots. This 60 days period is somehow consistent with the minor inflexion points on the other plots. Therefore, it is advised to maintain the segmentation program and cluster maintainance every 2 months and test the temporal stability of the cluster over time for improvements.  "
   ]
  },
  {
   "cell_type": "code",
   "execution_count": null,
   "id": "725d4697",
   "metadata": {},
   "outputs": [],
   "source": []
  }
 ],
 "metadata": {
  "kernelspec": {
   "display_name": "Python 3 (ipykernel)",
   "language": "python",
   "name": "python3"
  },
  "language_info": {
   "codemirror_mode": {
    "name": "ipython",
    "version": 3
   },
   "file_extension": ".py",
   "mimetype": "text/x-python",
   "name": "python",
   "nbconvert_exporter": "python",
   "pygments_lexer": "ipython3",
   "version": "3.9.15"
  }
 },
 "nbformat": 4,
 "nbformat_minor": 5
}
